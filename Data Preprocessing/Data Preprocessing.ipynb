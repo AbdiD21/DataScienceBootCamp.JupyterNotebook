{
 "cells": [
  {
   "cell_type": "markdown",
   "id": "829c796a",
   "metadata": {},
   "source": [
    "## **What is Data Preprocessing?**"
   ]
  },
  {
   "cell_type": "markdown",
   "id": "0915f16c",
   "metadata": {},
   "source": [
    "***Data preprocessing*** is the process of **transforming** raw data ***into*** a clean, organized format that is suitable for analysis or machine learning. It’s a crucial step because raw data is often incomplete, inconsistent, or contains errors that can negatively affect results.\n",
    "\n",
    "***Data preprocessing*** refers to the `cleaning and transformation` of raw\n",
    "data before feeding it into a machine learning model. It prepares the\n",
    "data to be consistent, accurate, and suitable for analysis.\n",
    "\n",
    "Think of it as “making data ready for AI”.\n"
   ]
  },
  {
   "cell_type": "markdown",
   "id": "cd0d4259",
   "metadata": {},
   "source": [
    "##### Why Is It Important?\n",
    "\n",
    "- Raw data is often messy – contains missing values,\n",
    "duplicates, inconsistent formatting.\n",
    "- ML models expect numerical, clean, and scaled data.\n",
    "- Good preprocessing = Better accuracy, performance &\n",
    "interpretability."
   ]
  }
 ],
 "metadata": {
  "language_info": {
   "name": "python"
  }
 },
 "nbformat": 4,
 "nbformat_minor": 5
}
