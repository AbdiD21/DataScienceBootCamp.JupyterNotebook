{
 "cells": [
  {
   "cell_type": "markdown",
   "id": "3523b6d4",
   "metadata": {},
   "source": [
    "### Introduction to Data Visualization with Matplotlib and Seaborn\n",
    "\n",
    "Data visualization is a critical skill in data analysis and machine learning. It helps you understand your data, identify patterns, and communicate insights effectively. Two popular Python libraries for data visualization are **Matplotlib** and **Seaborn**.\n",
    "\n",
    "---\n",
    "\n",
    "### **1. Matplotlib**\n",
    "Matplotlib is a versatile library for creating static, animated, and interactive visualizations in Python. It provides fine-grained control over plots and is widely used for basic and advanced visualizations.\n",
    "\n",
    "#### **Getting Started with Matplotlib**\n",
    "First, install Matplotlib if you haven't already:\n"
   ]
  },
  {
   "cell_type": "code",
   "execution_count": null,
   "id": "484f790c",
   "metadata": {
    "vscode": {
     "languageId": "bash"
    }
   },
   "outputs": [],
   "source": [
    "pip install matplotlib"
   ]
  },
  {
   "cell_type": "markdown",
   "id": "16e8eebc",
   "metadata": {},
   "source": [
    "\n",
    "\n",
    "#### **Basic Plotting with Matplotlib**\n",
    "Here’s how to create a simple line plot:\n"
   ]
  },
  {
   "cell_type": "code",
   "execution_count": null,
   "id": "2ccaa39c",
   "metadata": {},
   "outputs": [],
   "source": [
    "import matplotlib.pyplot as plt\n",
    "\n",
    "# Data\n",
    "x = [1, 2, 3, 4, 5]\n",
    "y = [2, 4, 6, 8, 10]\n",
    "\n",
    "# Create a line plot\n",
    "plt.plot(x, y)\n",
    "\n",
    "# Add labels and title\n",
    "plt.xlabel('X-axis')\n",
    "plt.ylabel('Y-axis')\n",
    "plt.title('Simple Line Plot')\n",
    "\n",
    "# Show the plot\n",
    "plt.show()"
   ]
  },
  {
   "cell_type": "markdown",
   "id": "d67b2483",
   "metadata": {},
   "source": [
    "\n",
    "\n",
    "---\n",
    "\n",
    "### **2. Seaborn**\n",
    "Seaborn is built on top of Matplotlib and provides a high-level interface for creating attractive and informative statistical graphics. It simplifies the process of creating complex visualizations.\n",
    "\n",
    "#### **Getting Started with Seaborn**\n",
    "First, install Seaborn if you haven't already:\n"
   ]
  },
  {
   "cell_type": "code",
   "execution_count": null,
   "id": "ca7f9752",
   "metadata": {
    "vscode": {
     "languageId": "bash"
    }
   },
   "outputs": [],
   "source": [
    "pip install seaborn"
   ]
  },
  {
   "cell_type": "markdown",
   "id": "253a7971",
   "metadata": {},
   "source": [
    "\n",
    "\n",
    "#### **Basic Plotting with Seaborn**\n",
    "Here’s how to create a simple scatter plot:\n"
   ]
  },
  {
   "cell_type": "code",
   "execution_count": null,
   "id": "a7e230b1",
   "metadata": {},
   "outputs": [],
   "source": [
    "import seaborn as sns\n",
    "import matplotlib.pyplot as plt\n",
    "\n",
    "# Sample data\n",
    "data = {\n",
    "    'x': [1, 2, 3, 4, 5],\n",
    "    'y': [2, 4, 6, 8, 10]\n",
    "}\n",
    "\n",
    "# Create a scatter plot\n",
    "sns.scatterplot(x='x', y='y', data=data)\n",
    "\n",
    "# Add title\n",
    "plt.title('Simple Scatter Plot')\n",
    "\n",
    "# Show the plot\n",
    "plt.show()"
   ]
  },
  {
   "cell_type": "markdown",
   "id": "b1b41b5a",
   "metadata": {},
   "source": [
    "\n",
    "\n",
    "---\n",
    "\n",
    "### **Key Differences Between Matplotlib and Seaborn**\n",
    "| Feature               | Matplotlib                          | Seaborn                              |\n",
    "|-----------------------|-------------------------------------|--------------------------------------|\n",
    "| **Customization**     | Highly customizable                | Simplifies customization            |\n",
    "| **Ease of Use**       | Requires more code for complex plots | High-level API for statistical plots |\n",
    "| **Best For**          | General-purpose plotting            | Statistical data visualization       |\n",
    "\n",
    "---\n",
    "\n",
    "### **Next Steps**\n",
    "1. Learn how to customize plots (e.g., colors, styles, and annotations).\n",
    "2. Explore different types of plots:\n",
    "   - **Matplotlib**: Bar plots, histograms, scatter plots, etc.\n",
    "   - **Seaborn**: Pair plots, heatmaps, box plots, etc.\n",
    "3. Practice with real datasets using **Pandas** and **NumPy**.\n",
    "\n",
    "Let me know if you'd like to dive deeper into any specific topic!\n",
    "\n",
    "Similar code found with 1 license type"
   ]
  }
 ],
 "metadata": {
  "language_info": {
   "name": "python"
  }
 },
 "nbformat": 4,
 "nbformat_minor": 5
}
