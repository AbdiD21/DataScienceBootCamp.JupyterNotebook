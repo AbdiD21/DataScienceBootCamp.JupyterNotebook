{
 "cells": [
  {
   "cell_type": "markdown",
   "id": "1e7f37ae",
   "metadata": {},
   "source": [
    "### NumPy\n",
    "\n",
    "**Why NumPy?**\n",
    "\n",
    "NumPy is the leading Python library for efficiently handling and processing numeric data, making it essential for tasks in data science, machine learning, and deep learning.\n",
    "\n",
    "NumPy is essential for several reasons:\n",
    "\n",
    "1. **Numeric Data Handling**: It provides efficient structures (like arrays) to store and manipulate numerical data, making it ideal for datasets that consist of metrics such as height, weight, and blood pressure.\n",
    "    - Many datasets, such as medical records, contain numerical metrics (e.g height, weight, blood pressure).\n",
    "\n",
    "2. **Deep Learning**: Most machine learning and deep learning algorithms require data in a numeric format. NumPy facilitates the conversion and processing of various data types into numeric arrays that algorithms can work with.\n",
    "    - Most neural networks require numeric data or data that has been converted to a numeric form.\n",
    "\n",
    "3. **Performance(Best Tool for Numeric Data)**: NumPy is highly optimized for numerical computations. Its operations are implemented in C, allowing for faster execution compared to standard Python lists, especially for large datasets.\n",
    "    - NumPy is the most efficient and powerful Python library for handling and processing numeric data.\n"
   ]
  },
  {
   "cell_type": "markdown",
   "id": "d9ff065c",
   "metadata": {},
   "source": [
    "What NumPy does?\n",
    "\n",
    "NumPy ***provides*** several key functionalities:\n",
    "\n",
    "1. Support for Arrays and Matrices: It introduces multidimensional array objects (ndarray) that allow for efficient storage and manipulation of large datasets. These arrays can be one-dimensional (vectors), two-dimensional (matrices), or even higher-dimensional.\n",
    "\n",
    "2. Mathematical Functions: NumPy offers a comprehensive collection of mathematical functions that can perform operations on arrays and matrices. This includes element-wise operations, statistical calculations, linear algebra functions, and more, enabling complex computations with ease."
   ]
  },
  {
   "cell_type": "markdown",
   "id": "daaea92a",
   "metadata": {},
   "source": [
    "What Are NumPy Arrays?\n",
    "\n",
    "NumPy arrays are multidimensional containers that hold data in a grid format, similar to Python lists but with enhanced capabilities. They are specifically optimized for numerical data, allowing for efficient storage and manipulation.\n",
    "\n",
    "Why Use NumPy Arrays?\n",
    "\n",
    "1. Better Performance: NumPy arrays are designed for high performance, offering efficient memory usage and faster computation times compared to standard Python lists. This makes them ideal for large datasets and complex mathematical operations.\n",
    "\n",
    "2. Homogeneous Data Types: Unlike Python lists, which can contain mixed data types, NumPy arrays require all elements to be of the `same` data type. This uniformity allows for more efficient processing and optimized performance during calculations."
   ]
  },
  {
   "cell_type": "markdown",
   "id": "ac9d0bf0",
   "metadata": {},
   "source": [
    "### Ranged Data with `np.arange`\n",
    "\n",
    "The `np.arange()` function generates arrays with evenly spaced values. It works similarly to Python's built-in `range()` function but returns a NumPy array instead of a list.\n",
    "\n",
    "**Syntax**:\n"
   ]
  },
  {
   "cell_type": "code",
   "execution_count": null,
   "id": "d61adc2d",
   "metadata": {},
   "outputs": [],
   "source": [
    "np.arange(start, stop, step)"
   ]
  },
  {
   "cell_type": "markdown",
   "id": "29c7cbc7",
   "metadata": {},
   "source": [
    "\n",
    "\n",
    "- **start**: The starting value of the sequence (inclusive).\n",
    "- **stop**: The end value of the sequence (exclusive).\n",
    "- **step**: The spacing between values (default is 1).\n",
    "\n",
    "---\n",
    "\n",
    "#### **Examples**\n",
    "\n",
    "***Example 1: Generate an array from 0 to 9***\n"
   ]
  },
  {
   "cell_type": "code",
   "execution_count": 2,
   "id": "1954b57c",
   "metadata": {},
   "outputs": [
    {
     "name": "stdout",
     "output_type": "stream",
     "text": [
      "[0 1 2 3 4 5 6 7 8 9]\n"
     ]
    }
   ],
   "source": [
    "import numpy as np\n",
    "\n",
    "# Create an array with values from 0 to 9\n",
    "array = np.arange(0, 10)\n",
    "print(array)\n",
    "# Output: [0 1 2 3 4 5 6 7 8 9]"
   ]
  },
  {
   "cell_type": "markdown",
   "id": "d47e1db9",
   "metadata": {},
   "source": [
    "***Example 2: Generate an array with a step size***\n"
   ]
  },
  {
   "cell_type": "code",
   "execution_count": 3,
   "id": "233b0e2f",
   "metadata": {},
   "outputs": [
    {
     "name": "stdout",
     "output_type": "stream",
     "text": [
      "[1 3 5 7 9]\n"
     ]
    }
   ],
   "source": [
    "# Create an array with values from 1 to 10 with a step size of 2\n",
    "array_step = np.arange(1, 10, 2)\n",
    "print(array_step)\n",
    "# Output: [1 3 5 7 9]"
   ]
  },
  {
   "cell_type": "markdown",
   "id": "3a0dacf0",
   "metadata": {},
   "source": [
    "***Example 3: Generate a range of floating-point ]numbers***"
   ]
  },
  {
   "cell_type": "code",
   "execution_count": null,
   "id": "5922a6ad",
   "metadata": {},
   "outputs": [],
   "source": [
    "# Create an array with floating-point values\n",
    "array_float = np.arange(0, 1, 0.2)\n",
    "print(array_float)\n",
    "# Output: [0.  0.2 0.4 0.6 0.8]"
   ]
  },
  {
   "cell_type": "markdown",
   "id": "b1d21c60",
   "metadata": {},
   "source": [
    "\n",
    "\n",
    "---\n",
    "\n",
    "The `np.arange()` function is particularly useful for creating sequences of numbers for indexing, iteration, or numerical computations."
   ]
  },
  {
   "cell_type": "markdown",
   "id": "b906e1ed",
   "metadata": {},
   "source": [
    "### Ranged Data with `np.linspace`\n",
    "\n",
    "The `np.linspace()` function generates evenly spaced numbers over a specified interval. Unlike `np.arange()`, which uses a step size, `np.linspace()` specifies the number of points to generate.\n",
    "\n",
    "`Evenly spaced numbers mean that the difference between consecutive numbers in the sequence is` ***constant***. `In other words, the numbers are distributed uniformly across the specified interval`\n",
    "\n",
    "#### **Syntax**:\n"
   ]
  },
  {
   "cell_type": "code",
   "execution_count": null,
   "id": "77126ebe",
   "metadata": {},
   "outputs": [],
   "source": [
    "np.linspace(start, stop, num)"
   ]
  },
  {
   "cell_type": "markdown",
   "id": "b6fbb925",
   "metadata": {},
   "source": [
    "\n",
    "\n",
    "- **start**: The starting value of the interval.\n",
    "- **stop**: The end value of the interval.\n",
    "- **num**: The number of evenly spaced points to generate (default is 50).\n",
    "\n",
    "---\n",
    "\n",
    "### **Examples**\n",
    "\n",
    "***Example 1: Generate 5 evenly spaced numbers between 0 and 10***\n"
   ]
  },
  {
   "cell_type": "code",
   "execution_count": 4,
   "id": "a8671f2c",
   "metadata": {},
   "outputs": [
    {
     "name": "stdout",
     "output_type": "stream",
     "text": [
      "[ 0.   2.5  5.   7.5 10. ]\n"
     ]
    }
   ],
   "source": [
    "import numpy as np\n",
    "\n",
    "# Generate 5 evenly spaced numbers between 0 and 10\n",
    "array = np.linspace(0, 10, 5)\n",
    "print(array)\n",
    "# Output: [ 0.   2.5  5.   7.5 10. ]"
   ]
  },
  {
   "cell_type": "markdown",
   "id": "464949cd",
   "metadata": {},
   "source": [
    "***Example 2: Generate 4 evenly spaced numbers between -1 and 1***\n"
   ]
  },
  {
   "cell_type": "code",
   "execution_count": 5,
   "id": "82a105f5",
   "metadata": {},
   "outputs": [
    {
     "name": "stdout",
     "output_type": "stream",
     "text": [
      "[-1.         -0.33333333  0.33333333  1.        ]\n"
     ]
    }
   ],
   "source": [
    "# Generate 4 evenly spaced numbers between -1 and 1\n",
    "array = np.linspace(-1, 1, 4)\n",
    "print(array)\n",
    "# Output: [-1.         -0.33333333  0.33333333  1.        ]"
   ]
  },
  {
   "cell_type": "markdown",
   "id": "c0ac33ce",
   "metadata": {},
   "source": [
    "\n",
    "\n",
    "---\n",
    "\n",
    "The `np.linspace()` function is particularly useful for creating sequences of numbers for plotting, interpolation, or numerical computations."
   ]
  },
  {
   "cell_type": "markdown",
   "id": "88f3f0f1",
   "metadata": {},
   "source": [
    "### Reshaping Data with `np.reshape`\n",
    "\n",
    "The `np.reshape()` function allows you to change the structure of a NumPy array without modifying its data. It is useful for converting arrays into different shapes, such as from 1D to 2D or 3D.\n",
    "\n",
    "#### **Syntax**:\n"
   ]
  },
  {
   "cell_type": "code",
   "execution_count": null,
   "id": "c48b9324",
   "metadata": {},
   "outputs": [],
   "source": [
    "np.reshape(array, new_shape)"
   ]
  },
  {
   "cell_type": "markdown",
   "id": "2658b517",
   "metadata": {},
   "source": [
    "\n",
    "\n",
    "- **array**: The input array to be reshaped.\n",
    "- **new_shape**: A tuple specifying the desired shape. The total number of elements must remain the same.\n",
    "\n",
    "---\n",
    "\n",
    "### **Examples**\n",
    "\n",
    "***Example 1: Reshape a 1D array into a 2D array***\n"
   ]
  },
  {
   "cell_type": "code",
   "execution_count": 6,
   "id": "4e6d3dcd",
   "metadata": {},
   "outputs": [
    {
     "name": "stdout",
     "output_type": "stream",
     "text": [
      "[[1 2 3]\n",
      " [4 5 6]]\n"
     ]
    }
   ],
   "source": [
    "import numpy as np\n",
    "\n",
    "# Create a 1D array\n",
    "array_1d = np.array([1, 2, 3, 4, 5, 6])\n",
    "\n",
    "# Reshape it into a 2D array with 2 rows and 3 columns\n",
    "array_2d = np.reshape(array_1d, (2, 3))\n",
    "print(array_2d)\n",
    "# Output:\n",
    "# [[1 2 3]\n",
    "#  [4 5 6]]"
   ]
  },
  {
   "cell_type": "markdown",
   "id": "ef46a54c",
   "metadata": {},
   "source": [
    "***Example 2: Reshape a 1D array into a 3D array***\n"
   ]
  },
  {
   "cell_type": "code",
   "execution_count": 7,
   "id": "01f580fe",
   "metadata": {},
   "outputs": [
    {
     "name": "stdout",
     "output_type": "stream",
     "text": [
      "[[[1 2 3]]\n",
      "\n",
      " [[4 5 6]]]\n"
     ]
    }
   ],
   "source": [
    "# Reshape it into a 3D array with shape (2, 1, 3)\n",
    "array_3d = np.reshape(array_1d, (2, 1, 3))\n",
    "print(array_3d)\n",
    "# Output:\n",
    "# [[[1 2 3]]\n",
    "#  [[4 5 6]]]"
   ]
  },
  {
   "cell_type": "markdown",
   "id": "e020510a",
   "metadata": {},
   "source": [
    "\n",
    "\n",
    "---\n",
    "\n",
    "### Notes:\n",
    "- The total number of elements in the original array must match the total number of elements in the reshaped array. For example, a 1D array with 6 elements can be reshaped into `(2, 3)` or `(3, 2)` but not `(2, 4)`.\n",
    "- You can use `-1` in one dimension of the new shape to let NumPy automatically calculate its size based on the total number of elements.\n",
    "\n",
    "#### Example with `-1`:\n"
   ]
  },
  {
   "cell_type": "code",
   "execution_count": 8,
   "id": "83d3647b",
   "metadata": {},
   "outputs": [
    {
     "name": "stdout",
     "output_type": "stream",
     "text": [
      "[[1 2]\n",
      " [3 4]\n",
      " [5 6]]\n"
     ]
    }
   ],
   "source": [
    "# Automatically calculate the number of rows\n",
    "array_auto = np.reshape(array_1d, (-1, 2))\n",
    "print(array_auto)\n",
    "# Output:\n",
    "# [[1 2]\n",
    "#  [3 4]\n",
    "#  [5 6]]"
   ]
  },
  {
   "cell_type": "markdown",
   "id": "ad3f4ebd",
   "metadata": {},
   "source": [
    "\n",
    "\n",
    "The `np.reshape()` function is widely used in data preprocessing, machine learning, and numerical computations to organize data into the required structure."
   ]
  },
  {
   "cell_type": "markdown",
   "id": "79e9012a",
   "metadata": {},
   "source": [
    "### Flattening Arrays with `np.flatten()`\n",
    "\n",
    "Flattening transforms multi-dimensional arrays `into` one-dimensional arrays. This is useful when you need to process or analyze data in a linear format.\n",
    "\n",
    "#### **Syntax**:\n"
   ]
  },
  {
   "cell_type": "code",
   "execution_count": null,
   "id": "4153dc02",
   "metadata": {},
   "outputs": [],
   "source": [
    "array.flatten()"
   ]
  },
  {
   "cell_type": "markdown",
   "id": "559b12ed",
   "metadata": {},
   "source": [
    "\n",
    "\n",
    "- **array**: The input NumPy array to be flattened.\n",
    "\n",
    "---\n",
    "\n",
    "### **Examples**\n",
    "\n",
    "***Example 1: Flatten a 2D array***\n"
   ]
  },
  {
   "cell_type": "code",
   "execution_count": 9,
   "id": "1c36f334",
   "metadata": {},
   "outputs": [
    {
     "name": "stdout",
     "output_type": "stream",
     "text": [
      "[1 2 3 4 5 6]\n"
     ]
    }
   ],
   "source": [
    "import numpy as np\n",
    "\n",
    "# Create a 2D array\n",
    "array_2d = np.array([[1, 2, 3], [4, 5, 6]])\n",
    "\n",
    "# Flatten the 2D array into a 1D array\n",
    "array_flattened = array_2d.flatten()\n",
    "print(array_flattened)\n",
    "# Output: [1 2 3 4 5 6]"
   ]
  },
  {
   "cell_type": "markdown",
   "id": "89967ded",
   "metadata": {},
   "source": [
    "***Example 2: Flatten a 3D array***\n"
   ]
  },
  {
   "cell_type": "code",
   "execution_count": 10,
   "id": "906dec1f",
   "metadata": {},
   "outputs": [
    {
     "name": "stdout",
     "output_type": "stream",
     "text": [
      "[1 2 3 4 5 6 7 8]\n"
     ]
    }
   ],
   "source": [
    "# Create a 3D array\n",
    "array_3d = np.array([[[1, 2], [3, 4]], [[5, 6], [7, 8]]])\n",
    "\n",
    "# Flatten the 3D array into a 1D array\n",
    "array_flattened = array_3d.flatten()\n",
    "print(array_flattened)\n",
    "# Output: [1 2 3 4 5 6 7 8]"
   ]
  },
  {
   "cell_type": "markdown",
   "id": "7f7347a3",
   "metadata": {},
   "source": [
    "\n",
    "\n",
    "---\n",
    "\n",
    "The `np.flatten()` method is particularly useful for simplifying data structures for operations that require a single-dimensional array."
   ]
  },
  {
   "cell_type": "markdown",
   "id": "b0fb539b",
   "metadata": {},
   "source": [
    "### Transposing Data with `np.transpose()`\n",
    "\n",
    "Transposing swaps rows and columns in a matrix. It is commonly used in data manipulation and mathematical computations.\n",
    "\n",
    "#### **Syntax**:\n"
   ]
  },
  {
   "cell_type": "code",
   "execution_count": null,
   "id": "941535fe",
   "metadata": {},
   "outputs": [],
   "source": [
    "np.transpose(array)"
   ]
  },
  {
   "cell_type": "markdown",
   "id": "8588b1f9",
   "metadata": {},
   "source": [
    "\n",
    "\n",
    "- **array**: The input NumPy array to be transposed.\n",
    "\n",
    "---\n",
    "\n",
    "### **Examples**\n",
    "\n",
    "***Example 1: Transpose a 2D array***\n"
   ]
  },
  {
   "cell_type": "code",
   "execution_count": 11,
   "id": "1ef61612",
   "metadata": {},
   "outputs": [
    {
     "name": "stdout",
     "output_type": "stream",
     "text": [
      "[[1 4]\n",
      " [2 5]\n",
      " [3 6]]\n"
     ]
    }
   ],
   "source": [
    "import numpy as np\n",
    "\n",
    "# Create a 2D array\n",
    "array_2d = np.array([[1, 2, 3], [4, 5, 6]])\n",
    "\n",
    "# Transpose the 2D array\n",
    "array_transposed = np.transpose(array_2d)\n",
    "print(array_transposed)\n",
    "# Output:\n",
    "# [[1 4]\n",
    "#  [2 5]\n",
    "#  [3 6]]"
   ]
  },
  {
   "cell_type": "markdown",
   "id": "4d076e28",
   "metadata": {},
   "source": [
    "***Example 2: Transpose a 3D array***\n"
   ]
  },
  {
   "cell_type": "code",
   "execution_count": 12,
   "id": "6ba9732d",
   "metadata": {},
   "outputs": [
    {
     "name": "stdout",
     "output_type": "stream",
     "text": [
      "[[[1 2]\n",
      "  [5 6]]\n",
      "\n",
      " [[3 4]\n",
      "  [7 8]]]\n"
     ]
    }
   ],
   "source": [
    "# Create a 3D array\n",
    "array_3d = np.array([[[1, 2], [3, 4]], [[5, 6], [7, 8]]])\n",
    "\n",
    "# Transpose the 3D array (swap axes)\n",
    "array_transposed = np.transpose(array_3d, axes=(1, 0, 2))\n",
    "print(array_transposed)\n",
    "# Output:\n",
    "# [[[1 2]\n",
    "#   [5 6]]\n",
    "#  [[3 4]\n",
    "#   [7 8]]]"
   ]
  },
  {
   "cell_type": "markdown",
   "id": "010f3f73",
   "metadata": {},
   "source": [
    "### Using `np.zeros` and `np.ones`\n",
    "\n",
    "NumPy provides functions to create arrays filled with zeros or ones, which are useful for initializing arrays in various numerical computations.\n",
    "\n",
    "---\n",
    "\n",
    "##### **Creating Arrays Filled with Zeros**\n",
    "\n",
    "#### **Syntax**:\n"
   ]
  },
  {
   "cell_type": "code",
   "execution_count": null,
   "id": "b715cd9d",
   "metadata": {},
   "outputs": [],
   "source": [
    "np.zeros(shape)"
   ]
  },
  {
   "cell_type": "markdown",
   "id": "4e6d007f",
   "metadata": {},
   "source": [
    "\n",
    "\n",
    "- **shape**: A tuple specifying the dimensions of the array.\n",
    "\n",
    "#### **Example**:\n"
   ]
  },
  {
   "cell_type": "code",
   "execution_count": 14,
   "id": "c019d9ce",
   "metadata": {},
   "outputs": [
    {
     "name": "stdout",
     "output_type": "stream",
     "text": [
      "[[0. 0. 0.]\n",
      " [0. 0. 0.]]\n"
     ]
    }
   ],
   "source": [
    "import numpy as np\n",
    "\n",
    "# Create a 2x3 array filled with zeros\n",
    "array_zeros = np.zeros((2, 3))\n",
    "print(array_zeros)\n",
    "# Output:\n",
    "# [[0. 0. 0.]\n",
    "#  [0. 0. 0.]]"
   ]
  },
  {
   "cell_type": "markdown",
   "id": "56c46b8f",
   "metadata": {},
   "source": [
    "\n",
    "\n",
    "---\n",
    "\n",
    "##### **Creating Arrays Filled with Ones**\n",
    "\n",
    "#### **Syntax**:\n"
   ]
  },
  {
   "cell_type": "code",
   "execution_count": null,
   "id": "2443dc1a",
   "metadata": {},
   "outputs": [],
   "source": [
    "np.ones(shape)"
   ]
  },
  {
   "cell_type": "markdown",
   "id": "3e694377",
   "metadata": {},
   "source": [
    "\n",
    "\n",
    "- **shape**: A tuple specifying the dimensions of the array.\n",
    "\n",
    "#### **Example**:\n"
   ]
  },
  {
   "cell_type": "code",
   "execution_count": 13,
   "id": "8ecae3f8",
   "metadata": {},
   "outputs": [
    {
     "name": "stdout",
     "output_type": "stream",
     "text": [
      "[[1. 1.]\n",
      " [1. 1.]\n",
      " [1. 1.]]\n"
     ]
    }
   ],
   "source": [
    "# Create a 3x2 array filled with ones\n",
    "array_ones = np.ones((3, 2))\n",
    "print(array_ones)\n",
    "# Output:\n",
    "# [[1. 1.]\n",
    "#  [1. 1.]\n",
    "#  [1. 1.]]"
   ]
  },
  {
   "cell_type": "markdown",
   "id": "ef9543e7",
   "metadata": {},
   "source": [
    "\n",
    "\n",
    "---\n",
    "\n",
    "These functions are particularly useful for creating placeholder arrays or initializing weights in machine learning models."
   ]
  },
  {
   "cell_type": "markdown",
   "id": "a1803ef1",
   "metadata": {},
   "source": [
    "\n",
    "\n",
    "---\n",
    "\n",
    "The `np.transpose()` function is particularly useful for reshaping data for analysis, machine learning, or mathematical operations."
   ]
  }
 ],
 "metadata": {
  "kernelspec": {
   "display_name": "Python 3",
   "language": "python",
   "name": "python3"
  },
  "language_info": {
   "codemirror_mode": {
    "name": "ipython",
    "version": 3
   },
   "file_extension": ".py",
   "mimetype": "text/x-python",
   "name": "python",
   "nbconvert_exporter": "python",
   "pygments_lexer": "ipython3",
   "version": "3.13.2"
  }
 },
 "nbformat": 4,
 "nbformat_minor": 5
}
