{
 "cells": [
  {
   "cell_type": "markdown",
   "id": "70b2371a",
   "metadata": {},
   "source": [
    "# ***\"Don't Stop When You're Tired Stop When You're Done\"***"
   ]
  },
  {
   "cell_type": "markdown",
   "id": "3108fd26",
   "metadata": {},
   "source": [
    "### Introduction to Basic ML Concepts"
   ]
  }
 ],
 "metadata": {
  "language_info": {
   "name": "python"
  }
 },
 "nbformat": 4,
 "nbformat_minor": 5
}
