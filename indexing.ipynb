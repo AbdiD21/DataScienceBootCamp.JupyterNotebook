{
 "cells": [
  {
   "cell_type": "markdown",
   "id": "5f55ce37",
   "metadata": {},
   "source": [
    "## Numpy Array Indexing\n",
    "\n",
    "In NumPy, each element in an array is associated with a number. The number is known as an array index."
   ]
  },
  {
   "cell_type": "code",
   "execution_count": 2,
   "id": "06fd27b9",
   "metadata": {},
   "outputs": [
    {
     "name": "stdout",
     "output_type": "stream",
     "text": [
      "1\n",
      "3\n",
      "5\n",
      "7\n",
      "9\n"
     ]
    }
   ],
   "source": [
    "import numpy as np\n",
    "\n",
    "array1 = np.array([1,3,5,7,9])\n",
    "\n",
    "# access numpy elements using index\n",
    "print(array1[0])  # 1st element\n",
    "print(array1[1])  # 2nd element\n",
    "print(array1[2])  # 3rd element\n",
    "print(array1[3])  # 4th element\n",
    "print(array1[4])  # 5th element"
   ]
  },
  {
   "cell_type": "markdown",
   "id": "960c2f93",
   "metadata": {},
   "source": [
    "Note: Since the last element of array1 is at index 4, if we try to access the element beyond that, say index 5, we will get an index error: IndexError: index 5 is out of bounds for axis 0 with size 5"
   ]
  },
  {
   "cell_type": "markdown",
   "id": "96367433",
   "metadata": {},
   "source": [
    "### Modify Array Elements Using Index\n",
    "We can use indices to change the value of an element in a NumPy array.  For example,"
   ]
  },
  {
   "cell_type": "code",
   "execution_count": 3,
   "id": "151bf352",
   "metadata": {},
   "outputs": [
    {
     "name": "stdout",
     "output_type": "stream",
     "text": [
      "After modifying first element: [12  4  6  8 10]\n",
      "After modifying third element: [12  4 14  8 10]\n"
     ]
    }
   ],
   "source": [
    "import numpy as np\n",
    "\n",
    "# create a numpy array\n",
    "numbers = np.array([2, 4, 6, 8, 10])\n",
    "\n",
    "# change the value of the first element\n",
    "numbers[0] = 12\n",
    "print(\"After modifying first element:\",numbers)    # prints [12 4 6 8 10]\n",
    "\n",
    "# change the value of the third element\n",
    "numbers[2] = 14\n",
    "print(\"After modifying third element:\",numbers)    # prints [12 4 14 8 10]"
   ]
  },
  {
   "cell_type": "markdown",
   "id": "5c3d41cf",
   "metadata": {},
   "source": [
    "In the above example, we have modified elements of the numbers array using array indexing.\n",
    "\n",
    "numbers[0] = 12 - modifies the first element of numbers and sets its value to 12\n",
    "numbers[2] = 14 - modifies the third element of numbers and sets its value to 14"
   ]
  },
  {
   "cell_type": "markdown",
   "id": "816c530e",
   "metadata": {},
   "source": [
    "### NumPy Negative Array Indexing\n",
    "NumPy allows negative indexing for its array. The index of -1 refers to the last item, -2 to the second last item and so on."
   ]
  },
  {
   "cell_type": "code",
   "execution_count": 1,
   "id": "4138af67",
   "metadata": {},
   "outputs": [
    {
     "name": "stdout",
     "output_type": "stream",
     "text": [
      "9\n",
      "7\n"
     ]
    }
   ],
   "source": [
    "import numpy as np\n",
    "\n",
    "# create a numpy array\n",
    "numbers = np.array([1, 3, 5, 7, 9])\n",
    "\n",
    "# access the last element\n",
    "print(numbers[-1])    # prints 9\n",
    "\n",
    "# access the second-to-last element\n",
    "print(numbers[-2])    # prints 7"
   ]
  },
  {
   "cell_type": "markdown",
   "id": "d38eaa33",
   "metadata": {},
   "source": [
    "### Modify Array Elements Using Negative Indexing \n",
    "Similar to regular indexing, we can also modify array elements using negative indexing. For example,"
   ]
  },
  {
   "cell_type": "code",
   "execution_count": 2,
   "id": "dc9d192d",
   "metadata": {},
   "outputs": [
    {
     "name": "stdout",
     "output_type": "stream",
     "text": [
      "[ 2  3  5  7 13]\n",
      "[ 2  3  5 17 13]\n"
     ]
    }
   ],
   "source": [
    "import numpy as np\n",
    "\n",
    "# create a numpy array\n",
    "numbers = np.array([2, 3, 5, 7, 11])\n",
    "\n",
    "# modify the last element\n",
    "numbers[-1] = 13\n",
    "print(numbers)    # Output: [2 3 5 7 13]\n",
    "\n",
    "# modify the second-to-last element\n",
    "numbers[-2] = 17\n",
    "print(numbers)    # Output: [2 3 5 17 13]"
   ]
  },
  {
   "cell_type": "markdown",
   "id": "90aa1ba7",
   "metadata": {},
   "source": [
    "Here, numbers[-1] = 13 modifies the last element to 13 and numbers[-2] = 17 modifies the second-to-last element to 17.\n",
    "\n",
    "Note: Unlike regular indexing, negative indexing starts from -1 (not 0) and it starts counting from the end of the array."
   ]
  },
  {
   "cell_type": "markdown",
   "id": "55721d19",
   "metadata": {},
   "source": [
    "### 2-D NumPy Array Indexing\n",
    "Array indexing in NumPy allows us to **access** and manipulate elements in a 2-D array.\n",
    "\n",
    "To access an element of array1, we need to specify the row index and column index of the element. Suppose we have following 2-D array,"
   ]
  },
  {
   "cell_type": "code",
   "execution_count": 3,
   "id": "e19abcf1",
   "metadata": {},
   "outputs": [],
   "source": [
    "array1 = np.array([[1, 3, 5], \n",
    "                     [7, 9, 2], \n",
    "                     [4, 6, 8]])"
   ]
  },
  {
   "cell_type": "markdown",
   "id": "79cd2e18",
   "metadata": {},
   "source": [
    "Now, say we want to access the element in the third row and second column we specify the index as:"
   ]
  },
  {
   "cell_type": "code",
   "execution_count": 4,
   "id": "4d8bd547",
   "metadata": {},
   "outputs": [
    {
     "data": {
      "text/plain": [
       "np.int64(6)"
      ]
     },
     "execution_count": 4,
     "metadata": {},
     "output_type": "execute_result"
    }
   ],
   "source": [
    "array1[2, 1] # returns 6"
   ]
  },
  {
   "cell_type": "markdown",
   "id": "c086de6c",
   "metadata": {},
   "source": [
    "Since we know indexing starts ***from 0***. So to access the element in the third row and second column, we need to use index 2 for the third row and index 1 for the second column respectively.\n",
    "#### Example: 2-D NumPy Array Indexing"
   ]
  },
  {
   "cell_type": "code",
   "execution_count": 5,
   "id": "11f452e4",
   "metadata": {},
   "outputs": [
    {
     "name": "stdout",
     "output_type": "stream",
     "text": [
      "4th Element at 2nd Row: 15\n",
      "2nd Element at First Row: 3\n"
     ]
    }
   ],
   "source": [
    "import numpy as np\n",
    "\n",
    "# create a 2D array \n",
    "array1 = np.array([[1, 3, 5, 7], \n",
    "                       [9, 11, 13, 15],\n",
    "                       [2, 4, 6, 8]])\n",
    "\n",
    "\n",
    "# access the element at the second row and fourth column\n",
    "element1 = array1[1, 3]  # returns 15\n",
    "print(\"4th Element at 2nd Row:\",element1)  \n",
    "\n",
    "# access the element at the first row and second column\n",
    "element2 = array1[0, 1]  # returns 3\n",
    "print(\"2nd Element at First Row:\",element2)  "
   ]
  },
  {
   "cell_type": "markdown",
   "id": "49253818",
   "metadata": {},
   "source": [
    "### Access Row or Column of 2D Array Using Indexing"
   ]
  },
  {
   "cell_type": "markdown",
   "id": "f2273284",
   "metadata": {},
   "source": [
    "In NumPy, we can access specific rows or columns of a 2-D array using array indexing.\n",
    "\n",
    "Let's see an example."
   ]
  },
  {
   "cell_type": "code",
   "execution_count": 6,
   "id": "a9eb0460",
   "metadata": {},
   "outputs": [
    {
     "name": "stdout",
     "output_type": "stream",
     "text": [
      "Second Row: [7 9 2]\n",
      "Third Column: [5 2 8]\n"
     ]
    }
   ],
   "source": [
    "import numpy as np\n",
    "\n",
    "# create a 2D array \n",
    "array1 = np.array([[1, 3, 5], \n",
    "             [7, 9, 2], \n",
    "             [4, 6, 8]])\n",
    "\n",
    "# access the second row of the array\n",
    "second_row = array1[1, :]\n",
    "print(\"Second Row:\", second_row)  # Output: [7 9 2]\n",
    "\n",
    "# access the third column of the array\n",
    "third_col = array1[:, 2]\n",
    "print(\"Third Column:\", third_col)  # Output: [5 2 8]"
   ]
  },
  {
   "cell_type": "markdown",
   "id": "0260ea74",
   "metadata": {},
   "source": [
    "Here,\n",
    "\n",
    "array1[1, :] - access the second row of array1\n",
    "\n",
    "array1[:, 2] - access the third column of array1"
   ]
  },
  {
   "cell_type": "markdown",
   "id": "de402003",
   "metadata": {},
   "source": [
    "### 3-D NumPy Array Indexing\n",
    "We can also access elements in higher dimensional arrays.\n",
    "\n",
    "To access an element of a 3D array, we use ***three indices*** separated by commas.\n",
    "\n",
    "The first index refers to the slice\n",
    "The second index refers to the row\n",
    "The third index refers to the column.\n",
    "Note: In 3D arrays, slice is a 2D array that is obtained by taking a subset of the elements in one of the dimensions.\n",
    "\n",
    "Let's see an example."
   ]
  },
  {
   "cell_type": "code",
   "execution_count": 12,
   "id": "d71a5cf3",
   "metadata": {},
   "outputs": [
    {
     "name": "stdout",
     "output_type": "stream",
     "text": [
      "[[[ 1  2  3  4]\n",
      "  [ 5  6  7  8]\n",
      "  [ 9 10 11 12]]\n",
      "\n",
      " [[13 14 15 16]\n",
      "  [17 18 19 20]\n",
      "  [21 22 23 24]]]\n",
      "(2, 3, 4)\n",
      "22\n"
     ]
    }
   ],
   "source": [
    "import numpy as np\n",
    "\n",
    "# create a 3D array with shape (2, 3, 4)\n",
    "array1 = np.array([[[1, 2, 3, 4], \n",
    "                   [5, 6, 7, 8], \n",
    "                   [9, 10, 11, 12]],\n",
    "                     \n",
    "                    [[13, 14, 15, 16], \n",
    "                    [17, 18, 19, 20], \n",
    "                    [21, 22, 23, 24]]])\n",
    "\n",
    "\n",
    "print(array1)\n",
    "print(array1.shape)  # Output: (2, 3, 4)\n",
    "\n",
    "# access a specific element of the array\n",
    "element = array1[1, 2, 1]\n",
    "\n",
    "# print the value of the element\n",
    "print(element) \n",
    " \n",
    "# Output: 22"
   ]
  },
  {
   "cell_type": "markdown",
   "id": "bfba7a2f",
   "metadata": {},
   "source": [
    "Here, we created a 3D array called array1 with shape (2, 3, 4). This array ***contains*** 2 ***2D arrays***, each with ***3 rows*** and ***4 columns***.\n",
    "\n",
    "Then, we used indexing to access a specific element of array1. Notice the code,"
   ]
  },
  {
   "cell_type": "code",
   "execution_count": 13,
   "id": "f4a4bb86",
   "metadata": {},
   "outputs": [
    {
     "data": {
      "text/plain": [
       "np.int64(22)"
      ]
     },
     "execution_count": 13,
     "metadata": {},
     "output_type": "execute_result"
    }
   ],
   "source": [
    "array1[1, 2, 1]"
   ]
  },
  {
   "cell_type": "markdown",
   "id": "e622294b",
   "metadata": {},
   "source": [
    "Here,\n",
    "\n",
    "array1[1, , ,] - access the second 2D array, i.e."
   ]
  },
  {
   "cell_type": "code",
   "execution_count": 14,
   "id": "31000842",
   "metadata": {},
   "outputs": [
    {
     "data": {
      "text/plain": [
       "[21, 22, 23, 24]"
      ]
     },
     "execution_count": 14,
     "metadata": {},
     "output_type": "execute_result"
    }
   ],
   "source": [
    "[13, 14, 15, 16], \n",
    "[17, 18, 19, 20], \n",
    "[21, 22, 23, 24]"
   ]
  },
  {
   "cell_type": "markdown",
   "id": "10b6cd5f",
   "metadata": {},
   "source": [
    "array1[ ,2, ] - access the third row of the 2D array, i.e."
   ]
  },
  {
   "cell_type": "code",
   "execution_count": 15,
   "id": "87917f72",
   "metadata": {},
   "outputs": [
    {
     "data": {
      "text/plain": [
       "[21, 22, 23, 24]"
      ]
     },
     "execution_count": 15,
     "metadata": {},
     "output_type": "execute_result"
    }
   ],
   "source": [
    "[21, 22, 23, 24]"
   ]
  },
  {
   "cell_type": "markdown",
   "id": "c412d788",
   "metadata": {},
   "source": [
    "array1[ , ,1] - access the second element of the third row, i.e."
   ]
  },
  {
   "cell_type": "code",
   "execution_count": 16,
   "id": "b25a44f1",
   "metadata": {},
   "outputs": [
    {
     "data": {
      "text/plain": [
       "[22]"
      ]
     },
     "execution_count": 16,
     "metadata": {},
     "output_type": "execute_result"
    }
   ],
   "source": [
    "[22]"
   ]
  }
 ],
 "metadata": {
  "kernelspec": {
   "display_name": "Python 3",
   "language": "python",
   "name": "python3"
  },
  "language_info": {
   "codemirror_mode": {
    "name": "ipython",
    "version": 3
   },
   "file_extension": ".py",
   "mimetype": "text/x-python",
   "name": "python",
   "nbconvert_exporter": "python",
   "pygments_lexer": "ipython3",
   "version": "3.13.2"
  }
 },
 "nbformat": 4,
 "nbformat_minor": 5
}
