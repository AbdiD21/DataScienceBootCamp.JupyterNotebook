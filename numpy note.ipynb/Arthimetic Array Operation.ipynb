{
 "cells": [
  {
   "cell_type": "markdown",
   "id": "4f384e8b",
   "metadata": {},
   "source": [
    "## NumPy Arithmetic Array Operations\n",
    "NumPy provides a wide range of operations that can perform on arrays, including arithmetic operations.\n",
    "\n",
    "NumPy's arithmetic operations are widely used due to their ability to perform simple and efficient calculations on arrays.\n",
    "\n",
    "In this tutorial, we will explore some commonly used arithmetic operations in NumPy and learn how to use them to manipulate arrays.\n",
    "\n",
    "### List of Arithmetic Operations\n",
    "Here's a list of various arithmetic operations along with their associated operators and **built-in** functions:\n",
    "\n",
    "        Element-wise Operation\t    Operator\t       Function\n",
    "        Addition\t                +\t         add()\n",
    "        Subtraction\t                -\t         subtract()\n",
    "        Multiplication\t                *\t         multiply()\n",
    "        Division\t                /\t         divide()\n",
    "        Exponentiation\t                **\t         power()\n",
    "        Modulus\t                        %\t         mod()\n",
    "\n",
    "To perform each operation, we can either use the associated operator or built-in functions. For example, **to perform addition**, we can either use the + operator or the add() built-in function.\n",
    "\n",
    "Next, we will see examples of each of these operations.\n",
    "\n",
    "### NumPy Array Element-Wise Addition\n",
    "As mentioned earlier, we can use the both + operator and the built-in function add() to perform element-wise addition between two NumPy arrays. For example,"
   ]
  },
  {
   "cell_type": "code",
   "execution_count": 1,
   "id": "275e0952",
   "metadata": {},
   "outputs": [
    {
     "name": "stdout",
     "output_type": "stream",
     "text": [
      "Using the + operator: [ 3  7 11 15]\n",
      "Using the add() function: [ 3  7 11 15]\n"
     ]
    }
   ],
   "source": [
    "import numpy as np\n",
    "\n",
    "first_array = np.array([1, 3, 5, 7])\n",
    "second_array = np.array([2, 4, 6, 8])\n",
    "\n",
    "# using the + operator\n",
    "result1 = first_array + second_array\n",
    "print(\"Using the + operator:\",result1) \n",
    "\n",
    "# using the add() function\n",
    "result2 = np.add(first_array, second_array)\n",
    "print(\"Using the add() function:\",result2) "
   ]
  },
  {
   "cell_type": "markdown",
   "id": "203d23b4",
   "metadata": {},
   "source": [
    "In the above example, first we created two arrays named: first_array and second_array.\n",
    "\n",
    "Then, we used the + operator and the add() function to perform element-wise addition respectively.\n",
    "\n",
    "As we can see, both + and add() give the same result.\n",
    "\n",
    "### NumPy Array Element-Wise Subtraction\n",
    "In NumPy, we can either use the - operator or the subtract() function to perform element-wise subtraction between two NumPy arrays. For example,"
   ]
  },
  {
   "cell_type": "code",
   "execution_count": 3,
   "id": "966b8ed8",
   "metadata": {},
   "outputs": [
    {
     "name": "stdout",
     "output_type": "stream",
     "text": [
      "Using the - operator: [ 1  5 19 65]\n",
      "Using the subtract() function: [ 1  5 19 65]\n"
     ]
    }
   ],
   "source": [
    "import numpy as np\n",
    "\n",
    "first_array = np.array([3, 9, 27, 81])\n",
    "second_array = np.array([2, 4, 8, 16])\n",
    "\n",
    "# using the - operator\n",
    "result1 = first_array - second_array\n",
    "print(\"Using the - operator:\",result1) \n",
    "\n",
    "# using the subtract() function\n",
    "result2 = np.subtract(first_array, second_array)\n",
    "print(\"Using the subtract() function:\",result2) "
   ]
  },
  {
   "cell_type": "markdown",
   "id": "cda75c59",
   "metadata": {},
   "source": [
    "Here, we have performed subtraction between first_array and second_array using both the - operator and the subtract() function.\n",
    "\n",
    "### NumPy Array Element-Wise Multiplication\n",
    "For element-wise multiplication, we can use the * operator or the multiply() function. For example,"
   ]
  },
  {
   "cell_type": "code",
   "execution_count": 4,
   "id": "1e6fedd5",
   "metadata": {},
   "outputs": [
    {
     "name": "stdout",
     "output_type": "stream",
     "text": [
      "Using the * operator: [ 2 12 30 56]\n",
      "Using the multiply() function: [ 2 12 30 56]\n"
     ]
    }
   ],
   "source": [
    "import numpy as np\n",
    "\n",
    "first_array = np.array([1, 3, 5, 7])\n",
    "second_array = np.array([2, 4, 6, 8])\n",
    "\n",
    "# using the * operator\n",
    "result1 = first_array * second_array\n",
    "print(\"Using the * operator:\",result1) \n",
    "\n",
    "# using the multiply() function\n",
    "result2 = np.multiply(first_array, second_array)\n",
    "print(\"Using the multiply() function:\",result2) "
   ]
  },
  {
   "cell_type": "markdown",
   "id": "9ae68ba1",
   "metadata": {},
   "source": [
    "Here, we have used * and multiply() to demonstrate two ways of multiplying the two arrays element-wise.\n",
    "\n",
    "### NumPy Array Element-Wise Division\n",
    "We can use either the / operator or the divide() function to perform element-wise division between two numpy arrays. For example,\n",
    "\n"
   ]
  },
  {
   "cell_type": "code",
   "execution_count": 5,
   "id": "611495c0",
   "metadata": {},
   "outputs": [
    {
     "name": "stdout",
     "output_type": "stream",
     "text": [
      "Using the / operator: [0.25 0.4  0.5 ]\n",
      "Using the divide() function: [0.25 0.4  0.5 ]\n"
     ]
    }
   ],
   "source": [
    "import numpy as np\n",
    "\n",
    "first_array = np.array([1, 2, 3])\n",
    "second_array = np.array([4, 5, 6])\n",
    "\n",
    "# using the / operator\n",
    "result1 = first_array / second_array\n",
    "print(\"Using the / operator:\",result1) \n",
    "\n",
    "# using the divide() function\n",
    "result2 = np.divide(first_array, second_array)\n",
    "print(\"Using the divide() function:\",result2) "
   ]
  },
  {
   "cell_type": "markdown",
   "id": "51226660",
   "metadata": {},
   "source": [
    "Here, we can see both / and divide() give the same result.\n",
    "\n",
    "### NumPy Array Element-Wise Exponentiation\n",
    "Array exponentiation refers to raising each element of an array to a given power.\n",
    "\n",
    "In NumPy, we can use either the ** operator or the power() function to perform the element-wise exponentiation operation. For example,"
   ]
  },
  {
   "cell_type": "code",
   "execution_count": 6,
   "id": "22d89b52",
   "metadata": {},
   "outputs": [
    {
     "name": "stdout",
     "output_type": "stream",
     "text": [
      "Using the ** operator: [1 4 9]\n",
      "Using the power() function: [1 4 9]\n"
     ]
    }
   ],
   "source": [
    "import numpy as np\n",
    "\n",
    "array1 = np.array([1, 2, 3])\n",
    "\n",
    "# using the ** operator\n",
    "result1 = array1 ** 2\n",
    "print(\"Using the ** operator:\",result1) \n",
    "\n",
    "# using the power() function\n",
    "result2 = np.power(array1, 2)\n",
    "print(\"Using the power() function:\",result2) "
   ]
  },
  {
   "cell_type": "markdown",
   "id": "2fb8e7c6",
   "metadata": {},
   "source": [
    "In the above example, we have used the ** operator and the power() function to perform exponentiation operation respectively.\n",
    "\n",
    "Here, ** and power() both raise each element of array1 to the power of 2.\n",
    "\n",
    "### NumPy Array Element-Wise Modulus\n",
    "We can perform a modulus operation in NumPy arrays using the % operator or the mod() function.\n",
    "\n",
    "This operation calculates the remainder of element-wise division between two arrays.\n",
    "\n",
    "Let's see an example."
   ]
  },
  {
   "cell_type": "code",
   "execution_count": 7,
   "id": "a099fff1",
   "metadata": {},
   "outputs": [
    {
     "name": "stdout",
     "output_type": "stream",
     "text": [
      "Using the % operator: [1 0 6]\n",
      "Using the mod() function: [1 0 6]\n"
     ]
    }
   ],
   "source": [
    "import numpy as np\n",
    "\n",
    "first_array = np.array([9, 10, 20])\n",
    "second_array = np.array([2, 5, 7])\n",
    "\n",
    "# using the % operator\n",
    "result1 = first_array % second_array\n",
    "print(\"Using the % operator:\",result1) \n",
    "\n",
    "# using the mod() function\n",
    "result2 = np.mod(first_array, second_array)\n",
    "print(\"Using the mod() function:\",result2)"
   ]
  },
  {
   "cell_type": "markdown",
   "id": "6a44fd13",
   "metadata": {},
   "source": [
    "Here, we have performed the element-wise modulus operation using both the % operator and the mod() function."
   ]
  }
 ],
 "metadata": {
  "kernelspec": {
   "display_name": "Python 3",
   "language": "python",
   "name": "python3"
  },
  "language_info": {
   "codemirror_mode": {
    "name": "ipython",
    "version": 3
   },
   "file_extension": ".py",
   "mimetype": "text/x-python",
   "name": "python",
   "nbconvert_exporter": "python",
   "pygments_lexer": "ipython3",
   "version": "3.13.2"
  }
 },
 "nbformat": 4,
 "nbformat_minor": 5
}
