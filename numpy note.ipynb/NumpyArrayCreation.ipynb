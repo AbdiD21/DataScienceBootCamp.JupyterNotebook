{
 "cells": [
  {
   "cell_type": "markdown",
   "id": "4d1e0bb3",
   "metadata": {},
   "source": [
    "## NumPy array\n",
    "\n",
    "#### What is NumPy array?\n",
    "\n",
    "A **NumPy array** is a powerful data structure provided by the NumPy library in Python. It is a grid of values, all of the same data type, and is indexed by a tuple of non-negative integers. NumPy arrays are similar to Python lists but are more efficient for numerical computations due to their optimized storage and operations.\n",
    "\n",
    "### Key Features of NumPy Arrays:\n",
    "1. **Homogeneous Data**: All elements in a NumPy array must be of the same data type (e.g., integers, floats).\n",
    "2. **Multidimensional**: NumPy arrays can have one or more dimensions (1D, 2D, 3D, etc.).\n",
    "3. **Efficient Operations**: NumPy arrays support element-wise operations, broadcasting, and vectorized computations, making them faster than Python lists for numerical tasks.\n",
    "4. **Fixed Size**: Once created, the size of a NumPy array cannot be changed.\n",
    "\n",
    "***Why Use NumPy Arrays?***\n",
    "\n",
    "1. Better Performance: NumPy arrays are designed for high performance, offering efficient memory usage and faster computation times compared to standard Python lists. This makes them ideal for large datasets and complex mathematical operations.\n",
    "\n",
    "2. Homogeneous Data Types: Unlike Python lists, which can contain mixed data types, NumPy arrays require all elements to be of the `same` data type. This uniformity allows for more efficient processing and optimized performance during calculations\n",
    "\n",
    "***Example:***\n"
   ]
  },
  {
   "cell_type": "code",
   "execution_count": null,
   "id": "8932d076",
   "metadata": {},
   "outputs": [
    {
     "name": "stdout",
     "output_type": "stream",
     "text": [
      "[1 2 3 4 5]\n",
      "[[1 2 3]\n",
      " [4 5 6]]\n"
     ]
    }
   ],
   "source": [
    "import numpy as np\n",
    "\n",
    "# Create a 1D NumPy array\n",
    "array_1d = np.array([1, 2, 3, 4, 5])\n",
    "print(array_1d)\n",
    "# Output: [1 2 3 4 5]\n",
    "\n",
    "# Create a 2D NumPy array\n",
    "array_2d = np.array([[1, 2, 3], [4, 5, 6]])\n",
    "print(array_2d)\n",
    "# Output:\n",
    "# [[1 2 3]\n",
    "#  [4 5 6]]"
   ]
  },
  {
   "cell_type": "markdown",
   "id": "b25f2113",
   "metadata": {},
   "source": [
    "\n",
    "\n",
    "NumPy arrays are widely used in data science, machine learning, and scientific computing due to their flexibility and performance."
   ]
  },
  {
   "cell_type": "markdown",
   "id": "d5dc7fe6",
   "metadata": {},
   "source": [
    "## Methods for creating NumPy Array"
   ]
  },
  {
   "cell_type": "markdown",
   "id": "095fa9ec",
   "metadata": {},
   "source": [
    "### 1.Create Array Using Python List\n",
    "\n",
    "To create a NumPy array using a Python list, you can use the `np.array()` function. This function converts a Python list into a NumPy array.\n",
    "\n",
    "***Example 1: Create a 1D NumPy array from a Python list***\n"
   ]
  },
  {
   "cell_type": "code",
   "execution_count": 2,
   "id": "1b177163",
   "metadata": {},
   "outputs": [
    {
     "name": "stdout",
     "output_type": "stream",
     "text": [
      "[1 2 3 4 5]\n"
     ]
    }
   ],
   "source": [
    "import numpy as np\n",
    "\n",
    "# Create a Python list\n",
    "python_list = [1, 2, 3, 4, 5]\n",
    "\n",
    "# Convert the list to a NumPy array\n",
    "array_1d = np.array(python_list)\n",
    "print(array_1d)\n",
    "# Output: [1 2 3 4 5]"
   ]
  },
  {
   "cell_type": "markdown",
   "id": "20d5c2b2",
   "metadata": {},
   "source": [
    "***Example 2: Create a 2D NumPy array from a nested Python list***\n"
   ]
  },
  {
   "cell_type": "code",
   "execution_count": 6,
   "id": "b4c4d441",
   "metadata": {},
   "outputs": [
    {
     "name": "stdout",
     "output_type": "stream",
     "text": [
      "[[1 2 3]\n",
      " [4 5 6]]\n"
     ]
    }
   ],
   "source": [
    "# Create a nested Python list\n",
    "nested_list = [[1, 2, 3], [4, 5, 6]]\n",
    "\n",
    "# Convert the nested list to a NumPy array\n",
    "array_2d = np.array(nested_list)\n",
    "print(array_2d)\n",
    "# Output:\n",
    "# [[1 2 3]\n",
    "#  [4 5 6]]"
   ]
  },
  {
   "cell_type": "markdown",
   "id": "a5c5065c",
   "metadata": {},
   "source": [
    "## 2. Create an Array With np.arange()"
   ]
  },
  {
   "cell_type": "markdown",
   "id": "c2c82cb8",
   "metadata": {},
   "source": [
    "To create a NumPy array using `np.arange()`, you can generate an array with evenly spaced values within a specified range. The function takes parameters such as start, stop, and step.\n",
    "\n",
    "***Example 1: Create an array from 0 to 9***\n"
   ]
  },
  {
   "cell_type": "code",
   "execution_count": 3,
   "id": "8931ef22",
   "metadata": {},
   "outputs": [
    {
     "name": "stdout",
     "output_type": "stream",
     "text": [
      "[0 1 2 3 4 5 6 7 8 9]\n"
     ]
    }
   ],
   "source": [
    "import numpy as np\n",
    "\n",
    "# Create an array with values from 0 to 9\n",
    "array_range = np.arange(10)\n",
    "print(array_range)\n",
    "# Output: [0 1 2 3 4 5 6 7 8 9]"
   ]
  },
  {
   "cell_type": "markdown",
   "id": "f173d388",
   "metadata": {},
   "source": [
    "***Example 2: Create an array with a step size***\n"
   ]
  },
  {
   "cell_type": "code",
   "execution_count": 4,
   "id": "96ae2a0a",
   "metadata": {},
   "outputs": [
    {
     "name": "stdout",
     "output_type": "stream",
     "text": [
      "[1 3 5 7 9]\n"
     ]
    }
   ],
   "source": [
    "# Create an array with values from 1 to 9 with a step size of 2\n",
    "array_step = np.arange(1, 10, 2)\n",
    "print(array_step)\n",
    "# Output: [1 3 5 7 9]"
   ]
  },
  {
   "cell_type": "markdown",
   "id": "56bb76bc",
   "metadata": {},
   "source": [
    "\n",
    "\n",
    "The `np.arange()` function is useful for creating sequences of numbers for indexing, iteration, or numerical computations."
   ]
  },
  {
   "cell_type": "markdown",
   "id": "facd3881",
   "metadata": {},
   "source": [
    "### 3.Create an Array Using np.zeros()"
   ]
  },
  {
   "cell_type": "markdown",
   "id": "62fe2cc8",
   "metadata": {},
   "source": [
    "To create a NumPy array using `np.zeros()`, you can generate an array filled with zeros. You need to specify the shape of the array as a tuple.\n",
    "\n",
    "***Example 1: Create a 1D array of zeros***\n"
   ]
  },
  {
   "cell_type": "code",
   "execution_count": 7,
   "id": "90c184ec",
   "metadata": {},
   "outputs": [
    {
     "name": "stdout",
     "output_type": "stream",
     "text": [
      "[0. 0. 0. 0. 0.]\n"
     ]
    }
   ],
   "source": [
    "import numpy as np\n",
    "\n",
    "# Create a 1D array of zeros with 5 elements\n",
    "array_1d = np.zeros(5)\n",
    "print(array_1d)\n",
    "# Output: [0. 0. 0. 0. 0.]"
   ]
  },
  {
   "cell_type": "markdown",
   "id": "b0771018",
   "metadata": {},
   "source": [
    "***Example 2: Create a 2D array of zeros***\n"
   ]
  },
  {
   "cell_type": "code",
   "execution_count": 8,
   "id": "fd5ccaba",
   "metadata": {},
   "outputs": [
    {
     "name": "stdout",
     "output_type": "stream",
     "text": [
      "[[0. 0. 0. 0.]\n",
      " [0. 0. 0. 0.]\n",
      " [0. 0. 0. 0.]]\n"
     ]
    }
   ],
   "source": [
    "# Create a 2D array of zeros with 3 rows and 4 columns\n",
    "array_2d = np.zeros((3, 4))\n",
    "print(array_2d)\n",
    "# Output:\n",
    "# [[0. 0. 0. 0.]\n",
    "#  [0. 0. 0. 0.]\n",
    "#  [0. 0. 0. 0.]]"
   ]
  },
  {
   "cell_type": "markdown",
   "id": "f63f4ce7",
   "metadata": {},
   "source": [
    "\n",
    "\n",
    "The `np.zeros()` function is useful for initializing arrays with default values of zero, which can later be updated with specific values."
   ]
  },
  {
   "cell_type": "markdown",
   "id": "b7e2ddb7",
   "metadata": {},
   "source": [
    "## Create an Array With np.random.rand()"
   ]
  },
  {
   "cell_type": "markdown",
   "id": "71c74de9",
   "metadata": {},
   "source": [
    "To create a NumPy array using `np.random.rand()`, you can generate an array of random numbers between 0 and 1. The shape of the array is specified as arguments.\n",
    "\n",
    "***Example 1: Create a 1D array of random numbers***\n"
   ]
  },
  {
   "cell_type": "code",
   "execution_count": 9,
   "id": "15a7ca45",
   "metadata": {},
   "outputs": [
    {
     "name": "stdout",
     "output_type": "stream",
     "text": [
      "[0.55790855 0.59343116 0.35414334 0.33613939 0.24723099]\n"
     ]
    }
   ],
   "source": [
    "import numpy as np\n",
    "\n",
    "# Create a 1D array of random numbers with 5 elements\n",
    "random_1d = np.random.rand(5)\n",
    "print(random_1d)\n",
    "# Output: [0.5488135  0.71518937 0.60276338 0.54488318 0.4236548 ] (example output)"
   ]
  },
  {
   "cell_type": "markdown",
   "id": "b2c9a8f3",
   "metadata": {},
   "source": [
    "***Example 2: Create a 2D array of random numbers***\n"
   ]
  },
  {
   "cell_type": "code",
   "execution_count": 10,
   "id": "1744ee50",
   "metadata": {},
   "outputs": [
    {
     "name": "stdout",
     "output_type": "stream",
     "text": [
      "[[0.20682968 0.55468086 0.0766613 ]\n",
      " [0.72987805 0.507761   0.46234827]]\n"
     ]
    }
   ],
   "source": [
    "# Create a 2D array of random numbers with 2 rows and 3 columns\n",
    "random_2d = np.random.rand(2, 3)\n",
    "print(random_2d)\n",
    "# Output:\n",
    "# [[0.5488135  0.71518937 0.60276338]\n",
    "#  [0.54488318 0.4236548  0.64589411]] (example output)"
   ]
  },
  {
   "cell_type": "markdown",
   "id": "9e15134e",
   "metadata": {},
   "source": [
    "\n",
    "\n",
    "The `np.random.rand()` function is useful for generating random data for simulations, testing, or initializing weights in machine learning models."
   ]
  },
  {
   "cell_type": "markdown",
   "id": "efc8ad61",
   "metadata": {},
   "source": [
    "## Create an Empty NumPy Array"
   ]
  },
  {
   "cell_type": "markdown",
   "id": "1ca4f775",
   "metadata": {},
   "source": [
    "To create an empty NumPy array, you can use the `np.empty()` function. This function creates an array without initializing its values. The values in the array are arbitrary and depend on the memory state.\n",
    "\n",
    "***Example 1: Create a 1D empty array***\n"
   ]
  },
  {
   "cell_type": "code",
   "execution_count": 11,
   "id": "4ee78631",
   "metadata": {},
   "outputs": [
    {
     "name": "stdout",
     "output_type": "stream",
     "text": [
      "[0.55790855 0.59343116 0.35414334 0.33613939 0.24723099]\n"
     ]
    }
   ],
   "source": [
    "import numpy as np\n",
    "\n",
    "# Create a 1D empty array with 5 elements\n",
    "empty_1d = np.empty(5)\n",
    "print(empty_1d)\n",
    "# Output: [1. 2. 3. 4. 5.] (example output, values are uninitialized)"
   ]
  },
  {
   "cell_type": "markdown",
   "id": "e2dd796f",
   "metadata": {},
   "source": [
    "***Example 2: Create a 2D empty array***\n"
   ]
  },
  {
   "cell_type": "code",
   "execution_count": 12,
   "id": "705d197a",
   "metadata": {},
   "outputs": [
    {
     "name": "stdout",
     "output_type": "stream",
     "text": [
      "[[0.20682968 0.55468086 0.0766613 ]\n",
      " [0.72987805 0.507761   0.46234827]]\n"
     ]
    }
   ],
   "source": [
    "# Create a 2D empty array with 2 rows and 3 columns\n",
    "empty_2d = np.empty((2, 3))\n",
    "print(empty_2d)\n",
    "# Output:\n",
    "# [[1. 2. 3.]\n",
    "#  [4. 5. 6.]] (example output, values are uninitialized)"
   ]
  },
  {
   "cell_type": "markdown",
   "id": "fa63fcf0",
   "metadata": {},
   "source": [
    "\n",
    "\n",
    "The `np.empty()` function is useful `when` you want to create an array and fill it with values later, without initializing it to any specific value initially."
   ]
  }
 ],
 "metadata": {
  "kernelspec": {
   "display_name": "Python 3",
   "language": "python",
   "name": "python3"
  },
  "language_info": {
   "name": "python",
   "version": "3.13.2"
  }
 },
 "nbformat": 4,
 "nbformat_minor": 5
}
