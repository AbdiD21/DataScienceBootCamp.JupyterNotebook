{
 "cells": [
  {
   "cell_type": "markdown",
   "id": "4a9ceabb",
   "metadata": {},
   "source": [
    "## NumPy Array Slicing\n",
    "Array Slicing is the process of extracting a portion of an array.\n",
    "\n",
    "With slicing, we can easily access elements in the array. It can be done on one or more dimensions of a NumPy array.\n",
    "\n",
    "### Syntax of NumPy Array Slicing\n",
    "\n",
    "Here's the syntax of array slicing in NumPy:"
   ]
  },
  {
   "cell_type": "code",
   "execution_count": null,
   "id": "ce5bdb41",
   "metadata": {},
   "outputs": [],
   "source": [
    "array[start:stop:step]"
   ]
  },
  {
   "cell_type": "markdown",
   "id": "67e17686",
   "metadata": {},
   "source": [
    "Here,\n",
    "\n",
    "start - index of the first element to be included in the slice\n",
    "\n",
    "stop - index of the last element (exclusive)\n",
    "\n",
    "step - step size between each element in the slice\n",
    "\n",
    "**Note**: When we slice arrays, the start index is inclusive but the stop index is exclusive.\n",
    "\n",
    "        - If we omit start, slicing starts from the first element\n",
    "\n",
    "        - If we omit stop, slicing continues up to the last element\n",
    "\n",
    "        - If we omit step, **default** step size is 1"
   ]
  },
  {
   "cell_type": "markdown",
   "id": "d905f53d",
   "metadata": {},
   "source": [
    "### 1D NumPy Array Slicing\n",
    "\n",
    "In NumPy, it's possible to access the portion of an array using the slicing operator :. \n",
    "For example,"
   ]
  },
  {
   "cell_type": "code",
   "execution_count": 2,
   "id": "5e872f86",
   "metadata": {},
   "outputs": [
    {
     "name": "stdout",
     "output_type": "stream",
     "text": [
      "[5 7 8 9]\n",
      "[1 5 8 2]\n",
      "[7 8 9 2 4 6]\n",
      "[1 3 5 7 8 9 2 4 6]\n"
     ]
    }
   ],
   "source": [
    "import numpy as np\n",
    "\n",
    "# create a 1D array \n",
    "array1 = np.array([1, 3, 5, 7, 8, 9, 2, 4, 6])\n",
    "\n",
    "# slice array1 from index 2 to index 6 (exclusive)\n",
    "print(array1[2:6])  # [5 7 8 9]\n",
    "\n",
    "# slice array1 from index 0 to index 8 (exclusive) with a step size of 2\n",
    "print(array1[0:8:2])  # [1 5 8 2]\n",
    "\n",
    "# slice array1 from index 3 up to the last element\n",
    "print(array1[3:])  # [7 8 9 2 4 6]\n",
    "\n",
    "# items from start to end\n",
    "print(array1[:])   # [1 3 5 7 8 9 2 4 6]"
   ]
  },
  {
   "cell_type": "markdown",
   "id": "649db049",
   "metadata": {},
   "source": [
    "#### Modify Array Elements Using Slicing\n",
    "With slicing, we can also modify array elements using:\n",
    "\n",
    "        start parameter\n",
    "\n",
    "        stop parameter\n",
    "\n",
    "        start and stop parameter\n",
    "\n",
    "        start, stop, and step parameter\n",
    "\n",
    "##### 1. Using start Parameter"
   ]
  },
  {
   "cell_type": "code",
   "execution_count": null,
   "id": "10361106",
   "metadata": {},
   "outputs": [
    {
     "name": "stdout",
     "output_type": "stream",
     "text": [
      "[ 2  4  6 20 20 20]\n"
     ]
    }
   ],
   "source": [
    "import numpy as np\n",
    "\n",
    "# create a numpy array\n",
    "numbers = np.array([2, 4, 6, 8, 10, 12])\n",
    "\n",
    "# modify elements from index 3 onwards\n",
    "numbers[3:] = 20\n",
    "print(numbers)\n",
    "\n",
    "# Output: [ 2  4  6 20 20 20]\n",
    "# numbers[3:] = 20 replaces all the elements from index 3 onwards with new value 20."
   ]
  },
  {
   "cell_type": "markdown",
   "id": "9d5f1458",
   "metadata": {},
   "source": [
    "##### 2. Using stop Parameter"
   ]
  },
  {
   "cell_type": "code",
   "execution_count": null,
   "id": "60669edf",
   "metadata": {},
   "outputs": [
    {
     "name": "stdout",
     "output_type": "stream",
     "text": [
      "[40 40 40  8 10 12]\n"
     ]
    }
   ],
   "source": [
    "import numpy as np\n",
    "\n",
    "# create a numpy array\n",
    "numbers = np.array([2, 4, 6, 8, 10, 12])\n",
    "\n",
    "# modify the first 3 elements\n",
    "numbers[:3] = 40\n",
    "print(numbers)\n",
    "\n",
    "# Output: [40 40 40  8 10 12]\n",
    "# numbers[:3] = 40 replaces the first 3 elements with the new value 40."
   ]
  },
  {
   "cell_type": "markdown",
   "id": "815524b3",
   "metadata": {},
   "source": [
    "##### 3. Using start and stop parameter"
   ]
  },
  {
   "cell_type": "code",
   "execution_count": null,
   "id": "ac276858",
   "metadata": {},
   "outputs": [
    {
     "name": "stdout",
     "output_type": "stream",
     "text": [
      "[ 2  4 22 22 22 12]\n"
     ]
    }
   ],
   "source": [
    "import numpy as np\n",
    "\n",
    "# create a numpy array\n",
    "numbers = np.array([2, 4, 6, 8, 10, 12])\n",
    "\n",
    "# modify elements from indices 2 to 5\n",
    "numbers[2:5] = 22\n",
    "print(numbers)\n",
    "\n",
    "# Output: [2 4 22 22 22 12]\n",
    "# numbers[2:5] = 22 replaces the elements from index 2 to 4 with the new value 22."
   ]
  },
  {
   "cell_type": "markdown",
   "id": "62854f09",
   "metadata": {},
   "source": [
    "##### 4. Using start, stop, and step parameter"
   ]
  },
  {
   "cell_type": "code",
   "execution_count": null,
   "id": "e3f87f4e",
   "metadata": {},
   "outputs": [
    {
     "name": "stdout",
     "output_type": "stream",
     "text": [
      "[ 2 16  6 16 10 12]\n"
     ]
    }
   ],
   "source": [
    "import numpy as np\n",
    "\n",
    "# create a numpy array\n",
    "numbers = np.array([2, 4, 6, 8, 10, 12])\n",
    "\n",
    "# modify every second element from indices 1 to 5\n",
    "numbers[1:5:2] = 16\n",
    "print(numbers)\n",
    "\n",
    "# Output: [ 2 16  6 16 10 12]\n",
    "\n",
    "# In the above example,\n",
    "numbers[1:5:2] = 16\n",
    "# modifies every second element from index 1 to index 5 with a new value 16.0"
   ]
  },
  {
   "cell_type": "markdown",
   "id": "5cb0cfda",
   "metadata": {},
   "source": [
    "### NumPy Array Negative Slicing\n",
    "We can also use negative indices to perform negative slicing in NumPy arrays. During negative slicing, elements are accessed from the end of the array.\n",
    "\n",
    "Let's see an example."
   ]
  },
  {
   "cell_type": "code",
   "execution_count": 7,
   "id": "8df87e82",
   "metadata": {},
   "outputs": [
    {
     "name": "stdout",
     "output_type": "stream",
     "text": [
      "[ 8 10 12]\n",
      "[4 6 8]\n",
      "[12  8  4]\n"
     ]
    }
   ],
   "source": [
    "import numpy as np\n",
    "\n",
    "# create a numpy array\n",
    "numbers = np.array([2, 4, 6, 8, 10, 12])\n",
    "\n",
    "# slice the last 3 elements of the array\n",
    "# using the start parameter\n",
    "print(numbers[-3:])    # [8 10 12]\n",
    "\n",
    "# slice elements from 2nd-to-last to 4th-to-last element\n",
    "# using the start and stop parameters\n",
    "print(numbers[-5:-2])    # [4 6 8] \n",
    "\n",
    "# slice every other element of the array from the end\n",
    "# using the start, stop, and step parameters\n",
    "print(numbers[-1::-2])   # [12 8 4]"
   ]
  },
  {
   "cell_type": "markdown",
   "id": "0ae4d6da",
   "metadata": {},
   "source": [
    "Here,\n",
    "\n",
    "    numbers[-3:] - slices last 3 elements of numbers\n",
    "\n",
    "    numbers[-5:-2] - slices numbers elements from 5th last to 2nd last(excluded)\n",
    "\n",
    "    numbers[-1::-2] - slices every other numbers elements from the end with step size 2"
   ]
  },
  {
   "cell_type": "markdown",
   "id": "a57aa3a0",
   "metadata": {},
   "source": [
    "### Reverse NumPy Array Using Negative Slicing\n",
    "In NumPy, we can also reverse array elements using the negative slicing. \n",
    "For example,"
   ]
  },
  {
   "cell_type": "code",
   "execution_count": 8,
   "id": "8930b4b7",
   "metadata": {},
   "outputs": [
    {
     "name": "stdout",
     "output_type": "stream",
     "text": [
      "[12 10  8  6  4  2]\n"
     ]
    }
   ],
   "source": [
    "import numpy as np\n",
    "\n",
    "# create a numpy array\n",
    "numbers = np.array([2, 4, 6, 8, 10, 12])\n",
    "\n",
    "# generate reversed array\n",
    "reversed_numbers = numbers[::-1]\n",
    "print(reversed_numbers)\n",
    "\n",
    "# Output: [12 10 8 6 4 2]"
   ]
  },
  {
   "cell_type": "markdown",
   "id": "f679cd83",
   "metadata": {},
   "source": [
    "Here, the slice numbers[::-1] selects all the elements of the array with a step size of -1, *** which reverses the order of the elements ***"
   ]
  },
  {
   "cell_type": "markdown",
   "id": "95954bbe",
   "metadata": {},
   "source": [
    "### 2D NumPy Array Slicing\n",
    "A 2D NumPy array can be thought of as a matrix, where each element has two indices, row index and column index.\n",
    "\n",
    "To slice a 2D NumPy array, we can use the same syntax as for slicing a 1D NumPy array. The only difference is that we need to specify a slice for each dimension of the array.\n",
    "\n",
    "### Syntax of 2D NumPy Array Slicing\n",
    "        array[row_start:row_stop:row_step, col_start:col_stop:col_step]\n",
    "**Here,**\n",
    "\n",
    "    row_start,row_stop,row_step - specifies starting index, stopping index, and step size for the rows respectively\n",
    "\n",
    "    col_start,col_stop,col_step - specifies starting index, stopping index, and step size for the columns respectively\n",
    "Let's understand this with an example."
   ]
  },
  {
   "cell_type": "code",
   "execution_count": 10,
   "id": "d4cacb46",
   "metadata": {},
   "outputs": [
    {
     "name": "stdout",
     "output_type": "stream",
     "text": [
      "[[ 1  3]\n",
      " [ 9 11]]\n"
     ]
    }
   ],
   "source": [
    "# create a 2D array\n",
    "array1 = np.array([[1, 3, 5, 7], \n",
    "                   [9, 11, 13, 15]])\n",
    "\n",
    "print(array1[:2, :2])\n"
   ]
  },
  {
   "cell_type": "markdown",
   "id": "970e5a00",
   "metadata": {},
   "source": [
    "    Here, the , in [:2, :2] separates the rows of the array.\n",
    "\n",
    "    The first :2 returns first 2 rows i.e., entire array1.\n",
    "\n",
    "    The second :2 returns first 2 columns from the 2 rows.\n",
    "\n",
    "### Example: 2D NumPy Array Slicing"
   ]
  },
  {
   "cell_type": "code",
   "execution_count": 11,
   "id": "95cd4ef7",
   "metadata": {},
   "outputs": [
    {
     "name": "stdout",
     "output_type": "stream",
     "text": [
      "First Two Rows and Columns: \n",
      " [[ 1  3]\n",
      " [ 9 11]]\n",
      "Last two Rows and Columns: \n",
      " [[13 15]\n",
      " [ 6  8]]\n"
     ]
    }
   ],
   "source": [
    "import numpy as np\n",
    "\n",
    "# create a 2D array \n",
    "array1 = np.array([[1, 3, 5, 7], \n",
    "                      [9, 11, 13, 15],\n",
    "                      [2, 4, 6, 8]])\n",
    "\n",
    "\n",
    "# slice the array to get the first two rows and columns\n",
    "subarray1 = array1[:2, :2]\n",
    "\n",
    "# slice the array to get the last two rows and columns\n",
    "subarray2 = array1[1:3, 2:4]\n",
    "\n",
    "# print the subarrays\n",
    "print(\"First Two Rows and Columns: \\n\",subarray1)\n",
    "print(\"Last two Rows and Columns: \\n\",subarray2)"
   ]
  },
  {
   "cell_type": "markdown",
   "id": "62beebb4",
   "metadata": {},
   "source": [
    "Here,\n",
    "\n",
    "array1[:2, :2] - slices array1 that starts at the first row and first column (default values), and ends at the second row and second column (exclusive)\n",
    "\n",
    "array1[1:3, 2:4] - slices array1 that starts at the second row and third column (index 1 and 2), and ends at the third row and fourth column (index 2 and 3)\n"
   ]
  },
  {
   "cell_type": "code",
   "execution_count": 15,
   "id": "64c27510",
   "metadata": {},
   "outputs": [
    {
     "name": "stdout",
     "output_type": "stream",
     "text": [
      "[[1 3 5 7]\n",
      " [2 4 6 8]]\n"
     ]
    }
   ],
   "source": [
    "import numpy as np\n",
    "\n",
    "array1 = np.array([1, 3, 5, 7, 2, 4, 6, 8])\n",
    "\n",
    "# reshape a 1D array into a 2D array \n",
    "# with 2 rows and 4 columns\n",
    "result = np.reshape(array1, (2, 4))\n",
    "print(result)"
   ]
  }
 ],
 "metadata": {
  "kernelspec": {
   "display_name": "Python 3",
   "language": "python",
   "name": "python3"
  },
  "language_info": {
   "codemirror_mode": {
    "name": "ipython",
    "version": 3
   },
   "file_extension": ".py",
   "mimetype": "text/x-python",
   "name": "python",
   "nbconvert_exporter": "python",
   "pygments_lexer": "ipython3",
   "version": "3.13.2"
  }
 },
 "nbformat": 4,
 "nbformat_minor": 5
}
