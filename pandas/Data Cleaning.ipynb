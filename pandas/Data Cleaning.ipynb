{
 "cells": [
  {
   "cell_type": "markdown",
   "id": "b49407f0",
   "metadata": {},
   "source": [
    "### ***Pandas Data Cleaning: Comprehensive Guide with Examples***"
   ]
  },
  {
   "cell_type": "markdown",
   "id": "04220e64",
   "metadata": {},
   "source": [
    "Data cleaning is a vital step in any data science or analytics workflow. It ensures your dataset is accurate, consistent, and ready for analysis or modeling. Pandas provides robust tools for cleaning and preprocessing data efficiently. Below are the essential data cleaning techniques in pandas, each with practical examples.\n",
    "\n",
    "#### 1. Handling Missing Data\n",
    "Missing values are common in real-world datasets. \n",
    "\n",
    "***what is missing values?***\n",
    "- Missing values refer to the ***absence*** of data entries in a dataset where values are expected ***but*** not recorded.\n",
    "- These are the blank cells or placeholders (such as **None** or **NaN(Not a Number)**) in your data table, indicating that information for certain variables or participants is unavailable. \n",
    "- Missing values can occur for various reasons, including incomplete data entry, equipment failure, lost files, non-responses to survey questions, or intentional omission\n",
    "\n",
    "In Pandas, missing values, often represented as NaN (Not a Number), can cause problems during data processing and analysis. These gaps in data can lead to incorrect analysis and misleading conclusions.\n",
    "\n",
    "Pandas provides a host of functions like dropna(), fillna() and combine_first() to handle missing values.\n",
    "\n",
    "Pandas offers several methods to identify, remove, or fill these gaps.\n",
    "\n",
    "***Identify missing values*** :"
   ]
  },
  {
   "cell_type": "markdown",
   "id": "99b26c1d",
   "metadata": {},
   "source": [
    "- Problem: Missing values (NaN) distort analysis.\n",
    "- Solution: Identify, remove, or fill missing values.\n",
    "\n",
    "Step-by-Step Examples:"
   ]
  },
  {
   "cell_type": "code",
   "execution_count": 37,
   "id": "e503842a",
   "metadata": {},
   "outputs": [
    {
     "name": "stdout",
     "output_type": "stream",
     "text": [
      "Name      1\n",
      "Age       1\n",
      "Salary    1\n",
      "dtype: int64\n"
     ]
    }
   ],
   "source": [
    "# Create a DataFrame with missing values\n",
    "data = {'Name': ['Alice', 'Bob', None, 'Charlie'],\n",
    "        'Age': [25, None, 22, 30],\n",
    "        'Salary': [50000, 60000, None, 70000]}\n",
    "df = pd.DataFrame(data)\n",
    "\n",
    "# (a) Identify missing values\n",
    "print(df.isnull().sum())\n",
    "\n"
   ]
  },
  {
   "cell_type": "markdown",
   "id": "e0bf109d",
   "metadata": {},
   "source": [
    "***Remove rows with missing values***:\n",
    "\n",
    "One straightforward way to handle missing values is by removing them. Since the data sets we deal with are often large, eliminating a few rows typically has minimal impact on the final outcome.\n",
    "\n",
    "We use the **dropna()** function to remove rows containing at least one missing value."
   ]
  },
  {
   "cell_type": "code",
   "execution_count": 38,
   "id": "f8a31ab6",
   "metadata": {},
   "outputs": [],
   "source": [
    "df_clean = df.dropna()  # Returns new DataFrame without missing rows\n",
    "df.dropna(inplace=True)  # Removes in place\n"
   ]
  },
  {
   "cell_type": "code",
   "execution_count": 39,
   "id": "766c6768",
   "metadata": {},
   "outputs": [
    {
     "name": "stdout",
     "output_type": "stream",
     "text": [
      "      Name   Age   Salary\n",
      "0    Alice  25.0  50000.0\n",
      "3  Charlie  30.0  70000.0\n"
     ]
    }
   ],
   "source": [
    "# (b) Remove rows with missing values\n",
    "df_clean = df.dropna()\n",
    "print(df_clean)\n"
   ]
  },
  {
   "cell_type": "markdown",
   "id": "6c2f22dd",
   "metadata": {},
   "source": [
    "Fill missing values:"
   ]
  },
  {
   "cell_type": "code",
   "execution_count": null,
   "id": "fcb2dc64",
   "metadata": {},
   "outputs": [],
   "source": [
    "df_filled = df.fillna(0)  # Replace NaN with 0\n",
    "df['column'] = df['column'].fillna(df['column'].mean())  # Fill with column mean\n"
   ]
  },
  {
   "cell_type": "code",
   "execution_count": 20,
   "id": "4a8b6b20",
   "metadata": {},
   "outputs": [
    {
     "name": "stdout",
     "output_type": "stream",
     "text": [
      "      Name        Age   Salary\n",
      "0    Alice  25.000000  50000.0\n",
      "1      Bob  25.666667  60000.0\n",
      "2  Unknown  22.000000      0.0\n",
      "3  Charlie  30.000000  70000.0\n"
     ]
    }
   ],
   "source": [
    "# (c) Fill missing values\n",
    "df_filled = df.fillna({'Name': 'Unknown', 'Age': df['Age'].mean(), 'Salary': 0})\n",
    "print(df_filled)\n"
   ]
  },
  {
   "cell_type": "markdown",
   "id": "a352b9c6",
   "metadata": {},
   "source": [
    "#### 2. Removing Duplicates\n",
    "Duplicate rows can distort analysis and lead to misleading results.\n",
    "\n",
    "Find duplicates:"
   ]
  },
  {
   "cell_type": "code",
   "execution_count": 8,
   "id": "f87fc25b",
   "metadata": {},
   "outputs": [],
   "source": [
    "duplicates = df.duplicated()  # Boolean Series indicating duplicates"
   ]
  },
  {
   "cell_type": "markdown",
   "id": "a83b1b71",
   "metadata": {},
   "source": [
    "Remove duplicates:"
   ]
  },
  {
   "cell_type": "code",
   "execution_count": null,
   "id": "439203ac",
   "metadata": {},
   "outputs": [],
   "source": [
    "df_no_duplicates = df.drop_duplicates()  # Returns new DataFrame\n",
    "df.drop_duplicates(inplace=True)  # Removes in place"
   ]
  },
  {
   "cell_type": "markdown",
   "id": "bcd25d71",
   "metadata": {},
   "source": [
    "- Problem: Duplicate rows cause overcounting.\n",
    "- Solution: Detect and remove duplicates.\n",
    "\n",
    "Example:"
   ]
  },
  {
   "cell_type": "code",
   "execution_count": null,
   "id": "1ca4076a",
   "metadata": {},
   "outputs": [],
   "source": [
    "# Create a DataFrame with duplicates\n",
    "data = {'Name': ['Alice', 'Bob', 'Alice', 'Charlie'],\n",
    "        'Age': [25, 30, 25, 35]}\n",
    "df = pd.DataFrame(data)\n",
    "\n",
    "# Remove duplicates\n",
    "df_no_duplicates = df.drop_duplicates()\n",
    "print(df_no_duplicates)"
   ]
  },
  {
   "cell_type": "markdown",
   "id": "d1bd2ca0",
   "metadata": {},
   "source": [
    "#### 3. Data Transformation\n",
    "Transforming data makes it consistent and suitable for analysis.\n",
    "\n",
    "String manipulation:"
   ]
  },
  {
   "cell_type": "code",
   "execution_count": null,
   "id": "e63fbdb5",
   "metadata": {},
   "outputs": [],
   "source": [
    "df['name'] = df['name'].str.lower()  # Convert to lowercase\n",
    "df['name'] = df['name'].str.strip()  # Remove leading/trailing spaces\n",
    "df['name'] = df['name'].str.replace(' ', '_')  # Replace spaces with underscores"
   ]
  },
  {
   "cell_type": "markdown",
   "id": "b90b0b3c",
   "metadata": {},
   "source": [
    "- Problem: Inconsistent or incorrect data formats.\n",
    "- Solution: Standardize data types and formats.\n",
    "\n",
    "Examples:"
   ]
  },
  {
   "cell_type": "code",
   "execution_count": 25,
   "id": "5683927a",
   "metadata": {},
   "outputs": [
    {
     "name": "stdout",
     "output_type": "stream",
     "text": [
      "      Name\n",
      "0    alice\n",
      "1      bob\n",
      "2  charlie\n"
     ]
    }
   ],
   "source": [
    "# (a) Clean strings\n",
    "data = {'Name': ['  Alice  ', 'BOB', 'Charlie ']}\n",
    "df = pd.DataFrame(data)\n",
    "df['Name'] = df['Name'].str.strip().str.lower()\n",
    "print(df)\n"
   ]
  },
  {
   "cell_type": "markdown",
   "id": "1a9addec",
   "metadata": {},
   "source": [
    "Convert data types:"
   ]
  },
  {
   "cell_type": "code",
   "execution_count": null,
   "id": "285e581d",
   "metadata": {},
   "outputs": [],
   "source": [
    "df['date'] = pd.to_datetime(df['date'])  # Convert string to datetime\n",
    "df['age'] = df['age'].astype(int)        # Convert to integer\n"
   ]
  },
  {
   "cell_type": "code",
   "execution_count": 26,
   "id": "b1bf5673",
   "metadata": {},
   "outputs": [
    {
     "name": "stdout",
     "output_type": "stream",
     "text": [
      "Age    int64\n",
      "dtype: object\n"
     ]
    }
   ],
   "source": [
    "# (b) Convert data types\n",
    "data = {'Age': ['25', '30', '22']}\n",
    "df = pd.DataFrame(data)\n",
    "df['Age'] = df['Age'].astype(int)\n",
    "print(df.dtypes)\n"
   ]
  },
  {
   "cell_type": "markdown",
   "id": "aaa85e1d",
   "metadata": {},
   "source": [
    "Rename columns:"
   ]
  },
  {
   "cell_type": "code",
   "execution_count": null,
   "id": "0c9afbcc",
   "metadata": {},
   "outputs": [],
   "source": [
    "df.rename(columns={'old_name': 'new_name'}, inplace=True)\n"
   ]
  },
  {
   "cell_type": "code",
   "execution_count": 27,
   "id": "d87f7334",
   "metadata": {},
   "outputs": [
    {
     "name": "stdout",
     "output_type": "stream",
     "text": [
      "Index(['new_name'], dtype='object')\n"
     ]
    }
   ],
   "source": [
    "# (c) Rename columns\n",
    "df = pd.DataFrame({'old_name': [1, 2, 3]})\n",
    "df.rename(columns={'old_name': 'new_name'}, inplace=True)\n",
    "print(df.columns)\n"
   ]
  },
  {
   "cell_type": "markdown",
   "id": "5dd7c256",
   "metadata": {},
   "source": [
    "#### 4. Handling Outliers\n",
    "Outliers can skew results and should be identified and treated as needed.\n",
    "\n",
    "Identify outliers:"
   ]
  },
  {
   "cell_type": "code",
   "execution_count": null,
   "id": "1a1f8cfd",
   "metadata": {},
   "outputs": [],
   "source": [
    "# Example: Find values outside 1.5*IQR\n",
    "Q1 = df['col'].quantile(0.25)\n",
    "Q3 = df['col'].quantile(0.75)\n",
    "IQR = Q3 - Q1\n",
    "outliers = df[(df['col'] < Q1 - 1.5 * IQR) | (df['col'] > Q3 + 1.5 * IQR)]\n"
   ]
  },
  {
   "cell_type": "markdown",
   "id": "091ec743",
   "metadata": {},
   "source": [
    "Remove outliers:"
   ]
  },
  {
   "cell_type": "code",
   "execution_count": null,
   "id": "a709afc7",
   "metadata": {},
   "outputs": [],
   "source": [
    "df_no_outliers = df[~((df['col'] < Q1 - 1.5 * IQR) | (df['col'] > Q3 + 1.5 * IQR))]\n"
   ]
  },
  {
   "cell_type": "markdown",
   "id": "e9b178d0",
   "metadata": {},
   "source": [
    "- Problem: Outliers skew statistical results.\n",
    "- Solution: Detect and remove using IQR (Interquartile Range).\n",
    "\n",
    "Example:"
   ]
  },
  {
   "cell_type": "code",
   "execution_count": 29,
   "id": "e935c072",
   "metadata": {},
   "outputs": [
    {
     "name": "stdout",
     "output_type": "stream",
     "text": [
      "   Values\n",
      "0       1\n",
      "1       2\n",
      "2       3\n",
      "3       4\n",
      "4       5\n"
     ]
    }
   ],
   "source": [
    "# Create data with outliers\n",
    "data = {'Values': [1, 2, 3, 4, 5, 100]}\n",
    "df = pd.DataFrame(data)\n",
    "\n",
    "# Calculate IQR bounds\n",
    "Q1 = df['Values'].quantile(0.25)\n",
    "Q3 = df['Values'].quantile(0.75)\n",
    "IQR = Q3 - Q1\n",
    "lower_bound = Q1 - 1.5 * IQR\n",
    "upper_bound = Q3 + 1.5 * IQR\n",
    "\n",
    "# Filter outliers\n",
    "df_clean = df[(df['Values'] >= lower_bound) & (df['Values'] <= upper_bound)]\n",
    "print(df_clean)\n"
   ]
  },
  {
   "cell_type": "markdown",
   "id": "30b788dc",
   "metadata": {},
   "source": [
    "#### 5. Filtering Data\n",
    "Extract subsets of data based on conditions.\n",
    "\n",
    "Example:"
   ]
  },
  {
   "cell_type": "code",
   "execution_count": null,
   "id": "42755110",
   "metadata": {},
   "outputs": [],
   "source": [
    "adults = df[df['age'] >= 18]  # Filter rows where age is 18 or above\n"
   ]
  },
  {
   "cell_type": "markdown",
   "id": "604d246b",
   "metadata": {},
   "source": [
    "- Problem: Need to analyze subsets of data.\n",
    "- Solution: Use conditional filtering.\n",
    "\n",
    "Example:"
   ]
  },
  {
   "cell_type": "code",
   "execution_count": 30,
   "id": "54439277",
   "metadata": {},
   "outputs": [
    {
     "name": "stdout",
     "output_type": "stream",
     "text": [
      "      Name  Age\n",
      "0    Alice   25\n",
      "2  Charlie   35\n"
     ]
    }
   ],
   "source": [
    "data = {'Name': ['Alice', 'Bob', 'Charlie'],\n",
    "        'Age': [25, 17, 35]}\n",
    "df = pd.DataFrame(data)\n",
    "\n",
    "# Filter adults (age >= 18)\n",
    "adults = df[df['Age'] >= 18]\n",
    "print(adults)\n"
   ]
  },
  {
   "cell_type": "markdown",
   "id": "36b80b25",
   "metadata": {},
   "source": [
    "#### 6. Handling Categorical Data\n",
    "Categorical variables often need to be encoded for analysis or modeling.\n",
    "\n",
    "Convert categories to codes:"
   ]
  },
  {
   "cell_type": "code",
   "execution_count": null,
   "id": "4ee677fd",
   "metadata": {},
   "outputs": [],
   "source": [
    "df['category_code'] = df['category'].astype('category').cat.codes\n"
   ]
  },
  {
   "cell_type": "markdown",
   "id": "3543839d",
   "metadata": {},
   "source": [
    "- Problem: Non-numeric data can’t be used in models.\n",
    "- Solution: Convert categories to numeric codes or one-hot encode.\n",
    "\n",
    "Examples:"
   ]
  },
  {
   "cell_type": "code",
   "execution_count": 31,
   "id": "07460ff2",
   "metadata": {},
   "outputs": [
    {
     "name": "stdout",
     "output_type": "stream",
     "text": [
      "  Grade  Grade_Code\n",
      "0     A           0\n",
      "1     B           1\n",
      "2     A           0\n",
      "3     C           2\n"
     ]
    }
   ],
   "source": [
    "# (a) Convert to category codes\n",
    "data = {'Grade': ['A', 'B', 'A', 'C']}\n",
    "df = pd.DataFrame(data)\n",
    "df['Grade_Code'] = df['Grade'].astype('category').cat.codes\n",
    "print(df)\n"
   ]
  },
  {
   "cell_type": "markdown",
   "id": "68c6ae1b",
   "metadata": {},
   "source": [
    "One-hot encoding:"
   ]
  },
  {
   "cell_type": "code",
   "execution_count": null,
   "id": "5173b726",
   "metadata": {},
   "outputs": [],
   "source": [
    "df_encoded = pd.get_dummies(df, columns=['category'])\n"
   ]
  },
  {
   "cell_type": "code",
   "execution_count": 33,
   "id": "ae13e84a",
   "metadata": {},
   "outputs": [
    {
     "name": "stdout",
     "output_type": "stream",
     "text": [
      "   Grade_Code  Grade_A  Grade_B  Grade_C\n",
      "0           0     True    False    False\n",
      "1           1    False     True    False\n",
      "2           0     True    False    False\n",
      "3           2    False    False     True\n"
     ]
    }
   ],
   "source": [
    "# (b) One-hot encoding\n",
    "df_encoded = pd.get_dummies(df, columns=['Grade'])\n",
    "print(df_encoded)\n"
   ]
  },
  {
   "cell_type": "markdown",
   "id": "4835f6b5",
   "metadata": {},
   "source": [
    "#### 7. Automating Data Cleaning Pipelines\n",
    "For larger projects, combine cleaning steps into a pipeline for reproducibility and efficiency.\n",
    "\n",
    "Example:"
   ]
  },
  {
   "cell_type": "code",
   "execution_count": null,
   "id": "81218fc2",
   "metadata": {},
   "outputs": [],
   "source": [
    "def clean_data(df):\n",
    "    df = df.drop_duplicates()\n",
    "    df = df.fillna(0)\n",
    "    df['name'] = df['name'].str.lower().str.strip()\n",
    "    df['date'] = pd.to_datetime(df['date'])\n",
    "    return df\n",
    "\n",
    "df_cleaned = clean_data(df)\n"
   ]
  },
  {
   "cell_type": "markdown",
   "id": "8e713723",
   "metadata": {},
   "source": [
    "- Problem: Repetitive cleaning steps.\n",
    "- Solution: Create reusable functions.\n",
    "\n",
    "Example:"
   ]
  },
  {
   "cell_type": "code",
   "execution_count": 34,
   "id": "961f68d3",
   "metadata": {},
   "outputs": [
    {
     "name": "stdout",
     "output_type": "stream",
     "text": [
      "      Name        Age\n",
      "0    alice  25.000000\n",
      "1      bob  26.666667\n",
      "2    alice  25.000000\n",
      "3  unknown  30.000000\n"
     ]
    }
   ],
   "source": [
    "def clean_data(df):\n",
    "    # Fill missing values\n",
    "    df.fillna({'Name': 'Unknown', 'Age': df['Age'].mean()}, inplace=True)\n",
    "    # Remove duplicates\n",
    "    df.drop_duplicates(inplace=True)\n",
    "    # Standardize strings\n",
    "    df['Name'] = df['Name'].str.lower().str.strip()\n",
    "    return df\n",
    "\n",
    "# Test the function\n",
    "data = {'Name': ['  Alice  ', 'BOB', 'Alice', None],\n",
    "        'Age': [25, None, 25, 30]}\n",
    "df = pd.DataFrame(data)\n",
    "df_clean = clean_data(df)\n",
    "print(df_clean)\n"
   ]
  },
  {
   "cell_type": "markdown",
   "id": "2f41dd61",
   "metadata": {},
   "source": [
    "Correction: Add df.fillna({'Name': 'Unknown'}, inplace=True) in the function."
   ]
  },
  {
   "cell_type": "markdown",
   "id": "d2e17289",
   "metadata": {},
   "source": [
    "#### 8. Inspecting Data Before and After Cleaning\n",
    "Always inspect your data before and after cleaning to verify changes."
   ]
  },
  {
   "cell_type": "code",
   "execution_count": null,
   "id": "c430936c",
   "metadata": {},
   "outputs": [],
   "source": [
    "print(df.info())\n",
    "print(df.describe())\n",
    "print(df.head())\n",
    "print(df.tail())\n",
    "print(df['column'].value_counts())  # Count unique values in a column"
   ]
  },
  {
   "cell_type": "markdown",
   "id": "c394b51a",
   "metadata": {},
   "source": [
    "Inspecting Cleaned Data\n",
    "\n",
    "- Problem: Verify cleaning steps worked.\n",
    "- Solution: Use head(), info(), and describe()."
   ]
  },
  {
   "cell_type": "code",
   "execution_count": 35,
   "id": "50e0e76a",
   "metadata": {},
   "outputs": [
    {
     "name": "stdout",
     "output_type": "stream",
     "text": [
      "      Name        Age\n",
      "0    alice  25.000000\n",
      "1      bob  26.666667\n",
      "2    alice  25.000000\n",
      "3  unknown  30.000000\n",
      "<class 'pandas.core.frame.DataFrame'>\n",
      "RangeIndex: 4 entries, 0 to 3\n",
      "Data columns (total 2 columns):\n",
      " #   Column  Non-Null Count  Dtype  \n",
      "---  ------  --------------  -----  \n",
      " 0   Name    4 non-null      object \n",
      " 1   Age     4 non-null      float64\n",
      "dtypes: float64(1), object(1)\n",
      "memory usage: 196.0+ bytes\n",
      "None\n",
      "             Age\n",
      "count   4.000000\n",
      "mean   26.666667\n",
      "std     2.357023\n",
      "min    25.000000\n",
      "25%    25.000000\n",
      "50%    25.833333\n",
      "75%    27.500000\n",
      "max    30.000000\n"
     ]
    }
   ],
   "source": [
    "print(df_clean.head())\n",
    "print(df_clean.info())\n",
    "print(df_clean.describe())\n"
   ]
  }
 ],
 "metadata": {
  "kernelspec": {
   "display_name": "Python 3",
   "language": "python",
   "name": "python3"
  },
  "language_info": {
   "codemirror_mode": {
    "name": "ipython",
    "version": 3
   },
   "file_extension": ".py",
   "mimetype": "text/x-python",
   "name": "python",
   "nbconvert_exporter": "python",
   "pygments_lexer": "ipython3",
   "version": "3.13.2"
  }
 },
 "nbformat": 4,
 "nbformat_minor": 5
}
