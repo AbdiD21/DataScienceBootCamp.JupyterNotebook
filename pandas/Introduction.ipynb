{
 "cells": [
  {
   "cell_type": "markdown",
   "id": "8f9f5cbd",
   "metadata": {},
   "source": [
    "#### Introduction to Pandas\n",
    "\n",
    "Pandas is a powerful Python **library** for data manipulation and analysis.\n",
    "\n",
    "***Pandas*** is an open-source Python library designed for data manipulation and analysis. \n",
    "It provides powerful, flexible data structures—primarily the one-dimensional Series and two-dimensional DataFrame—which make it easy **to work** with structured data such as spreadsheets, SQL tables, or CSV files.\n",
    "\n",
    "Pandas offers a wide range of functions for analyzing, cleaning, exploring, and transforming data. Common tasks include handling missing values, filtering and merging datasets, grouping and summarizing data, and preparing data for visualization or machine learning. It is especially valued in data science for its ability to efficiently process **large datasets** and streamline repetitive data-wrangling tasks"
   ]
  },
  {
   "cell_type": "code",
   "execution_count": 1,
   "id": "ae431fe5",
   "metadata": {},
   "outputs": [
    {
     "name": "stdout",
     "output_type": "stream",
     "text": [
      "Pandas Series:\n",
      "0    10\n",
      "1    20\n",
      "2    30\n",
      "3    40\n",
      "4    50\n",
      "dtype: int64\n"
     ]
    }
   ],
   "source": [
    "import pandas as pd\n",
    "\n",
    "# Create a simple Pandas Series\n",
    "numbers = pd.Series([10, 20, 30, 40, 50])\n",
    "\n",
    "# Print the Series\n",
    "print(\"Pandas Series:\")\n",
    "print(numbers)"
   ]
  }
 ],
 "metadata": {
  "kernelspec": {
   "display_name": "Python 3",
   "language": "python",
   "name": "python3"
  },
  "language_info": {
   "codemirror_mode": {
    "name": "ipython",
    "version": 3
   },
   "file_extension": ".py",
   "mimetype": "text/x-python",
   "name": "python",
   "nbconvert_exporter": "python",
   "pygments_lexer": "ipython3",
   "version": "3.13.2"
  }
 },
 "nbformat": 4,
 "nbformat_minor": 5
}
