{
 "cells": [
  {
   "cell_type": "markdown",
   "id": "8f9f5cbd",
   "metadata": {},
   "source": [
    "## Introduction to Pandas\n",
    "\n",
    "Pandas is a powerful Python **library** for data manipulation and analysis.\n",
    "\n",
    "**_Pandas_** is an open-source Python library designed for data manipulation and analysis.\n",
    "It provides powerful, flexible data structures—primarily the one-dimensional Series and two-dimensional DataFrame—which make it easy **to work** with structured data such as spreadsheets, SQL tables, or CSV files.\n",
    "\n",
    "It supports automatic alignment, missing data handling, and rich data manipulation functions.\n",
    "\n",
    "\n",
    "##### _Pandas provides a convenient way to analyze and clean data._\n",
    "\n",
    "##### _The Pandas library introduces two new data structures to Python - Series and DataFrame, both of which are built on top of NumPy._\n",
    "\n",
    "Pandas offers a wide range of functions for analyzing, cleaning, exploring, and transforming data. Common tasks include handling missing values, filtering and merging datasets, grouping and summarizing data, and preparing data for visualization or machine learning. It is especially valued in data science for its ability to efficiently process **large datasets** and streamline repetitive data-wrangling tasks\n",
    "\n",
    "#### Analogy (Expanded):\n",
    "        - Think of a Pandas DataFrame like an Excel spreadsheet in Python.\n",
    "\n",
    "        - It has rows and columns, labels, and allows you to perform operations like sorting, filtering, and calculations — but with the full power and speed of Python and NumPy behind it.\n",
    "\n",
    "### What is Pandas Used for?\n",
    "\n",
    "Pandas is a powerful library generally used for:\n",
    "\n",
    "        - Data Cleaning\n",
    "        - Data Transformation\n",
    "        - Data Analysis\n",
    "        - Machine Learning\n",
    "        - Data Visualization\n",
    "\n",
    "### Why Use Pandas?\n",
    "\n",
    "Some of the reasons why we should use Pandas are as follows:\n",
    "\n",
    "1. Handle Large Data Efficiently\n",
    "\n",
    "Pandas is designed for handling large datasets. It provides powerful tools that simplify tasks like data filtering, transforming, and merging.\n",
    "\n",
    "It also provides built-in functions to work with formats like CSV, JSON, TXT, Excel, and SQL databases.\n",
    "\n",
    "2. Tabular Data Representation\n",
    "\n",
    "Pandas DataFrames, the primary data structure of Pandas, handle data in tabular format. This allows easy indexing, selecting, replacing, and slicing of data.\n",
    "\n",
    "3. Data Cleaning and Preprocessing\n",
    "\n",
    "Data cleaning and preprocessing are essential steps in the data analysis pipeline, and Pandas provides powerful tools to facilitate these tasks. It has methods for handling missing values, removing duplicates, handling outliers, data normalization, etc.\n",
    "\n",
    "4. Time Series Functionality\n",
    "\n",
    "Pandas contains an extensive set of tools for working with dates, times, and time-indexed data as it was initially developed for financial modeling.\n",
    "\n",
    "5. Free and Open-Source\n",
    "\n",
    "Pandas follows the same principles as Python, allowing you to use and distribute Pandas for free, even for commercial use.\n"
   ]
  },
  {
   "cell_type": "markdown",
   "id": "e8c9dfd2",
   "metadata": {},
   "source": [
    "#### Import Pandas in Python\n",
    "\n",
    "We can import Pandas in Python using the import statement.\n"
   ]
  },
  {
   "cell_type": "code",
   "execution_count": 1,
   "id": "ee692667",
   "metadata": {},
   "outputs": [],
   "source": [
    "# This code imports the pandas library into our program with the alias pd.\n",
    "import pandas as pd"
   ]
  },
  {
   "cell_type": "markdown",
   "id": "50fcaa04",
   "metadata": {},
   "source": [
    "After this import statement, we can use Pandas functions and objects by calling them with pd.\n",
    "\n",
    "##### **Notes:**\n",
    "\n",
    "        - If we import pandas without an alias using import pandas, we can create a DataFrame using the pandas.DataFrame() function.\n",
    "\n",
    "        - Using an alias pd is a common convention among Python programmers, as it makes it easier and quicker to refer to the pandas library in your code."
   ]
  },
  {
   "cell_type": "markdown",
   "id": "515582bb",
   "metadata": {},
   "source": [
    "#### Main Data Structures of Pandas\n",
    "Pandas, a popular Python library for data manipulation and analysis, is built around **two** primary data structures: Series and DataFrame.\n",
    "\n",
    "##### **Series**\n",
    "\n",
    "A Series is a ***one-dimensional*** labeled array capable of holding data of any type (integer, string, float, etc.).\n",
    "\n",
    "Each element in a Series has an associated label, called an index, which allows for fast and flexible data access and manipulation.\n",
    "\n",
    "You can think of a Series as similar to a single column in a spreadsheet or a database table.\n",
    "\n",
    "##### **DataFrame**\n",
    "\n",
    "A DataFrame is a ***two-dimensional***, size-mutable, and potentially heterogeneous tabular data structure.\n",
    "\n",
    "It consists of an ordered collection of columns, each of which can be a different data type (numeric, string, boolean, etc.).\n",
    "\n",
    "DataFrames are analogous to spreadsheets or SQL tables, with both row and column indices.\n",
    "\n",
    "Each column in a DataFrame is essentially a Series, and the DataFrame organizes these Series into a table-like structure.\n",
    "\n",
    "***Additional Notes***\n",
    "Both Series and DataFrame support a wide range of data types, including numeric, boolean, string (object), categorical, and datetime types.\n",
    "\n",
    "\n",
    "In summary, pandas’ core data structures—Series (1D) and DataFrame (2D)—enable efficient and flexible handling of labeled data, making them essential tools for data science and analytics in Python."
   ]
  }
 ],
 "metadata": {
  "kernelspec": {
   "display_name": "Python 3",
   "language": "python",
   "name": "python3"
  },
  "language_info": {
   "codemirror_mode": {
    "name": "ipython",
    "version": 3
   },
   "file_extension": ".py",
   "mimetype": "text/x-python",
   "name": "python",
   "nbconvert_exporter": "python",
   "pygments_lexer": "ipython3",
   "version": "3.13.2"
  }
 },
 "nbformat": 4,
 "nbformat_minor": 5
}
