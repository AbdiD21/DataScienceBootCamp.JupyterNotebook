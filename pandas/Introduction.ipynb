{
 "cells": [
  {
   "cell_type": "markdown",
   "id": "8f9f5cbd",
   "metadata": {},
   "source": [
    "## Introduction to Pandas\n",
    "\n",
    "Pandas is a powerful Python **library** for data manipulation and analysis.\n",
    "\n",
    "**_Pandas_** is an open-source Python library designed for data manipulation and analysis.\n",
    "It provides powerful, flexible data structures—primarily the one-dimensional Series and two-dimensional DataFrame—which make it easy **to work** with structured data such as spreadsheets, SQL tables, or CSV files.\n",
    "\n",
    "It supports automatic alignment, missing data handling, and rich data manipulation functions.\n",
    "\n",
    "##### _Pandas provides a convenient way to ***analyze and clean*** data._\n",
    "\n",
    "##### _The Pandas library introduces two new data structures to Python - Series and DataFrame, both of which are built on top of NumPy._\n",
    "\n",
    "Pandas offers a wide range of functions for analyzing, cleaning, exploring, and transforming data. Common tasks include handling missing values, filtering and merging datasets, grouping and summarizing data, and preparing data for visualization or machine learning. It is especially valued in data science for its ability to efficiently process **large datasets** and streamline repetitive data-wrangling tasks\n",
    "\n",
    "#### Analogy (Expanded):\n",
    "\n",
    "        - Think of a Pandas DataFrame like an Excel spreadsheet in Python.\n",
    "\n",
    "        - It has rows and columns, labels, and allows you to perform operations like sorting, filtering, and calculations — but with the full power and speed of Python and NumPy behind it.\n",
    "\n",
    "### What is Pandas Used for?\n",
    "\n",
    "Pandas is a powerful library generally used for:\n",
    "\n",
    "        - Data Cleaning\n",
    "        - Data Transformation\n",
    "        - Data Analysis\n",
    "        - Machine Learning\n",
    "        - Data Visualization\n",
    "\n",
    "### Why Use Pandas?\n",
    "\n",
    "Some of the reasons why we should use Pandas are as follows:\n",
    "\n",
    "1. Handle Large Data Efficiently\n",
    "\n",
    "Pandas is designed for handling large datasets. It provides powerful tools that simplify tasks like data filtering, transforming, and merging.\n",
    "\n",
    "It also provides built-in functions to work with formats like CSV, JSON, TXT, Excel, and SQL databases.\n",
    "\n",
    "2. Tabular Data Representation\n",
    "\n",
    "Pandas DataFrames, the primary data structure of Pandas, handle data in tabular format. This allows easy indexing, selecting, replacing, and slicing of data.\n",
    "\n",
    "3. Data Cleaning and Preprocessing\n",
    "\n",
    "Data cleaning and preprocessing are essential steps in the data analysis pipeline, and Pandas provides powerful tools to facilitate these tasks. It has methods for handling missing values, removing duplicates, handling outliers, data normalization, etc.\n",
    "\n",
    "4. Time Series Functionality\n",
    "\n",
    "Pandas contains an extensive set of tools for working with dates, times, and time-indexed data as it was initially developed for financial modeling.\n",
    "\n",
    "5. Free and Open-Source\n",
    "\n",
    "Pandas follows the same principles as Python, allowing you to use and distribute Pandas for free, even for commercial use.\n"
   ]
  },
  {
   "cell_type": "markdown",
   "id": "e8c9dfd2",
   "metadata": {},
   "source": [
    "#### Import Pandas in Python\n",
    "\n",
    "We can import Pandas in Python using the import statement.\n"
   ]
  },
  {
   "cell_type": "code",
   "execution_count": 1,
   "id": "ee692667",
   "metadata": {},
   "outputs": [],
   "source": [
    "# This code imports the pandas library into our program with the alias pd.\n",
    "import pandas as pd"
   ]
  },
  {
   "cell_type": "markdown",
   "id": "50fcaa04",
   "metadata": {},
   "source": [
    "After this import statement, we can use Pandas functions and objects by calling them with pd.\n",
    "\n",
    "##### **Notes:**\n",
    "\n",
    "        - If we import pandas without an alias using import pandas, we can create a DataFrame using the pandas.DataFrame() function.\n",
    "\n",
    "        - Using an alias pd is a common convention among Python programmers, as it makes it easier and quicker to refer to the pandas library in your code.\n"
   ]
  },
  {
   "cell_type": "markdown",
   "id": "515582bb",
   "metadata": {},
   "source": [
    "#### Main **_Data Structures_** of Pandas\n",
    "\n",
    "Pandas, a popular Python library for data manipulation and analysis, is built around **two** primary data structures:\n",
    "\n",
    "- Series and\n",
    "- DataFrame.\n",
    "\n",
    "##### **Series**\n",
    "\n",
    "A Series is a **_one-dimensional_** labeled array capable of holding **data** of **any** type (integer, string, float, etc.).\n",
    "\n",
    "Each element in a Series has an associated label, called an index, which allows for fast and flexible data access and manipulation.\n",
    "\n",
    "You can think of a Series as similar to a **_single column_** in a spreadsheet or a database table.\n",
    "\n",
    "It consists of **_two_** main **components**: the labels and the data.\n",
    "For example,\n",
    "\n",
    "            0    'John'\n",
    "            1    30\n",
    "            2    6.2\n",
    "            3    False\n",
    "            dtype: object\n",
    "\n",
    "The **labels** are the **index** values assigned to each data point, while the **data** represents the actual **values** stored in the Series.\n",
    "\n",
    "The **_labels_** in the Pandas Series are index numbers by default. Like in dataframe and array, the index number in series starts **_from_** 0.\n",
    "\n",
    "Such labels can be used to access a specified value.\n",
    "\n",
    "**_Note:_** Pandas Series can store elements of different data types. It uses a concept called dtype (data type) to manage and represent the underlying data in a Series.\n",
    "\n",
    "### Creating a Pandas Series\n",
    "\n",
    "We can create a Series from lists, NumPy arrays, or dictionaries:\n",
    "\n",
    "#### From a Python list:\n"
   ]
  },
  {
   "cell_type": "code",
   "execution_count": 2,
   "id": "1c1e38ee",
   "metadata": {},
   "outputs": [
    {
     "name": "stdout",
     "output_type": "stream",
     "text": [
      "0    10\n",
      "1    20\n",
      "2    30\n",
      "3    40\n",
      "4    50\n",
      "dtype: int64\n"
     ]
    }
   ],
   "source": [
    "import pandas as pd\n",
    "\n",
    "data = [10, 20, 30, 40, 50]\n",
    "series = pd.Series(data)\n",
    "print(series)"
   ]
  },
  {
   "cell_type": "markdown",
   "id": "ad7e5c46",
   "metadata": {},
   "source": [
    "By default, the index is a range starting from 0.\n",
    "\n",
    "#### From a NumPy array:\n"
   ]
  },
  {
   "cell_type": "code",
   "execution_count": 3,
   "id": "3154456b",
   "metadata": {},
   "outputs": [
    {
     "name": "stdout",
     "output_type": "stream",
     "text": [
      "0    python\n",
      "1       php\n",
      "2      java\n",
      "dtype: object\n"
     ]
    }
   ],
   "source": [
    "import numpy as np\n",
    "\n",
    "data = np.array(['python', 'php', 'java'])\n",
    "series = pd.Series(data)\n",
    "print(series)"
   ]
  },
  {
   "cell_type": "markdown",
   "id": "da98dea9",
   "metadata": {},
   "source": [
    "#### With a **_custom_** index:\n"
   ]
  },
  {
   "cell_type": "code",
   "execution_count": null,
   "id": "9d9576a4",
   "metadata": {},
   "outputs": [
    {
     "name": "stdout",
     "output_type": "stream",
     "text": [
      "r1    python\n",
      "r2       php\n",
      "r3      java\n",
      "dtype: object\n"
     ]
    }
   ],
   "source": [
    "s2 = pd.Series(data=['python', 'php', 'java'], index=['r1', 'r2', 'r3'])\n",
    "print(s2)"
   ]
  },
  {
   "cell_type": "markdown",
   "id": "956a52c0",
   "metadata": {},
   "source": [
    "#### From a dictionary:\n",
    "\n",
    "Notice that the **_keys_** of the dictionary have become the labels.\n"
   ]
  },
  {
   "cell_type": "code",
   "execution_count": 4,
   "id": "21766367",
   "metadata": {},
   "outputs": [
    {
     "name": "stdout",
     "output_type": "stream",
     "text": [
      "a    100\n",
      "b    200\n",
      "c    300\n",
      "dtype: int64\n"
     ]
    }
   ],
   "source": [
    "data = {'a': 100, 'b': 200, 'c': 300}\n",
    "series = pd.Series(data)\n",
    "print(series)"
   ]
  },
  {
   "cell_type": "markdown",
   "id": "999bcbd8",
   "metadata": {},
   "source": [
    "##### Key Attributes of a Series\n",
    "\n",
    "**index**: The labels of the Series.\n",
    "\n",
    "**values**: The underlying data as a NumPy array.\n",
    "\n",
    "**dtype**: The data type of the Series.\n",
    "\n",
    "**shape**: The shape (number of elements).\n",
    "\n",
    "**size**: Total number of elements.\n",
    "\n",
    "**name**: Name of the Series (optional).\n",
    "\n",
    "**ndim**: Number of dimensions (always 1 for Series)\n",
    "\n",
    "###### Example:\n"
   ]
  },
  {
   "cell_type": "code",
   "execution_count": 6,
   "id": "7f80095b",
   "metadata": {},
   "outputs": [
    {
     "name": "stdout",
     "output_type": "stream",
     "text": [
      "Index(['a', 'b', 'c'], dtype='object')\n",
      "[100 200 300]\n",
      "int64\n",
      "(3,)\n",
      "3\n"
     ]
    }
   ],
   "source": [
    "print(series.index)   # RangeIndex(start=0, stop=5, step=1)\n",
    "print(series.values)  # array([100, 200, 300])\n",
    "print(series.dtype)   # int64\n",
    "print(series.shape)   # (3,)\n",
    "print(series.size)    # 3"
   ]
  },
  {
   "cell_type": "markdown",
   "id": "9398a60e",
   "metadata": {},
   "source": [
    "##### Accessing Data in a Series\n",
    "\n",
    "By position (integer index):\n"
   ]
  },
  {
   "cell_type": "code",
   "execution_count": 9,
   "id": "c6476d7f",
   "metadata": {},
   "outputs": [
    {
     "name": "stdout",
     "output_type": "stream",
     "text": [
      "10\n"
     ]
    }
   ],
   "source": [
    "import pandas as pd\n",
    "\n",
    "data = [10, 20, 30, 40, 50]\n",
    "series = pd.Series(data)\n",
    "\n",
    "print(series[0])  # 10"
   ]
  },
  {
   "cell_type": "markdown",
   "id": "c7198a8f",
   "metadata": {},
   "source": [
    "By label (if custom index):\n"
   ]
  },
  {
   "cell_type": "code",
   "execution_count": 10,
   "id": "7d2c5f8c",
   "metadata": {},
   "outputs": [
    {
     "name": "stdout",
     "output_type": "stream",
     "text": [
      "python\n"
     ]
    }
   ],
   "source": [
    "s2 = pd.Series(data=['python', 'php', 'java'], index=['r1', 'r2', 'r3'])\n",
    "\n",
    "print(s2['r1'])   # python"
   ]
  },
  {
   "cell_type": "markdown",
   "id": "c0a69eff",
   "metadata": {},
   "source": [
    "Slicing:\n"
   ]
  },
  {
   "cell_type": "code",
   "execution_count": 1,
   "id": "03016831",
   "metadata": {},
   "outputs": [
    {
     "name": "stdout",
     "output_type": "stream",
     "text": [
      "1    20\n",
      "2    30\n",
      "3    40\n",
      "dtype: int64\n"
     ]
    }
   ],
   "source": [
    "import pandas as pd\n",
    "\n",
    "data = [10, 20, 30, 40, 50]\n",
    "series = pd.Series(data)\n",
    "print(series[1:4])  # 1    20\n",
    "# 2    30\n",
    "# 3    40"
   ]
  },
  {
   "cell_type": "markdown",
   "id": "667fd9f0",
   "metadata": {},
   "source": [
    "##### **DataFrame**\n",
    "\n",
    "A DataFrame is a **_two-dimensional_**, size-mutable, and potentially **heterogeneous** tabular data structure.\n",
    "\n",
    "For example,\n",
    "\n",
    "          Country      Capital      Population\n",
    "     0    Canada       Ottawa       37742154\n",
    "     1    Australia    Canberra     25499884\n",
    "     2    UK           London       67886011\n",
    "     3    Brazil       Brasília     212559417\n",
    "\n",
    "Here,\n",
    "\n",
    "Country, Capital and Population are the **_column names_**.\n",
    "\n",
    "Each row represents a record, with the index value on the left. The index values are auto-assigned starting from **_0_**.\n",
    "\n",
    "Each column contains data of the **_same_** type. For instance, Country and Capital contain strings, and Population contains integers.\n",
    "\n",
    "It consists of an ordered collection of columns, each of which can be a different data type (numeric, string, boolean, etc.).\n",
    "\n",
    "DataFrames are **_analogous_** to **spreadsheets** in Excel or SQL **tables**, with both row and column indices.\n",
    "It is designed to manage ordered and unordered datasets in Python.\n",
    "\n",
    "Each column in a DataFrame is essentially a Series, and the DataFrame organizes these Series into a table-like structure.\n",
    "\n",
    "#### Key Characteristics of DataFrame\n",
    "\n",
    "- **Two-dimensional**: Data is organized in rows and columns.\n",
    "\n",
    "- **Labeled axes**: Both rows (index) and columns can have labels.\n",
    "\n",
    "- **Heterogeneous data**: Different columns can hold different data types.\n",
    "\n",
    "- Built on top of NumPy for performance.\n",
    "\n",
    "- Handles missing data gracefully.\n",
    "\n",
    "- Supports a wide range of data manipulation and analysis operations.\n",
    "\n",
    "- Creating a DataFrame\n"
   ]
  },
  {
   "cell_type": "markdown",
   "id": "532de7da",
   "metadata": {},
   "source": [
    "#### Create a Pandas DataFrame\n",
    "\n",
    "There are multiple ways to create a DataFrame in pandas:\n",
    "We can create a Pandas DataFrame in the following ways:\n",
    "\n",
    "- From a Dictionary of Lists\n",
    "- From a List of Lists\n",
    "- From a List of Dictionaries\n",
    "- From a NumPy Array\n",
    "- From Series\n",
    "- Reading from CSV or Excel (DataFrame From a File)\n",
    "- Create an Empty DataFrame\n"
   ]
  },
  {
   "cell_type": "markdown",
   "id": "b673d5df",
   "metadata": {},
   "source": [
    "1. From a Dictionary **_of_** Lists\n"
   ]
  },
  {
   "cell_type": "code",
   "execution_count": null,
   "id": "1a08c651",
   "metadata": {},
   "outputs": [
    {
     "name": "stdout",
     "output_type": "stream",
     "text": [
      "    Name  Age\n",
      "0    Tom   20\n",
      "1   Nick   21\n",
      "2  Krish   19\n",
      "3   Jack   18\n",
      "     name  age   city\n",
      "r1   abdi   20  addis\n",
      "r2  chala   21   dire\n",
      "r3  dagoo   19  harar\n"
     ]
    }
   ],
   "source": [
    "import pandas as pd\n",
    "\n",
    "data = {'Name': ['Tom', 'Nick', 'Krish', 'Jack'],\n",
    "        'Age': [20, 21, 19, 18]}\n",
    "df = pd.DataFrame(data)\n",
    "print(df)\n",
    "\n",
    "\n",
    "data = {\"name\": [\"abdi\", \"chala\", \"dagoo\"],\n",
    "        \"age\": [20, 21, 19],\n",
    "        \"city\": [\"addis\", \"dire\", \"hararaddis\"]}\n",
    "df = pd.DataFrame(data, index=[\"r1\", \"r2\", \"r3\"])\n",
    "print(df)"
   ]
  },
  {
   "cell_type": "markdown",
   "id": "568c94b4",
   "metadata": {},
   "source": [
    "2. From a List of Lists\n"
   ]
  },
  {
   "cell_type": "code",
   "execution_count": 17,
   "id": "f4899e06",
   "metadata": {},
   "outputs": [
    {
     "name": "stdout",
     "output_type": "stream",
     "text": [
      "   Name  Age\n",
      "0   Tom   10\n",
      "1  Nick   15\n",
      "2  Juli   14\n"
     ]
    }
   ],
   "source": [
    "data = [['Tom', 10], ['Nick', 15], ['Juli', 14]]\n",
    "df = pd.DataFrame(data, columns=['Name', 'Age'])\n",
    "print(df)"
   ]
  },
  {
   "cell_type": "markdown",
   "id": "fdb4f566",
   "metadata": {},
   "source": [
    "3. From a List of Dictionaries\n"
   ]
  },
  {
   "cell_type": "code",
   "execution_count": 22,
   "id": "9074329d",
   "metadata": {},
   "outputs": [
    {
     "name": "stdout",
     "output_type": "stream",
     "text": [
      "    a   b\n",
      "0   1   2\n",
      "1  10  30\n"
     ]
    }
   ],
   "source": [
    "data = [{'a': 1, 'b': 2}, {'a': 10, 'b': 20, 'b': 30}]\n",
    "df = pd.DataFrame(data)\n",
    "print(df)"
   ]
  },
  {
   "cell_type": "markdown",
   "id": "cd47e4b8",
   "metadata": {},
   "source": [
    "4. From a NumPy Array\n"
   ]
  },
  {
   "cell_type": "code",
   "execution_count": null,
   "id": "70615651",
   "metadata": {},
   "outputs": [
    {
     "name": "stdout",
     "output_type": "stream",
     "text": [
      "    Name Age\n",
      "0  Alice  25\n",
      "1    Bob  30\n"
     ]
    }
   ],
   "source": [
    "import numpy as np\n",
    "\n",
    "data = np.array([['Alice', 25], ['Bob', 30]])\n",
    "df = pd.DataFrame(data, columns=['Name', 'Age'])\n",
    "print(df)"
   ]
  },
  {
   "cell_type": "markdown",
   "id": "e2c7fe8a",
   "metadata": {},
   "source": [
    "5. From Series\n"
   ]
  },
  {
   "cell_type": "code",
   "execution_count": 24,
   "id": "8dd2dfde",
   "metadata": {},
   "outputs": [
    {
     "name": "stdout",
     "output_type": "stream",
     "text": [
      "  Courses  Course_Fee Course_Duration\n",
      "0   Spark       20000          30days\n",
      "1  Pandas       25000          40days\n"
     ]
    }
   ],
   "source": [
    "courses = pd.Series(['Spark', 'Pandas'])\n",
    "fees = pd.Series([20000, 25000])\n",
    "duration = pd.Series(['30days', '40days'])\n",
    "\n",
    "df = pd.concat({'Courses': courses, 'Course_Fee': fees,\n",
    "               'Course_Duration': duration}, axis=1)\n",
    "print(df)"
   ]
  },
  {
   "cell_type": "markdown",
   "id": "8399b967",
   "metadata": {},
   "source": [
    "6. Reading from CSV or Excel\n",
    "\n",
    "Another common way to create a DataFrame is by **_loading_** data from a CSV (**_Comma-Separated Values_**) file.\n",
    "\n",
    "Refers to the process of **_importing and analyzing_** data that is stored in a CSV (Comma-Separated Values) file.\n",
    "\n",
    "For example,\n"
   ]
  },
  {
   "cell_type": "code",
   "execution_count": 29,
   "id": "9ae7de8d",
   "metadata": {},
   "outputs": [
    {
     "data": {
      "text/plain": [
       "\"'\\ndf = pd.read_excel('data.xlsx')  # Read Excel file\\ndf = pd.read_json('data.json')  # Read JSON file\\ndf = pd.read_html('data.html')  # Read HTML file\\ndf = pd.read_sql('SELECT * FROM table_name', con)  # Read SQL file\\ndf = pd.read_sql_table('table_name', con)  # Read SQL table\\ndf = pd.read_sql_query('SELECT * FROM table_name', con)  # Read SQL query\\n\""
      ]
     },
     "execution_count": 29,
     "metadata": {},
     "output_type": "execute_result"
    }
   ],
   "source": [
    "df = pd.read_csv('data.csv')  # Read CSV file\n",
    "''''\n",
    "df = pd.read_excel('data.xlsx')  # Read Excel file\n",
    "df = pd.read_json('data.json')  # Read JSON file\n",
    "df = pd.read_html('data.html')  # Read HTML file\n",
    "df = pd.read_sql('SELECT * FROM table_name', con)  # Read SQL file\n",
    "df = pd.read_sql_table('table_name', con)  # Read SQL table\n",
    "df = pd.read_sql_query('SELECT * FROM table_name', con)  # Read SQL query\n",
    "'''"
   ]
  },
  {
   "cell_type": "code",
   "execution_count": null,
   "id": "bf5e2e40",
   "metadata": {},
   "outputs": [
    {
     "name": "stdout",
     "output_type": "stream",
     "text": [
      "           Car       Model  Volume  Weight  CO2\n",
      "0       Toyoty        Aygo    1000     790   99\n",
      "1   Mitsubishi  Space Star    1200    1160   95\n",
      "2        Skoda      Citigo    1000     929   95\n",
      "3         Fiat         500     900     865   90\n",
      "4         Mini      Cooper    1500    1140  105\n",
      "5           VW         Up!    1000     929  105\n",
      "6        Skoda       Fabia    1400    1109   90\n",
      "7     Mercedes     A-Class    1500    1365   92\n",
      "8         Ford      Fiesta    1500    1112   98\n",
      "9         Audi          A1    1600    1150   99\n",
      "10     Hyundai         I20    1100     980   99\n",
      "11      Suzuki       Swift    1300     990  101\n",
      "12        Ford      Fiesta    1000    1112   99\n",
      "13       Honda       Civic    1600    1252   94\n",
      "14      Hundai         I30    1600    1326   97\n",
      "15        Opel       Astra    1600    1330   97\n",
      "16         BMW           1    1600    1365   99\n",
      "17       Mazda           3    2200    1280  104\n",
      "18       Skoda       Rapid    1600    1119  104\n",
      "19        Ford       Focus    2000    1328  105\n",
      "20        Ford      Mondeo    1600    1584   94\n",
      "21        Opel    Insignia    2000    1428   99\n",
      "22    Mercedes     C-Class    2100    1365   99\n",
      "23       Skoda     Octavia    1600    1415   99\n",
      "24       Volvo         S60    2000    1415   99\n",
      "25    Mercedes         CLA    1500    1465  102\n",
      "26        Audi          A4    2000    1490  104\n",
      "27        Audi          A6    2000    1725  114\n",
      "28       Volvo         V70    1600    1523  109\n",
      "29         BMW           5    2000    1705  114\n",
      "30    Mercedes     E-Class    2100    1605  115\n",
      "31       Volvo        XC70    2000    1746  117\n",
      "32        Ford       B-Max    1600    1235  104\n",
      "33         BMW         216    1600    1390  108\n",
      "34        Opel      Zafira    1600    1405  109\n",
      "35    Mercedes         SLK    2500    1395  120\n"
     ]
    }
   ],
   "source": [
    "\n",
    "import pandas as pd\n",
    "\n",
    "# load data from a CSV file\n",
    "df = pd.read_csv('data.csv')\n",
    "\n",
    "print(df)"
   ]
  },
  {
   "cell_type": "markdown",
   "id": "f8d5e56f",
   "metadata": {},
   "source": [
    "In this example, we used the read*csv() \\*\\*\\_function*\\*\\* which reads the CSV file data.csv, and automatically creates a DataFrame object df, containing data from the CSV file.\n"
   ]
  },
  {
   "cell_type": "markdown",
   "id": "c6a5063b",
   "metadata": {},
   "source": [
    "In this example, we used the **_read_csv()_** function which reads the CSV file data.csv, and automatically creates a DataFrame object df, containing data from the CSV file.\n"
   ]
  },
  {
   "cell_type": "markdown",
   "id": "0ecec3f6",
   "metadata": {},
   "source": [
    "7.Create an Empty DataFrame\n"
   ]
  },
  {
   "cell_type": "code",
   "execution_count": 32,
   "id": "c4647219",
   "metadata": {},
   "outputs": [
    {
     "name": "stdout",
     "output_type": "stream",
     "text": [
      "Empty DataFrame\n",
      "Columns: []\n",
      "Index: []\n"
     ]
    },
    {
     "data": {
      "text/plain": [
       "'In this example, we have created an empty DataFrame by calling pd.DataFrame() without any arguments.\\nHere, both the Columns and Index lists are empty in the DataFrame.The DataFrame has no data, but it can be used as a container to store and manipulate data later.\\n'"
      ]
     },
     "execution_count": 32,
     "metadata": {},
     "output_type": "execute_result"
    }
   ],
   "source": [
    "import pandas as pd\n",
    "\n",
    "# create an empty DataFrame\n",
    "df = pd.DataFrame()\n",
    "\n",
    "print(df)\n",
    "\n",
    "'''In this example, we have created an empty DataFrame by calling pd.DataFrame() without any arguments.\n",
    "Here, both the Columns and Index lists are empty in the DataFrame.The DataFrame has no data, but it can be used as a container to store and manipulate data later.\n",
    "'''"
   ]
  },
  {
   "cell_type": "markdown",
   "id": "8b8fd79a",
   "metadata": {},
   "source": [
    "**_Additional Notes_**\n",
    "Both Series and DataFrame support a wide range of data types, including numeric, boolean, string (object), categorical, and datetime types.\n",
    "\n",
    "In summary, pandas’ core data structures—Series (1D) and DataFrame (2D)—enable efficient and flexible handling of labeled data, making them essential tools for data science and analytics in Python.\n"
   ]
  },
  {
   "cell_type": "markdown",
   "id": "c4170f43",
   "metadata": {},
   "source": [
    "### **Useful Inspect Methods in Pandas DataFrame**\n",
    "\n",
    "Inspecting your data is a crucial first step in any data analysis workflow.\n",
    "\n",
    "Pandas provides several built-in **_methods and attributes_** to help you quickly understand the structure, content, and quality of your DataFrame.\n",
    "\n",
    "Here are the most useful inspect methods, with examples:\n",
    "\n",
    "1.  **head() and tail()**\n",
    "\n",
    "- Purpose: **_View_** the first or last few rows of the DataFrame.\n",
    "\n",
    "- Usage:\n"
   ]
  },
  {
   "cell_type": "code",
   "execution_count": null,
   "id": "2e35a693",
   "metadata": {},
   "outputs": [
    {
     "data": {
      "application/vnd.microsoft.datawrangler.viewer.v0+json": {
       "columns": [
        {
         "name": "index",
         "rawType": "int64",
         "type": "integer"
        },
        {
         "name": "Car",
         "rawType": "object",
         "type": "string"
        },
        {
         "name": "Model",
         "rawType": "object",
         "type": "string"
        },
        {
         "name": "Volume",
         "rawType": "int64",
         "type": "integer"
        },
        {
         "name": "Weight",
         "rawType": "int64",
         "type": "integer"
        },
        {
         "name": "CO2",
         "rawType": "int64",
         "type": "integer"
        }
       ],
       "conversionMethod": "pd.DataFrame",
       "ref": "0f7ce199-70d9-4295-b2eb-cf54cd11c479",
       "rows": [
        [
         "0",
         "Toyoty",
         "Aygo",
         "1000",
         "790",
         "99"
        ],
        [
         "1",
         "Mitsubishi",
         "Space Star",
         "1200",
         "1160",
         "95"
        ],
        [
         "2",
         "Skoda",
         "Citigo",
         "1000",
         "929",
         "95"
        ],
        [
         "3",
         "Fiat",
         "500",
         "900",
         "865",
         "90"
        ],
        [
         "4",
         "Mini",
         "Cooper",
         "1500",
         "1140",
         "105"
        ]
       ],
       "shape": {
        "columns": 5,
        "rows": 5
       }
      },
      "text/html": [
       "<div>\n",
       "<style scoped>\n",
       "    .dataframe tbody tr th:only-of-type {\n",
       "        vertical-align: middle;\n",
       "    }\n",
       "\n",
       "    .dataframe tbody tr th {\n",
       "        vertical-align: top;\n",
       "    }\n",
       "\n",
       "    .dataframe thead th {\n",
       "        text-align: right;\n",
       "    }\n",
       "</style>\n",
       "<table border=\"1\" class=\"dataframe\">\n",
       "  <thead>\n",
       "    <tr style=\"text-align: right;\">\n",
       "      <th></th>\n",
       "      <th>Car</th>\n",
       "      <th>Model</th>\n",
       "      <th>Volume</th>\n",
       "      <th>Weight</th>\n",
       "      <th>CO2</th>\n",
       "    </tr>\n",
       "  </thead>\n",
       "  <tbody>\n",
       "    <tr>\n",
       "      <th>0</th>\n",
       "      <td>Toyoty</td>\n",
       "      <td>Aygo</td>\n",
       "      <td>1000</td>\n",
       "      <td>790</td>\n",
       "      <td>99</td>\n",
       "    </tr>\n",
       "    <tr>\n",
       "      <th>1</th>\n",
       "      <td>Mitsubishi</td>\n",
       "      <td>Space Star</td>\n",
       "      <td>1200</td>\n",
       "      <td>1160</td>\n",
       "      <td>95</td>\n",
       "    </tr>\n",
       "    <tr>\n",
       "      <th>2</th>\n",
       "      <td>Skoda</td>\n",
       "      <td>Citigo</td>\n",
       "      <td>1000</td>\n",
       "      <td>929</td>\n",
       "      <td>95</td>\n",
       "    </tr>\n",
       "    <tr>\n",
       "      <th>3</th>\n",
       "      <td>Fiat</td>\n",
       "      <td>500</td>\n",
       "      <td>900</td>\n",
       "      <td>865</td>\n",
       "      <td>90</td>\n",
       "    </tr>\n",
       "    <tr>\n",
       "      <th>4</th>\n",
       "      <td>Mini</td>\n",
       "      <td>Cooper</td>\n",
       "      <td>1500</td>\n",
       "      <td>1140</td>\n",
       "      <td>105</td>\n",
       "    </tr>\n",
       "  </tbody>\n",
       "</table>\n",
       "</div>"
      ],
      "text/plain": [
       "          Car       Model  Volume  Weight  CO2\n",
       "0      Toyoty        Aygo    1000     790   99\n",
       "1  Mitsubishi  Space Star    1200    1160   95\n",
       "2       Skoda      Citigo    1000     929   95\n",
       "3        Fiat         500     900     865   90\n",
       "4        Mini      Cooper    1500    1140  105"
      ]
     },
     "execution_count": 36,
     "metadata": {},
     "output_type": "execute_result"
    }
   ],
   "source": [
    "df.head()      # First 5 rows by default\n",
    "# df.head(10)    # First 10 rows\n",
    "# df.tail()      # Last 5 rows by default\n",
    "# df.tail(3)     # Last 3 rows"
   ]
  },
  {
   "cell_type": "markdown",
   "id": "a52310a6",
   "metadata": {},
   "source": [
    "- Why: Quickly check data samples, column names, and spot obvious issues.\n",
    "\n",
    "2. **shape Attribute**\n",
    "\n",
    "- Purpose: Get the dimensions of the DataFrame (rows, columns).\n",
    "\n",
    "- Usage:\n"
   ]
  },
  {
   "cell_type": "code",
   "execution_count": null,
   "id": "d1f817fd",
   "metadata": {},
   "outputs": [
    {
     "data": {
      "text/plain": [
       "(36, 5)"
      ]
     },
     "execution_count": 41,
     "metadata": {},
     "output_type": "execute_result"
    }
   ],
   "source": [
    "df.shape\n",
    "# Output: (number_of_rows, number_of_columns)"
   ]
  },
  {
   "cell_type": "code",
   "execution_count": null,
   "id": "f687c1d4",
   "metadata": {},
   "outputs": [
    {
     "name": "stdout",
     "output_type": "stream",
     "text": [
      "   col1  col2\n",
      "0     1     3\n",
      "1     2     4\n",
      "(2, 2)\n",
      "   col1\n",
      "0     1\n",
      "1     2\n",
      "2     3\n",
      "3     4\n",
      "4     5\n",
      "(5, 1)\n",
      "Empty DataFrame\n",
      "Columns: []\n",
      "Index: []\n",
      "(0, 0)\n"
     ]
    }
   ],
   "source": [
    "import pandas as pd\n",
    "\n",
    "# Example 1:\n",
    "data1 = {'col1': [1, 2], 'col2': [3, 4]}\n",
    "df1 = pd.DataFrame(data1)\n",
    "print(df1)\n",
    "print(df1.shape)\n",
    "\n",
    "# Example 2:\n",
    "data2 = {'col1': [1, 2, 3, 4, 5]}\n",
    "df2 = pd.DataFrame(data2)\n",
    "print(df2)\n",
    "print(df2.shape)\n",
    "\n",
    "# Example 3: Empty DataFrame\n",
    "df3 = pd.DataFrame()\n",
    "print(df3)\n",
    "print(df3.shape)"
   ]
  },
  {
   "cell_type": "markdown",
   "id": "faa96e42",
   "metadata": {},
   "source": [
    "- Why: Know the size of your dataset instantly\n"
   ]
  },
  {
   "cell_type": "markdown",
   "id": "b79143ea",
   "metadata": {},
   "source": [
    "3. **info()**\n",
    "\n",
    "- Purpose: Summary of the DataFrame, including index dtype, column dtypes, non-null counts, and memory usage.\n",
    "\n",
    "- Usage:\n"
   ]
  },
  {
   "cell_type": "code",
   "execution_count": 45,
   "id": "9d22c47a",
   "metadata": {},
   "outputs": [
    {
     "name": "stdout",
     "output_type": "stream",
     "text": [
      "<class 'pandas.core.frame.DataFrame'>\n",
      "RangeIndex: 36 entries, 0 to 35\n",
      "Data columns (total 5 columns):\n",
      " #   Column  Non-Null Count  Dtype \n",
      "---  ------  --------------  ----- \n",
      " 0   Car     36 non-null     object\n",
      " 1   Model   36 non-null     object\n",
      " 2   Volume  36 non-null     int64 \n",
      " 3   Weight  36 non-null     int64 \n",
      " 4   CO2     36 non-null     int64 \n",
      "dtypes: int64(3), object(2)\n",
      "memory usage: 1.5+ KB\n"
     ]
    }
   ],
   "source": [
    "df.info()\n",
    "# Display information about the DataFrame, including the number of non-null values and data types of each column."
   ]
  },
  {
   "cell_type": "markdown",
   "id": "862f40f7",
   "metadata": {},
   "source": [
    "- Why: Essential for detecting missing data, understanding data types, and getting a quick overview\n"
   ]
  },
  {
   "cell_type": "markdown",
   "id": "3cb6ee2b",
   "metadata": {},
   "source": [
    "4. **describe()**\n",
    "\n",
    "- Purpose: Generate descriptive statistics for numeric (and optionally, categorical) columns.\n",
    "\n",
    "- Usage:\n"
   ]
  },
  {
   "cell_type": "code",
   "execution_count": null,
   "id": "35ce445e",
   "metadata": {},
   "outputs": [
    {
     "data": {
      "application/vnd.microsoft.datawrangler.viewer.v0+json": {
       "columns": [
        {
         "name": "index",
         "rawType": "object",
         "type": "string"
        },
        {
         "name": "Volume",
         "rawType": "float64",
         "type": "float"
        },
        {
         "name": "Weight",
         "rawType": "float64",
         "type": "float"
        },
        {
         "name": "CO2",
         "rawType": "float64",
         "type": "float"
        }
       ],
       "conversionMethod": "pd.DataFrame",
       "ref": "65d70639-b42d-4b31-bf64-ecfcbd7ddb49",
       "rows": [
        [
         "count",
         "36.0",
         "36.0",
         "36.0"
        ],
        [
         "mean",
         "1611.111111111111",
         "1292.2777777777778",
         "102.02777777777777"
        ],
        [
         "std",
         "388.97504714517004",
         "242.12388931655997",
         "7.4545714109286605"
        ],
        [
         "min",
         "900.0",
         "790.0",
         "90.0"
        ],
        [
         "25%",
         "1475.0",
         "1117.25",
         "97.75"
        ],
        [
         "50%",
         "1600.0",
         "1329.0",
         "99.0"
        ],
        [
         "75%",
         "2000.0",
         "1418.25",
         "105.0"
        ],
        [
         "max",
         "2500.0",
         "1746.0",
         "120.0"
        ]
       ],
       "shape": {
        "columns": 3,
        "rows": 8
       }
      },
      "text/html": [
       "<div>\n",
       "<style scoped>\n",
       "    .dataframe tbody tr th:only-of-type {\n",
       "        vertical-align: middle;\n",
       "    }\n",
       "\n",
       "    .dataframe tbody tr th {\n",
       "        vertical-align: top;\n",
       "    }\n",
       "\n",
       "    .dataframe thead th {\n",
       "        text-align: right;\n",
       "    }\n",
       "</style>\n",
       "<table border=\"1\" class=\"dataframe\">\n",
       "  <thead>\n",
       "    <tr style=\"text-align: right;\">\n",
       "      <th></th>\n",
       "      <th>Volume</th>\n",
       "      <th>Weight</th>\n",
       "      <th>CO2</th>\n",
       "    </tr>\n",
       "  </thead>\n",
       "  <tbody>\n",
       "    <tr>\n",
       "      <th>count</th>\n",
       "      <td>36.000000</td>\n",
       "      <td>36.000000</td>\n",
       "      <td>36.000000</td>\n",
       "    </tr>\n",
       "    <tr>\n",
       "      <th>mean</th>\n",
       "      <td>1611.111111</td>\n",
       "      <td>1292.277778</td>\n",
       "      <td>102.027778</td>\n",
       "    </tr>\n",
       "    <tr>\n",
       "      <th>std</th>\n",
       "      <td>388.975047</td>\n",
       "      <td>242.123889</td>\n",
       "      <td>7.454571</td>\n",
       "    </tr>\n",
       "    <tr>\n",
       "      <th>min</th>\n",
       "      <td>900.000000</td>\n",
       "      <td>790.000000</td>\n",
       "      <td>90.000000</td>\n",
       "    </tr>\n",
       "    <tr>\n",
       "      <th>25%</th>\n",
       "      <td>1475.000000</td>\n",
       "      <td>1117.250000</td>\n",
       "      <td>97.750000</td>\n",
       "    </tr>\n",
       "    <tr>\n",
       "      <th>50%</th>\n",
       "      <td>1600.000000</td>\n",
       "      <td>1329.000000</td>\n",
       "      <td>99.000000</td>\n",
       "    </tr>\n",
       "    <tr>\n",
       "      <th>75%</th>\n",
       "      <td>2000.000000</td>\n",
       "      <td>1418.250000</td>\n",
       "      <td>105.000000</td>\n",
       "    </tr>\n",
       "    <tr>\n",
       "      <th>max</th>\n",
       "      <td>2500.000000</td>\n",
       "      <td>1746.000000</td>\n",
       "      <td>120.000000</td>\n",
       "    </tr>\n",
       "  </tbody>\n",
       "</table>\n",
       "</div>"
      ],
      "text/plain": [
       "            Volume       Weight         CO2\n",
       "count    36.000000    36.000000   36.000000\n",
       "mean   1611.111111  1292.277778  102.027778\n",
       "std     388.975047   242.123889    7.454571\n",
       "min     900.000000   790.000000   90.000000\n",
       "25%    1475.000000  1117.250000   97.750000\n",
       "50%    1600.000000  1329.000000   99.000000\n",
       "75%    2000.000000  1418.250000  105.000000\n",
       "max    2500.000000  1746.000000  120.000000"
      ]
     },
     "execution_count": 49,
     "metadata": {},
     "output_type": "execute_result"
    }
   ],
   "source": [
    "df.describe()                      # Numeric columns summary\n",
    "# df.describe(include='object')      # Categorical columns summary\n",
    "# df.describe(include='all')         # All columns\n",
    "# df.describe(include='number')      # Numeric columns summary\n",
    "# df.describe(include='float')       # Float columns summary"
   ]
  },
  {
   "cell_type": "markdown",
   "id": "c9d9f870",
   "metadata": {},
   "source": [
    "- Why: Quickly see count, mean, std, min, max, and quartiles for numeric data; unique values, top value, and frequency for categorical data.\n"
   ]
  },
  {
   "cell_type": "markdown",
   "id": "1ab07cb6",
   "metadata": {},
   "source": [
    "5. **dtypes Attribute**\n",
    "\n",
    "- Purpose: List the data types of each column.\n",
    "\n",
    "- Usage:\n"
   ]
  },
  {
   "cell_type": "code",
   "execution_count": null,
   "id": "d1fd37ac",
   "metadata": {},
   "outputs": [
    {
     "data": {
      "text/plain": [
       "Series([], dtype: object)"
      ]
     },
     "execution_count": 28,
     "metadata": {},
     "output_type": "execute_result"
    }
   ],
   "source": [
    "df.dtypes"
   ]
  },
  {
   "cell_type": "markdown",
   "id": "13c98a11",
   "metadata": {},
   "source": [
    "- Why: Check if columns have the expected types (e.g., numeric, object, datetime)\n"
   ]
  },
  {
   "cell_type": "markdown",
   "id": "f9d6af66",
   "metadata": {},
   "source": [
    "6. **columns,index and values Attributes**\n",
    "\n",
    "- Purpose: Get the list of column names and row indices.\n",
    "\n",
    "- Usage:\n"
   ]
  },
  {
   "cell_type": "code",
   "execution_count": null,
   "id": "7929d9c1",
   "metadata": {},
   "outputs": [],
   "source": [
    "df.columns    # Column names\n",
    "df.index      # Row index labels\n",
    "df.values     # Data as a NumPy array"
   ]
  },
  {
   "cell_type": "markdown",
   "id": "87b31c99",
   "metadata": {},
   "source": [
    "- Why: Useful for referencing or renaming columns and understanding how your data is indexed\n"
   ]
  },
  {
   "cell_type": "markdown",
   "id": "82d480de",
   "metadata": {},
   "source": [
    "7. **isnull() and sum()**\n",
    "\n",
    "- Purpose: Detect missing values in the DataFrame.\n",
    "\n",
    "- Usage:\n"
   ]
  },
  {
   "cell_type": "code",
   "execution_count": 30,
   "id": "73e30a0c",
   "metadata": {},
   "outputs": [
    {
     "data": {
      "text/plain": [
       "Series([], dtype: float64)"
      ]
     },
     "execution_count": 30,
     "metadata": {},
     "output_type": "execute_result"
    }
   ],
   "source": [
    "df.isnull()            # DataFrame of True/False for missing values\n",
    "df.isnull().sum()      # Count of missing values per column\n",
    "df.notnull()           # DataFrame of True/False for non-missing values\n",
    "df.notnull().sum()     # Count of non-missing values per column"
   ]
  },
  {
   "cell_type": "markdown",
   "id": "549dd619",
   "metadata": {},
   "source": [
    "- Why: Identify columns with missing data for cleaning or imputation.\n",
    "\n",
    "8. **unique(), nunique(), and value_counts()**\n",
    "\n",
    "- Purpose: Analyze categorical data.\n",
    "\n",
    "- Usage:\n"
   ]
  },
  {
   "cell_type": "code",
   "execution_count": null,
   "id": "806d87b3",
   "metadata": {},
   "outputs": [],
   "source": [
    "df['column'].unique()         # Array of unique values\n",
    "df['column'].nunique()        # Number of unique values\n",
    "df['column'].value_counts()   # Frequency of each value\n",
    "df['column'].value_counts(normalize=True)  # Relative frequency of each value\n",
    "df['column'].value_counts().sort_index()  # Sort by index"
   ]
  },
  {
   "cell_type": "markdown",
   "id": "6317ebf4",
   "metadata": {},
   "source": [
    "- Why: Explore the distribution and diversity of categorical columns.\n",
    "\n",
    "#### Example Workflow\n"
   ]
  },
  {
   "cell_type": "code",
   "execution_count": null,
   "id": "a4ff21a0",
   "metadata": {},
   "outputs": [],
   "source": [
    "import pandas as pd\n",
    "\n",
    "# Load your data\n",
    "df = pd.read_csv('data.csv')\n",
    "\n",
    "# Inspect the data\n",
    "print(df.head())\n",
    "print(df.tail())\n",
    "print(df.shape)\n",
    "print(df.info())\n",
    "print(df.dtypes)\n",
    "print(df.columns)\n",
    "print(df.index)\n",
    "print(df.describe())\n",
    "print(df.isnull().sum())\n",
    "print(df['Category'].unique())\n",
    "print(df['Category'].value_counts())"
   ]
  },
  {
   "cell_type": "markdown",
   "id": "5bc02d95",
   "metadata": {},
   "source": [
    "Summary Table\n",
    "\n",
    "    Method/Attribute\t        Purpose\t                                Example Usage\n",
    "    head(), tail()\t            View sample rows\t                    df.head(3)\n",
    "    shape\t                    Dimensions (rows, columns)\t            df.shape\n",
    "    info()\t                    DataFrame summary, non-null counts      df.info()\n",
    "    dtypes\t                    Data types of columns\t                df.dtypes\n",
    "    columns, index\t            List columns and row indices\t        df.columns\n",
    "    describe()\t                Descriptive statistics\t                df.describe()\n",
    "    isnull(), sum()\t            Detect/count missing values\t            df.isnull().sum()\n",
    "    unique(), nunique(), value_counts()\tAnalyze categorical data\tdf['col'].value_counts()\n",
    "\n",
    "These methods are essential for efficiently inspecting and understanding your data before analysis or modeling.\n"
   ]
  }
 ],
 "metadata": {
  "kernelspec": {
   "display_name": "Python 3",
   "language": "python",
   "name": "python3"
  },
  "language_info": {
   "codemirror_mode": {
    "name": "ipython",
    "version": 3
   },
   "file_extension": ".py",
   "mimetype": "text/x-python",
   "name": "python",
   "nbconvert_exporter": "python",
   "pygments_lexer": "ipython3",
   "version": "3.13.2"
  }
 },
 "nbformat": 4,
 "nbformat_minor": 5
}
