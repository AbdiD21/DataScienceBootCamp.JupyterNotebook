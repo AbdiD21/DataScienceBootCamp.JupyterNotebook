{
 "cells": [
  {
   "cell_type": "markdown",
   "id": "a3bd7877",
   "metadata": {},
   "source": [
    "### Pandas Select\n",
    "\n",
    "Pandas select refers to the process of extracting specific portions of data from a DataFrame.\n",
    "\n",
    "Data selection involves choosing specific rows and columns based on labels, positions, or conditions.\n",
    "\n",
    "Pandas provides various methods, such as basic indexing, slicing, boolean indexing, and querying, to efficiently extract, filter, and transform data, enabling users to focus on relevant information for analysis and decision-making.\n",
    "\n",
    "Pandas Select\n",
    "\n",
    "Select Data Using Indexing and Slicing\n",
    "\n",
    "Using loc and iloc to Select Data\n",
    "\n",
    "Select Rows Based on Specific Criteria\n",
    "\n",
    "query() to Select Data\n",
    "\n",
    "Select Rows Based on a List of Values\n"
   ]
  }
 ],
 "metadata": {
  "language_info": {
   "name": "python"
  }
 },
 "nbformat": 4,
 "nbformat_minor": 5
}
