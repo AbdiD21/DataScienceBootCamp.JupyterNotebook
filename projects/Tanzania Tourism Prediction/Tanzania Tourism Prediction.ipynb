{
 "cells": [
  {
   "cell_type": "markdown",
   "id": "e5c5782d",
   "metadata": {},
   "source": [
    "#### Import Required Libraries\n",
    "\n",
    "Import necessary libraries such as pandas, numpy, matplotlib, and seaborn for data analysis and visualization.\n"
   ]
  },
  {
   "cell_type": "code",
   "execution_count": 1,
   "id": "cabaeb6b",
   "metadata": {},
   "outputs": [],
   "source": [
    "# Import Required Libraries\n",
    "import pandas as pd\n",
    "import numpy as np\n",
    "import seaborn as sns\n",
    "import matplotlib.pyplot as plt\n",
    "%matplotlib inline\n",
    "\n",
    "import warnings\n",
    "\n",
    "# Suppress any warnings\n",
    "warnings.filterwarnings(\"ignore\")"
   ]
  },
  {
   "cell_type": "code",
   "execution_count": 2,
   "id": "49cad5eb",
   "metadata": {},
   "outputs": [],
   "source": [
    "train = pd.read_csv('Train.csv')\n",
    "test = pd.read_csv('Test.csv')\n",
    "sub = pd.read_csv('SampleSubmission.csv')"
   ]
  },
  {
   "cell_type": "code",
   "execution_count": 3,
   "id": "00d71f87",
   "metadata": {},
   "outputs": [
    {
     "data": {
      "application/vnd.microsoft.datawrangler.viewer.v0+json": {
       "columns": [
        {
         "name": "index",
         "rawType": "int64",
         "type": "integer"
        },
        {
         "name": "ID",
         "rawType": "object",
         "type": "string"
        },
        {
         "name": "country",
         "rawType": "object",
         "type": "string"
        },
        {
         "name": "age_group",
         "rawType": "object",
         "type": "string"
        },
        {
         "name": "travel_with",
         "rawType": "object",
         "type": "unknown"
        },
        {
         "name": "total_female",
         "rawType": "float64",
         "type": "float"
        },
        {
         "name": "total_male",
         "rawType": "float64",
         "type": "float"
        },
        {
         "name": "purpose",
         "rawType": "object",
         "type": "string"
        },
        {
         "name": "main_activity",
         "rawType": "object",
         "type": "string"
        },
        {
         "name": "info_source",
         "rawType": "object",
         "type": "string"
        },
        {
         "name": "tour_arrangement",
         "rawType": "object",
         "type": "string"
        },
        {
         "name": "package_transport_int",
         "rawType": "object",
         "type": "string"
        },
        {
         "name": "package_accomodation",
         "rawType": "object",
         "type": "string"
        },
        {
         "name": "package_food",
         "rawType": "object",
         "type": "string"
        },
        {
         "name": "package_transport_tz",
         "rawType": "object",
         "type": "string"
        },
        {
         "name": "package_sightseeing",
         "rawType": "object",
         "type": "string"
        },
        {
         "name": "package_guided_tour",
         "rawType": "object",
         "type": "string"
        },
        {
         "name": "package_insurance",
         "rawType": "object",
         "type": "string"
        },
        {
         "name": "night_mainland",
         "rawType": "float64",
         "type": "float"
        },
        {
         "name": "night_zanzibar",
         "rawType": "float64",
         "type": "float"
        },
        {
         "name": "payment_mode",
         "rawType": "object",
         "type": "string"
        },
        {
         "name": "first_trip_tz",
         "rawType": "object",
         "type": "string"
        },
        {
         "name": "most_impressing",
         "rawType": "object",
         "type": "string"
        },
        {
         "name": "total_cost",
         "rawType": "float64",
         "type": "float"
        }
       ],
       "conversionMethod": "pd.DataFrame",
       "ref": "47d51900-fd29-4fea-9d7a-d48cdacaa38f",
       "rows": [
        [
         "0",
         "tour_0",
         "SWIZERLAND",
         "45-64",
         "Friends/Relatives",
         "1.0",
         "1.0",
         "Leisure and Holidays",
         "Wildlife tourism",
         "Friends, relatives",
         "Independent",
         "No",
         "No",
         "No",
         "No",
         "No",
         "No",
         "No",
         "13.0",
         "0.0",
         "Cash",
         "No",
         "Friendly People",
         "674602.5"
        ],
        [
         "1",
         "tour_10",
         "UNITED KINGDOM",
         "25-44",
         null,
         "1.0",
         "0.0",
         "Leisure and Holidays",
         "Cultural tourism",
         "others",
         "Independent",
         "No",
         "No",
         "No",
         "No",
         "No",
         "No",
         "No",
         "14.0",
         "7.0",
         "Cash",
         "Yes",
         "Wonderful Country, Landscape, Nature",
         "3214906.5"
        ],
        [
         "2",
         "tour_1000",
         "UNITED KINGDOM",
         "25-44",
         "Alone",
         "0.0",
         "1.0",
         "Visiting Friends and Relatives",
         "Cultural tourism",
         "Friends, relatives",
         "Independent",
         "No",
         "No",
         "No",
         "No",
         "No",
         "No",
         "No",
         "1.0",
         "31.0",
         "Cash",
         "No",
         "Excellent Experience",
         "3315000.0"
        ],
        [
         "3",
         "tour_1002",
         "UNITED KINGDOM",
         "25-44",
         "Spouse",
         "1.0",
         "1.0",
         "Leisure and Holidays",
         "Wildlife tourism",
         "Travel, agent, tour operator",
         "Package Tour",
         "No",
         "Yes",
         "Yes",
         "Yes",
         "Yes",
         "Yes",
         "No",
         "11.0",
         "0.0",
         "Cash",
         "Yes",
         "Friendly People",
         "7790250.0"
        ],
        [
         "4",
         "tour_1004",
         "CHINA",
         "1-24",
         null,
         "1.0",
         "0.0",
         "Leisure and Holidays",
         "Wildlife tourism",
         "Travel, agent, tour operator",
         "Independent",
         "No",
         "No",
         "No",
         "No",
         "No",
         "No",
         "No",
         "7.0",
         "4.0",
         "Cash",
         "Yes",
         "No comments",
         "1657500.0"
        ]
       ],
       "shape": {
        "columns": 23,
        "rows": 5
       }
      },
      "text/html": [
       "<div>\n",
       "<style scoped>\n",
       "    .dataframe tbody tr th:only-of-type {\n",
       "        vertical-align: middle;\n",
       "    }\n",
       "\n",
       "    .dataframe tbody tr th {\n",
       "        vertical-align: top;\n",
       "    }\n",
       "\n",
       "    .dataframe thead th {\n",
       "        text-align: right;\n",
       "    }\n",
       "</style>\n",
       "<table border=\"1\" class=\"dataframe\">\n",
       "  <thead>\n",
       "    <tr style=\"text-align: right;\">\n",
       "      <th></th>\n",
       "      <th>ID</th>\n",
       "      <th>country</th>\n",
       "      <th>age_group</th>\n",
       "      <th>travel_with</th>\n",
       "      <th>total_female</th>\n",
       "      <th>total_male</th>\n",
       "      <th>purpose</th>\n",
       "      <th>main_activity</th>\n",
       "      <th>info_source</th>\n",
       "      <th>tour_arrangement</th>\n",
       "      <th>...</th>\n",
       "      <th>package_transport_tz</th>\n",
       "      <th>package_sightseeing</th>\n",
       "      <th>package_guided_tour</th>\n",
       "      <th>package_insurance</th>\n",
       "      <th>night_mainland</th>\n",
       "      <th>night_zanzibar</th>\n",
       "      <th>payment_mode</th>\n",
       "      <th>first_trip_tz</th>\n",
       "      <th>most_impressing</th>\n",
       "      <th>total_cost</th>\n",
       "    </tr>\n",
       "  </thead>\n",
       "  <tbody>\n",
       "    <tr>\n",
       "      <th>0</th>\n",
       "      <td>tour_0</td>\n",
       "      <td>SWIZERLAND</td>\n",
       "      <td>45-64</td>\n",
       "      <td>Friends/Relatives</td>\n",
       "      <td>1.0</td>\n",
       "      <td>1.0</td>\n",
       "      <td>Leisure and Holidays</td>\n",
       "      <td>Wildlife tourism</td>\n",
       "      <td>Friends, relatives</td>\n",
       "      <td>Independent</td>\n",
       "      <td>...</td>\n",
       "      <td>No</td>\n",
       "      <td>No</td>\n",
       "      <td>No</td>\n",
       "      <td>No</td>\n",
       "      <td>13.0</td>\n",
       "      <td>0.0</td>\n",
       "      <td>Cash</td>\n",
       "      <td>No</td>\n",
       "      <td>Friendly People</td>\n",
       "      <td>674602.5</td>\n",
       "    </tr>\n",
       "    <tr>\n",
       "      <th>1</th>\n",
       "      <td>tour_10</td>\n",
       "      <td>UNITED KINGDOM</td>\n",
       "      <td>25-44</td>\n",
       "      <td>NaN</td>\n",
       "      <td>1.0</td>\n",
       "      <td>0.0</td>\n",
       "      <td>Leisure and Holidays</td>\n",
       "      <td>Cultural tourism</td>\n",
       "      <td>others</td>\n",
       "      <td>Independent</td>\n",
       "      <td>...</td>\n",
       "      <td>No</td>\n",
       "      <td>No</td>\n",
       "      <td>No</td>\n",
       "      <td>No</td>\n",
       "      <td>14.0</td>\n",
       "      <td>7.0</td>\n",
       "      <td>Cash</td>\n",
       "      <td>Yes</td>\n",
       "      <td>Wonderful Country, Landscape, Nature</td>\n",
       "      <td>3214906.5</td>\n",
       "    </tr>\n",
       "    <tr>\n",
       "      <th>2</th>\n",
       "      <td>tour_1000</td>\n",
       "      <td>UNITED KINGDOM</td>\n",
       "      <td>25-44</td>\n",
       "      <td>Alone</td>\n",
       "      <td>0.0</td>\n",
       "      <td>1.0</td>\n",
       "      <td>Visiting Friends and Relatives</td>\n",
       "      <td>Cultural tourism</td>\n",
       "      <td>Friends, relatives</td>\n",
       "      <td>Independent</td>\n",
       "      <td>...</td>\n",
       "      <td>No</td>\n",
       "      <td>No</td>\n",
       "      <td>No</td>\n",
       "      <td>No</td>\n",
       "      <td>1.0</td>\n",
       "      <td>31.0</td>\n",
       "      <td>Cash</td>\n",
       "      <td>No</td>\n",
       "      <td>Excellent Experience</td>\n",
       "      <td>3315000.0</td>\n",
       "    </tr>\n",
       "    <tr>\n",
       "      <th>3</th>\n",
       "      <td>tour_1002</td>\n",
       "      <td>UNITED KINGDOM</td>\n",
       "      <td>25-44</td>\n",
       "      <td>Spouse</td>\n",
       "      <td>1.0</td>\n",
       "      <td>1.0</td>\n",
       "      <td>Leisure and Holidays</td>\n",
       "      <td>Wildlife tourism</td>\n",
       "      <td>Travel, agent, tour operator</td>\n",
       "      <td>Package Tour</td>\n",
       "      <td>...</td>\n",
       "      <td>Yes</td>\n",
       "      <td>Yes</td>\n",
       "      <td>Yes</td>\n",
       "      <td>No</td>\n",
       "      <td>11.0</td>\n",
       "      <td>0.0</td>\n",
       "      <td>Cash</td>\n",
       "      <td>Yes</td>\n",
       "      <td>Friendly People</td>\n",
       "      <td>7790250.0</td>\n",
       "    </tr>\n",
       "    <tr>\n",
       "      <th>4</th>\n",
       "      <td>tour_1004</td>\n",
       "      <td>CHINA</td>\n",
       "      <td>1-24</td>\n",
       "      <td>NaN</td>\n",
       "      <td>1.0</td>\n",
       "      <td>0.0</td>\n",
       "      <td>Leisure and Holidays</td>\n",
       "      <td>Wildlife tourism</td>\n",
       "      <td>Travel, agent, tour operator</td>\n",
       "      <td>Independent</td>\n",
       "      <td>...</td>\n",
       "      <td>No</td>\n",
       "      <td>No</td>\n",
       "      <td>No</td>\n",
       "      <td>No</td>\n",
       "      <td>7.0</td>\n",
       "      <td>4.0</td>\n",
       "      <td>Cash</td>\n",
       "      <td>Yes</td>\n",
       "      <td>No comments</td>\n",
       "      <td>1657500.0</td>\n",
       "    </tr>\n",
       "  </tbody>\n",
       "</table>\n",
       "<p>5 rows × 23 columns</p>\n",
       "</div>"
      ],
      "text/plain": [
       "          ID         country age_group        travel_with  total_female  \\\n",
       "0     tour_0      SWIZERLAND     45-64  Friends/Relatives           1.0   \n",
       "1    tour_10  UNITED KINGDOM     25-44                NaN           1.0   \n",
       "2  tour_1000  UNITED KINGDOM     25-44              Alone           0.0   \n",
       "3  tour_1002  UNITED KINGDOM     25-44             Spouse           1.0   \n",
       "4  tour_1004           CHINA      1-24                NaN           1.0   \n",
       "\n",
       "   total_male                         purpose     main_activity  \\\n",
       "0         1.0            Leisure and Holidays  Wildlife tourism   \n",
       "1         0.0            Leisure and Holidays  Cultural tourism   \n",
       "2         1.0  Visiting Friends and Relatives  Cultural tourism   \n",
       "3         1.0            Leisure and Holidays  Wildlife tourism   \n",
       "4         0.0            Leisure and Holidays  Wildlife tourism   \n",
       "\n",
       "                    info_source tour_arrangement  ... package_transport_tz  \\\n",
       "0            Friends, relatives      Independent  ...                   No   \n",
       "1                        others      Independent  ...                   No   \n",
       "2            Friends, relatives      Independent  ...                   No   \n",
       "3  Travel, agent, tour operator     Package Tour  ...                  Yes   \n",
       "4  Travel, agent, tour operator      Independent  ...                   No   \n",
       "\n",
       "  package_sightseeing package_guided_tour package_insurance night_mainland  \\\n",
       "0                  No                  No                No           13.0   \n",
       "1                  No                  No                No           14.0   \n",
       "2                  No                  No                No            1.0   \n",
       "3                 Yes                 Yes                No           11.0   \n",
       "4                  No                  No                No            7.0   \n",
       "\n",
       "  night_zanzibar payment_mode  first_trip_tz  \\\n",
       "0            0.0         Cash             No   \n",
       "1            7.0         Cash            Yes   \n",
       "2           31.0         Cash             No   \n",
       "3            0.0         Cash            Yes   \n",
       "4            4.0         Cash            Yes   \n",
       "\n",
       "                        most_impressing total_cost  \n",
       "0                       Friendly People   674602.5  \n",
       "1  Wonderful Country, Landscape, Nature  3214906.5  \n",
       "2                  Excellent Experience  3315000.0  \n",
       "3                       Friendly People  7790250.0  \n",
       "4                           No comments  1657500.0  \n",
       "\n",
       "[5 rows x 23 columns]"
      ]
     },
     "execution_count": 3,
     "metadata": {},
     "output_type": "execute_result"
    }
   ],
   "source": [
    "train.head()"
   ]
  },
  {
   "cell_type": "code",
   "execution_count": 4,
   "id": "2d9d583e",
   "metadata": {},
   "outputs": [
    {
     "name": "stdout",
     "output_type": "stream",
     "text": [
      "<class 'pandas.core.frame.DataFrame'>\n",
      "RangeIndex: 4809 entries, 0 to 4808\n",
      "Data columns (total 23 columns):\n",
      " #   Column                 Non-Null Count  Dtype  \n",
      "---  ------                 --------------  -----  \n",
      " 0   ID                     4809 non-null   object \n",
      " 1   country                4809 non-null   object \n",
      " 2   age_group              4809 non-null   object \n",
      " 3   travel_with            3695 non-null   object \n",
      " 4   total_female           4806 non-null   float64\n",
      " 5   total_male             4804 non-null   float64\n",
      " 6   purpose                4809 non-null   object \n",
      " 7   main_activity          4809 non-null   object \n",
      " 8   info_source            4809 non-null   object \n",
      " 9   tour_arrangement       4809 non-null   object \n",
      " 10  package_transport_int  4809 non-null   object \n",
      " 11  package_accomodation   4809 non-null   object \n",
      " 12  package_food           4809 non-null   object \n",
      " 13  package_transport_tz   4809 non-null   object \n",
      " 14  package_sightseeing    4809 non-null   object \n",
      " 15  package_guided_tour    4809 non-null   object \n",
      " 16  package_insurance      4809 non-null   object \n",
      " 17  night_mainland         4809 non-null   float64\n",
      " 18  night_zanzibar         4809 non-null   float64\n",
      " 19  payment_mode           4809 non-null   object \n",
      " 20  first_trip_tz          4809 non-null   object \n",
      " 21  most_impressing        4496 non-null   object \n",
      " 22  total_cost             4809 non-null   float64\n",
      "dtypes: float64(5), object(18)\n",
      "memory usage: 864.2+ KB\n"
     ]
    }
   ],
   "source": [
    "train.info()"
   ]
  },
  {
   "cell_type": "code",
   "execution_count": 5,
   "id": "5722140a",
   "metadata": {},
   "outputs": [
    {
     "data": {
      "text/plain": [
       "(4809, 23)"
      ]
     },
     "execution_count": 5,
     "metadata": {},
     "output_type": "execute_result"
    }
   ],
   "source": [
    "train.shape"
   ]
  },
  {
   "cell_type": "code",
   "execution_count": 5,
   "id": "b1117c7c",
   "metadata": {},
   "outputs": [
    {
     "data": {
      "application/vnd.microsoft.datawrangler.viewer.v0+json": {
       "columns": [
        {
         "name": "index",
         "rawType": "object",
         "type": "string"
        },
        {
         "name": "total_female",
         "rawType": "float64",
         "type": "float"
        },
        {
         "name": "total_male",
         "rawType": "float64",
         "type": "float"
        },
        {
         "name": "night_mainland",
         "rawType": "float64",
         "type": "float"
        },
        {
         "name": "night_zanzibar",
         "rawType": "float64",
         "type": "float"
        },
        {
         "name": "total_cost",
         "rawType": "float64",
         "type": "float"
        }
       ],
       "conversionMethod": "pd.DataFrame",
       "ref": "cfd3a665-47de-4b1c-991f-e85d4bec5b0b",
       "rows": [
        [
         "count",
         "4806.0",
         "4804.0",
         "4809.0",
         "4809.0",
         "4809.0"
        ],
        [
         "mean",
         "0.9267582188930503",
         "1.0095753538717736",
         "8.488043252235393",
         "2.30442919525889",
         "8114388.777617799"
        ],
        [
         "std",
         "1.2882417813482498",
         "1.1388653427603463",
         "10.42762436679136",
         "4.227079617414302",
         "12224903.251967419"
        ],
        [
         "min",
         "0.0",
         "0.0",
         "0.0",
         "0.0",
         "49000.0"
        ],
        [
         "25%",
         "0.0",
         "1.0",
         "3.0",
         "0.0",
         "812175.0"
        ],
        [
         "50%",
         "1.0",
         "1.0",
         "6.0",
         "0.0",
         "3397875.0"
        ],
        [
         "75%",
         "1.0",
         "1.0",
         "11.0",
         "4.0",
         "9945000.0"
        ],
        [
         "max",
         "49.0",
         "44.0",
         "145.0",
         "61.0",
         "99532875.0"
        ]
       ],
       "shape": {
        "columns": 5,
        "rows": 8
       }
      },
      "text/html": [
       "<div>\n",
       "<style scoped>\n",
       "    .dataframe tbody tr th:only-of-type {\n",
       "        vertical-align: middle;\n",
       "    }\n",
       "\n",
       "    .dataframe tbody tr th {\n",
       "        vertical-align: top;\n",
       "    }\n",
       "\n",
       "    .dataframe thead th {\n",
       "        text-align: right;\n",
       "    }\n",
       "</style>\n",
       "<table border=\"1\" class=\"dataframe\">\n",
       "  <thead>\n",
       "    <tr style=\"text-align: right;\">\n",
       "      <th></th>\n",
       "      <th>total_female</th>\n",
       "      <th>total_male</th>\n",
       "      <th>night_mainland</th>\n",
       "      <th>night_zanzibar</th>\n",
       "      <th>total_cost</th>\n",
       "    </tr>\n",
       "  </thead>\n",
       "  <tbody>\n",
       "    <tr>\n",
       "      <th>count</th>\n",
       "      <td>4806.000000</td>\n",
       "      <td>4804.000000</td>\n",
       "      <td>4809.000000</td>\n",
       "      <td>4809.000000</td>\n",
       "      <td>4.809000e+03</td>\n",
       "    </tr>\n",
       "    <tr>\n",
       "      <th>mean</th>\n",
       "      <td>0.926758</td>\n",
       "      <td>1.009575</td>\n",
       "      <td>8.488043</td>\n",
       "      <td>2.304429</td>\n",
       "      <td>8.114389e+06</td>\n",
       "    </tr>\n",
       "    <tr>\n",
       "      <th>std</th>\n",
       "      <td>1.288242</td>\n",
       "      <td>1.138865</td>\n",
       "      <td>10.427624</td>\n",
       "      <td>4.227080</td>\n",
       "      <td>1.222490e+07</td>\n",
       "    </tr>\n",
       "    <tr>\n",
       "      <th>min</th>\n",
       "      <td>0.000000</td>\n",
       "      <td>0.000000</td>\n",
       "      <td>0.000000</td>\n",
       "      <td>0.000000</td>\n",
       "      <td>4.900000e+04</td>\n",
       "    </tr>\n",
       "    <tr>\n",
       "      <th>25%</th>\n",
       "      <td>0.000000</td>\n",
       "      <td>1.000000</td>\n",
       "      <td>3.000000</td>\n",
       "      <td>0.000000</td>\n",
       "      <td>8.121750e+05</td>\n",
       "    </tr>\n",
       "    <tr>\n",
       "      <th>50%</th>\n",
       "      <td>1.000000</td>\n",
       "      <td>1.000000</td>\n",
       "      <td>6.000000</td>\n",
       "      <td>0.000000</td>\n",
       "      <td>3.397875e+06</td>\n",
       "    </tr>\n",
       "    <tr>\n",
       "      <th>75%</th>\n",
       "      <td>1.000000</td>\n",
       "      <td>1.000000</td>\n",
       "      <td>11.000000</td>\n",
       "      <td>4.000000</td>\n",
       "      <td>9.945000e+06</td>\n",
       "    </tr>\n",
       "    <tr>\n",
       "      <th>max</th>\n",
       "      <td>49.000000</td>\n",
       "      <td>44.000000</td>\n",
       "      <td>145.000000</td>\n",
       "      <td>61.000000</td>\n",
       "      <td>9.953288e+07</td>\n",
       "    </tr>\n",
       "  </tbody>\n",
       "</table>\n",
       "</div>"
      ],
      "text/plain": [
       "       total_female   total_male  night_mainland  night_zanzibar    total_cost\n",
       "count   4806.000000  4804.000000     4809.000000     4809.000000  4.809000e+03\n",
       "mean       0.926758     1.009575        8.488043        2.304429  8.114389e+06\n",
       "std        1.288242     1.138865       10.427624        4.227080  1.222490e+07\n",
       "min        0.000000     0.000000        0.000000        0.000000  4.900000e+04\n",
       "25%        0.000000     1.000000        3.000000        0.000000  8.121750e+05\n",
       "50%        1.000000     1.000000        6.000000        0.000000  3.397875e+06\n",
       "75%        1.000000     1.000000       11.000000        4.000000  9.945000e+06\n",
       "max       49.000000    44.000000      145.000000       61.000000  9.953288e+07"
      ]
     },
     "execution_count": 5,
     "metadata": {},
     "output_type": "execute_result"
    }
   ],
   "source": [
    "train.describe()"
   ]
  },
  {
   "cell_type": "code",
   "execution_count": 6,
   "id": "bcca60c1",
   "metadata": {},
   "outputs": [
    {
     "data": {
      "text/plain": [
       "['ID',\n",
       " 'country',\n",
       " 'age_group',\n",
       " 'travel_with',\n",
       " 'purpose',\n",
       " 'main_activity',\n",
       " 'info_source',\n",
       " 'tour_arrangement',\n",
       " 'package_transport_int',\n",
       " 'package_accomodation',\n",
       " 'package_food',\n",
       " 'package_transport_tz',\n",
       " 'package_sightseeing',\n",
       " 'package_guided_tour',\n",
       " 'package_insurance',\n",
       " 'payment_mode',\n",
       " 'first_trip_tz',\n",
       " 'most_impressing']"
      ]
     },
     "execution_count": 6,
     "metadata": {},
     "output_type": "execute_result"
    }
   ],
   "source": [
    "cat_features = train.select_dtypes(include=\"object\").columns.to_list()\n",
    "cat_features"
   ]
  },
  {
   "cell_type": "code",
   "execution_count": 7,
   "id": "4514419d",
   "metadata": {},
   "outputs": [
    {
     "data": {
      "text/plain": [
       "['total_female',\n",
       " 'total_male',\n",
       " 'night_mainland',\n",
       " 'night_zanzibar',\n",
       " 'total_cost']"
      ]
     },
     "execution_count": 7,
     "metadata": {},
     "output_type": "execute_result"
    }
   ],
   "source": [
    "\n",
    "num_features = train.select_dtypes(include=\"number\").columns.to_list()\n",
    "num_features"
   ]
  },
  {
   "cell_type": "code",
   "execution_count": 8,
   "id": "4f68b489",
   "metadata": {},
   "outputs": [],
   "source": [
    "train[\"total_female\"] = train[\"total_female\"].mean()"
   ]
  },
  {
   "cell_type": "code",
   "execution_count": 9,
   "id": "4d6ecb97",
   "metadata": {},
   "outputs": [],
   "source": [
    "train[\"total_female\"] = train[\"total_female\"].fillna(\n",
    "    train[\"total_female\"].mean())\n",
    "train[\"total_female\"] = train[\"total_female\"].fillna(\n",
    "    train[\"total_female\"].mean())\n",
    "train[\"total_male\"] = train[\"total_male\"].fillna(train[\"total_male\"].mean())"
   ]
  },
  {
   "cell_type": "markdown",
   "id": "c54d28bf",
   "metadata": {},
   "source": [
    "## Exploratory Data Analysis Practice: Tanzania Tourism Dataset\n",
    "\n",
    "##### 1. **Missing Values Analysis**\n",
    "\n",
    "**_Task_**:\n",
    "\n",
    "Visualize the proportion of missing values for each feature using a bar chart.\n",
    "\n",
    "**Experimental Question:**\n",
    "\n",
    "- Which features have the highest proportion of missing values, and how might this affect the reliability of our analysis?\n",
    "\n",
    "- Are the missing values random, or do they show a pattern related to specific types of visitors or variables?\n"
   ]
  },
  {
   "cell_type": "code",
   "execution_count": 10,
   "id": "9c8e7c5a",
   "metadata": {},
   "outputs": [
    {
     "data": {
      "image/png": "[encoded data removed]",
      "text/plain": [
       "<Figure size 1200x600 with 1 Axes>"
      ]
     },
     "metadata": {},
     "output_type": "display_data"
    }
   ],
   "source": [
    "# Calculate the proportion of missing values for each feature\n",
    "missing_values = train.isnull().mean()\n",
    "\n",
    "# Plot the missing values as a bar chart\n",
    "# Set the figure size for better readability. This line sets the size of the figure to 12 inches wide and 6 inches tall, which helps in making the plot more readable and visually appealing.\n",
    "plt.figure(figsize=(12, 6))\n",
    "\n",
    "\n",
    "plt.bar(missing_values.index, missing_values.values,\n",
    "        color='green')  # Create a bar chart with green color\n",
    "# Create a bar chart with green color\n",
    "missing_values.plot(kind='bar', color='green')\n",
    "\n",
    "# Set the title of the chart\n",
    "plt.title('Proportion of Missing Values by Feature')\n",
    "plt.xlabel('Features')  # Label the x-axis\n",
    "plt.ylabel('Proportion of Missing Values')  # Label the y-axis\n",
    "\n",
    "# Rotate x-axis labels for better readability\n",
    "plt.xticks(rotation=45, ha='right')\n",
    "\n",
    "plt.show()  # Display the plot"
   ]
  },
  {
   "cell_type": "code",
   "execution_count": 11,
   "id": "ec8a0bb4",
   "metadata": {},
   "outputs": [
    {
     "data": {
      "text/plain": [
       "ID                  4809\n",
       "country              105\n",
       "main_activity          9\n",
       "info_source            8\n",
       "purpose                7\n",
       "most_impressing        7\n",
       "travel_with            5\n",
       "age_group              4\n",
       "payment_mode           4\n",
       "tour_arrangement       2\n",
       "dtype: int64"
      ]
     },
     "execution_count": 11,
     "metadata": {},
     "output_type": "execute_result"
    }
   ],
   "source": [
    "# count the number of unique values in each categorical feature\n",
    "\n",
    "# Sort the unique values in descending order and display the top 10\n",
    "train[cat_features].nunique().sort_values(ascending=False).head(10)"
   ]
  },
  {
   "cell_type": "markdown",
   "id": "0b0e4449",
   "metadata": {},
   "source": [
    "#### 2. **Categorical Feature Distribution**\n",
    "\n",
    "Task:\n",
    "\n",
    "Visualize the distribution of values for each categorical variable using bar charts with target variable.\n",
    "\n",
    "Experimental Questions:\n",
    "\n",
    "- What are the most common categories in each variable (e.g., who do tourists most often travel with? What is the most common purpose of visit)?\n",
    "\n",
    "- Are there any categories that are underrepresented or surprisingly dominant?\n",
    "\n",
    "- Are any features heavily imbalanced, possibly requiring re-grouping or adjustment in future modeling?\n"
   ]
  },
  {
   "cell_type": "code",
   "execution_count": 12,
   "id": "02641500",
   "metadata": {},
   "outputs": [
    {
     "name": "stdout",
     "output_type": "stream",
     "text": [
      "Categorical Columns:\n",
      "ID\n",
      "country\n",
      "age_group\n",
      "travel_with\n",
      "purpose\n",
      "main_activity\n",
      "info_source\n",
      "tour_arrangement\n",
      "package_transport_int\n",
      "package_accomodation\n",
      "package_food\n",
      "package_transport_tz\n",
      "package_sightseeing\n",
      "package_guided_tour\n",
      "package_insurance\n",
      "payment_mode\n",
      "first_trip_tz\n",
      "most_impressing\n"
     ]
    }
   ],
   "source": [
    "# Get categorical columns\n",
    "categorical_columns = train.columns[train.dtypes == 'object'].tolist()\n",
    "# This filters the columns in the dataset train where the data type is object, which typically indicates text or categorical data. The result is a list of column names that contain categorical data\n",
    "\n",
    "# Print the categorical columns\n",
    "print(\"Categorical Columns:\")\n",
    "for col in categorical_columns:\n",
    "    print(col)"
   ]
  },
  {
   "cell_type": "code",
   "execution_count": null,
   "id": "bf7249e6",
   "metadata": {},
   "outputs": [],
   "source": [
    "# Visualize the distribution of values for each categorical variable\n",
    "for column in categorical_columns:\n",
    "    plt.figure(figsize=(10, 6))\n",
    "    sns.countplot(data=train, x=column, hue='purpose', palette='viridis')\n",
    "    plt.title(f'Distribution of {column} with Purpose')\n",
    "    plt.xticks(rotation=45, ha='right')\n",
    "    plt.xlabel(column)\n",
    "    plt.ylabel('Count')\n",
    "    plt.legend(title='Purpose')\n",
    "    plt.tight_layout()  # Adjust layout to prevent clipping of tick-labels\n",
    "    plt.show()"
   ]
  },
  {
   "cell_type": "markdown",
   "id": "f335aa72",
   "metadata": {},
   "source": [
    "### 3. **_Descriptive Statistics for Categorical Features_**\n",
    "\n",
    "Task:\n",
    "\n",
    "Generate a statistical summary for all categorical features using the .describe() method.\n",
    "\n",
    "Experimental Questions:\n",
    "\n",
    "- What is the most frequently occurring category in each feature, and what might this indicate about tourist behavior?\n",
    "\n",
    "- Do certain features show high or low diversity in values (e.g., many unique values vs. few repeated ones)?\n",
    "\n",
    "- Are there features where the top category dominates disproportionately?\n"
   ]
  },
  {
   "cell_type": "code",
   "execution_count": 5,
   "id": "7f7ce8ef",
   "metadata": {},
   "outputs": [
    {
     "ename": "NameError",
     "evalue": "name 'categorical_columns' is not defined",
     "output_type": "error",
     "traceback": [
      "\u001b[31m---------------------------------------------------------------------------\u001b[39m",
      "\u001b[31mNameError\u001b[39m                                 Traceback (most recent call last)",
      "\u001b[36mCell\u001b[39m\u001b[36m \u001b[39m\u001b[32mIn[5]\u001b[39m\u001b[32m, line 2\u001b[39m\n\u001b[32m      1\u001b[39m \u001b[38;5;66;03m# Generate a statistical summary for all categorical features\u001b[39;00m\n\u001b[32m----> \u001b[39m\u001b[32m2\u001b[39m categorical_summary = train[\u001b[43mcategorical_columns\u001b[49m].describe()\n\u001b[32m      4\u001b[39m \u001b[38;5;66;03m# Display the summary\u001b[39;00m\n\u001b[32m      5\u001b[39m \u001b[38;5;28mprint\u001b[39m(categorical_summary)\n",
      "\u001b[31mNameError\u001b[39m: name 'categorical_columns' is not defined"
     ]
    }
   ],
   "source": [
    "# Generate a statistical summary for all categorical features\n",
    "categorical_summary = train[categorical_columns].describe()\n",
    "\n",
    "# Display the summary\n",
    "print(categorical_summary)"
   ]
  },
  {
   "cell_type": "code",
   "execution_count": 42,
   "id": "e27aa659",
   "metadata": {},
   "outputs": [
    {
     "name": "stdout",
     "output_type": "stream",
     "text": [
      "Most Frequently Occurring Categories:\n",
      "ID                          1\n",
      "country                   695\n",
      "age_group                2487\n",
      "travel_with              1265\n",
      "purpose                  2840\n",
      "main_activity            2259\n",
      "info_source              1913\n",
      "tour_arrangement         2570\n",
      "package_transport_int    3357\n",
      "package_accomodation     2602\n",
      "package_food             2748\n",
      "package_transport_tz     2919\n",
      "package_sightseeing      3319\n",
      "package_guided_tour      3259\n",
      "package_insurance        4079\n",
      "payment_mode             4172\n",
      "first_trip_tz            3243\n",
      "most_impressing          1541\n",
      "Name: freq, dtype: object\n"
     ]
    }
   ],
   "source": [
    "# Extract the most frequently occurring category for each categorical feature\n",
    "most_frequent_categories = categorical_summary.loc['freq']\n",
    "\n",
    "# Display the most frequent categories\n",
    "print(\"Most Frequently Occurring Categories:\")\n",
    "print(most_frequent_categories)"
   ]
  },
  {
   "cell_type": "markdown",
   "id": "73dcd35b",
   "metadata": {},
   "source": [
    "#### **4. Boxplot of Total Cost by Age Group and Categorical Variables**\n",
    "\n",
    "Task:\n",
    "\n",
    "Create boxplots to analyze how total_cost varies by age_group across the following variables:\n",
    "\n",
    "- travel_with\n",
    "- purpose\n",
    "- info_source\n",
    "- payment_mode\n",
    "- main_activity\n",
    "\n",
    "Experimental Questions:\n",
    "\n",
    "- How does the spending behavior vary across different age group\n",
    "\n",
    "- Do certain travel companions (e.g., traveling alone vs. with family) influence cost significantly within each age group?\n",
    "\n",
    "- Are specific purposes of travel (e.g., leisure vs. business) associated with higher spending, and does this vary by age?\n",
    "\n",
    "- Do the sources of travel information or payment methods correlate with higher or lower costs?\n",
    "\n",
    "- Which main tourism activities are associated with the highest spending, and are younger or older tourists more likely to engage in them?\n"
   ]
  },
  {
   "cell_type": "code",
   "execution_count": 4,
   "id": "ca6019de",
   "metadata": {},
   "outputs": [
    {
     "ename": "NameError",
     "evalue": "name 'categorical_columns' is not defined",
     "output_type": "error",
     "traceback": [
      "\u001b[31m---------------------------------------------------------------------------\u001b[39m",
      "\u001b[31mNameError\u001b[39m                                 Traceback (most recent call last)",
      "\u001b[36mCell\u001b[39m\u001b[36m \u001b[39m\u001b[32mIn[4]\u001b[39m\u001b[32m, line 2\u001b[39m\n\u001b[32m      1\u001b[39m \u001b[38;5;66;03m# Create boxplots for total_cost by age_group across specified categorical variables\u001b[39;00m\n\u001b[32m----> \u001b[39m\u001b[32m2\u001b[39m \u001b[38;5;28;01mfor\u001b[39;00m column \u001b[38;5;129;01min\u001b[39;00m \u001b[43mcategorical_columns\u001b[49m:\n\u001b[32m      3\u001b[39m     plt.figure(figsize=(\u001b[32m12\u001b[39m, \u001b[32m6\u001b[39m))\n\u001b[32m      4\u001b[39m     sns.boxplot(data=train, x=\u001b[33m'\u001b[39m\u001b[33mage_group\u001b[39m\u001b[33m'\u001b[39m, y=\u001b[33m'\u001b[39m\u001b[33mtotal_cost\u001b[39m\u001b[33m'\u001b[39m, hue=column)\n",
      "\u001b[31mNameError\u001b[39m: name 'categorical_columns' is not defined"
     ]
    }
   ],
   "source": [
    "# Create boxplots for total_cost by age_group across specified categorical variables\n",
    "for column in categorical_columns:\n",
    "    plt.figure(figsize=(12, 6))\n",
    "    sns.boxplot(data=train, x='age_group', y='total_cost', hue=column)\n",
    "    plt.title(f'Total Cost by Age Group and {column}')\n",
    "    plt.xlabel('Age Group')\n",
    "    plt.ylabel('Total Cost')\n",
    "    plt.legend(title=column, bbox_to_anchor=(1.05, 1), loc='upper left')\n",
    "    plt.tight_layout()\n",
    "    plt.show()"
   ]
  },
  {
   "cell_type": "markdown",
   "id": "84ec89fb",
   "metadata": {},
   "source": [
    "##### **5. Subset Analysis: Ethiopian Tourists**\n",
    "\n",
    "Task:\n",
    "\n",
    "- Filter the dataset to focus on tourists from Ethiopia. Perform EDA specific to this subgroup.\n",
    "\n",
    "Experimental Questions:\n",
    "\n",
    "- What are the most common age groups, travel companions, and purposes of visit among Ethiopian tourists?\n",
    "\n",
    "- How does the spending pattern of Ethiopian tourists compare to the overall dataset?\n",
    "\n",
    "- Are there notable differences in the preferred activities or payment methods for Ethiopian tourists?\n",
    "\n",
    "- Does this group show any unique trends or behaviors that may inform targeted marketing or tourism policy?\n"
   ]
  },
  {
   "cell_type": "code",
   "execution_count": null,
   "id": "11c8c385",
   "metadata": {},
   "outputs": [
    {
     "name": "stdout",
     "output_type": "stream",
     "text": [
      "Ethiopian Tourists Dataset Overview:\n",
      "<class 'pandas.core.frame.DataFrame'>\n",
      "Index: 6 entries, 512 to 4554\n",
      "Data columns (total 23 columns):\n",
      " #   Column                 Non-Null Count  Dtype  \n",
      "---  ------                 --------------  -----  \n",
      " 0   ID                     6 non-null      object \n",
      " 1   country                6 non-null      object \n",
      " 2   age_group              6 non-null      object \n",
      " 3   travel_with            3 non-null      object \n",
      " 4   total_female           6 non-null      float64\n",
      " 5   total_male             6 non-null      float64\n",
      " 6   purpose                6 non-null      object \n",
      " 7   main_activity          6 non-null      object \n",
      " 8   info_source            6 non-null      object \n",
      " 9   tour_arrangement       6 non-null      object \n",
      " 10  package_transport_int  6 non-null      object \n",
      " 11  package_accomodation   6 non-null      object \n",
      " 12  package_food           6 non-null      object \n",
      " 13  package_transport_tz   6 non-null      object \n",
      " 14  package_sightseeing    6 non-null      object \n",
      " 15  package_guided_tour    6 non-null      object \n",
      " 16  package_insurance      6 non-null      object \n",
      " 17  night_mainland         6 non-null      float64\n",
      " 18  night_zanzibar         6 non-null      float64\n",
      " 19  payment_mode           6 non-null      object \n",
      " 20  first_trip_tz          6 non-null      object \n",
      " 21  most_impressing        6 non-null      object \n",
      " 22  total_cost             6 non-null      float64\n",
      "dtypes: float64(5), object(18)\n",
      "memory usage: 1.1+ KB\n",
      "None\n",
      "\n",
      "Most Common Age Groups:\n",
      "age_group\n",
      "25-44    4\n",
      "45-64    2\n",
      "Name: count, dtype: int64\n",
      "\n",
      "Most Common Travel Companions:\n",
      "travel_with\n",
      "Friends/Relatives    2\n",
      "Alone                1\n",
      "Name: count, dtype: int64\n",
      "\n",
      "Most Common Purposes of Visit:\n",
      "purpose\n",
      "Meetings and Conference    6\n",
      "Name: count, dtype: int64\n",
      "\n",
      "Spending Pattern Comparison:\n",
      "Average Total Cost (Ethiopian Tourists): 2574926.25\n",
      "Average Total Cost (Overall): 8114388.777617799\n",
      "\n",
      "Preferred Main Activities:\n",
      "main_activity\n",
      "Mountain climbing    5\n",
      "Beach tourism        1\n",
      "Name: count, dtype: int64\n",
      "\n",
      "Preferred Payment Methods:\n",
      "payment_mode\n",
      "Cash           4\n",
      "Credit Card    2\n",
      "Name: count, dtype: int64\n"
     ]
    },
    {
     "name": "stderr",
     "output_type": "stream",
     "text": [
      "C:\\Users\\HP\\AppData\\Local\\Temp\\ipykernel_30320\\1311805317.py:32: FutureWarning: \n",
      "\n",
      "Passing `palette` without assigning `hue` is deprecated and will be removed in v0.14.0. Assign the `x` variable to `hue` and set `legend=False` for the same effect.\n",
      "\n",
      "  sns.boxplot(data=ethiopian_tourists, x='age_group', y='total_cost', palette='Set2')\n"
     ]
    },
    {
     "data": {
      "image/png": "[encoded data removed]",
      "text/plain": [
       "<Figure size 1000x600 with 1 Axes>"
      ]
     },
     "metadata": {},
     "output_type": "display_data"
    }
   ],
   "source": [
    "# Filter the dataset for Ethiopian tourists\n",
    "ethiopian_tourists = train[train['country'] == 'ETHIOPIA']\n",
    "\n",
    "# Display basic information about the subset\n",
    "print(\"Ethiopian Tourists Dataset Overview:\")\n",
    "print(ethiopian_tourists.info())\n",
    "\n",
    "# Analyze the most common age groups, travel companions, and purposes of visit\n",
    "print(\"\\nMost Common Age Groups:\")\n",
    "print(ethiopian_tourists['age_group'].value_counts())\n",
    "\n",
    "print(\"\\nMost Common Travel Companions:\")\n",
    "print(ethiopian_tourists['travel_with'].value_counts())\n",
    "\n",
    "print(\"\\nMost Common Purposes of Visit:\")\n",
    "print(ethiopian_tourists['purpose'].value_counts())\n",
    "\n",
    "# Compare spending patterns\n",
    "print(\"\\nSpending Pattern Comparison:\")\n",
    "print(\"Average Total Cost (Ethiopian Tourists):\",\n",
    "      ethiopian_tourists['total_cost'].mean())\n",
    "print(\"Average Total Cost (Overall):\", df['total_cost'].mean())\n",
    "\n",
    "# Analyze preferred activities and payment methods\n",
    "print(\"\\nPreferred Main Activities:\")\n",
    "print(ethiopian_tourists['main_activity'].value_counts())\n",
    "\n",
    "print(\"\\nPreferred Payment Methods:\")\n",
    "print(ethiopian_tourists['payment_mode'].value_counts())\n",
    "\n",
    "# Visualize spending patterns\n",
    "plt.figure(figsize=(10, 6))\n",
    "sns.boxplot(data=ethiopian_tourists, x='age_group',\n",
    "            y='total_cost', palette='Set2')\n",
    "plt.title('Spending Patterns by Age Group (Ethiopian Tourists)')\n",
    "plt.xlabel('Age Group')\n",
    "plt.ylabel('Total Cost')\n",
    "plt.xticks(rotation=45, ha='right')\n",
    "plt.tight_layout()\n",
    "plt.show()"
   ]
  },
  {
   "cell_type": "markdown",
   "id": "1b5edab0",
   "metadata": {},
   "source": [
    "\n"
   ]
  }
 ],
 "metadata": {
  "kernelspec": {
   "display_name": "Python 3",
   "language": "python",
   "name": "python3"
  },
  "language_info": {
   "codemirror_mode": {
    "name": "ipython",
    "version": 3
   },
   "file_extension": ".py",
   "mimetype": "text/x-python",
   "name": "python",
   "nbconvert_exporter": "python",
   "pygments_lexer": "ipython3",
   "version": "3.13.2"
  }
 },
 "nbformat": 4,
 "nbformat_minor": 5
}
